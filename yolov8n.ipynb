{
  "nbformat": 4,
  "nbformat_minor": 0,
  "metadata": {
    "colab": {
      "provenance": [],
      "gpuType": "T4",
      "mount_file_id": "1Am4mWprREXxCbqlorviepWRSqX224RqC",
      "authorship_tag": "ABX9TyNgK3g0qvOspo//T528YFPg",
      "include_colab_link": true
    },
    "kernelspec": {
      "name": "python3",
      "display_name": "Python 3"
    },
    "language_info": {
      "name": "python"
    },
    "accelerator": "GPU"
  },
  "cells": [
    {
      "cell_type": "markdown",
      "metadata": {
        "id": "view-in-github",
        "colab_type": "text"
      },
      "source": [
        "<a href=\"https://colab.research.google.com/github/amal-gafoor/license-plate-detection/blob/main/yolov8n.ipynb\" target=\"_parent\"><img src=\"https://colab.research.google.com/assets/colab-badge.svg\" alt=\"Open In Colab\"/></a>"
      ]
    },
    {
      "cell_type": "code",
      "source": [
        "from google.colab import drive\n",
        "drive.mount('/content/drive')"
      ],
      "metadata": {
        "id": "Waa0qjcxkg_O"
      },
      "execution_count": null,
      "outputs": []
    },
    {
      "cell_type": "markdown",
      "source": [
        "# model building"
      ],
      "metadata": {
        "id": "UcaOno97VBnZ"
      }
    },
    {
      "cell_type": "code",
      "source": [
        "import os\n",
        "os.chdir('/content/drive/MyDrive/yolov8n')"
      ],
      "metadata": {
        "id": "yhnppsJnlgC-"
      },
      "execution_count": null,
      "outputs": []
    },
    {
      "cell_type": "code",
      "source": [
        "!pip install roboflow\n",
        "\n",
        "from roboflow import Roboflow\n",
        "rf = Roboflow(api_key=\"nl32Kt3DDnnXJHJUrZoL\")\n",
        "project = rf.workspace(\"mochoye\").project(\"license-plate-detector-ogxxg\")\n",
        "version = project.version(2)\n",
        "dataset = version.download(\"yolov8\")\n"
      ],
      "metadata": {
        "collapsed": true,
        "id": "VHUyLd9Nl5Hf"
      },
      "execution_count": null,
      "outputs": []
    },
    {
      "cell_type": "code",
      "source": [
        "dir_path='/content/drive/MyDrive/yolov8n/License-Plate-Detector-2'"
      ],
      "metadata": {
        "id": "XKtoBdfNmn0o"
      },
      "execution_count": null,
      "outputs": []
    },
    {
      "cell_type": "code",
      "source": [
        "!pip install ultralytics"
      ],
      "metadata": {
        "collapsed": true,
        "id": "0lHGcFctm2YK"
      },
      "execution_count": null,
      "outputs": []
    },
    {
      "cell_type": "code",
      "execution_count": null,
      "metadata": {
        "collapsed": true,
        "id": "rb-7xYiqb87U"
      },
      "outputs": [],
      "source": [
        "from ultralytics import YOLO\n",
        "\n",
        "# Load a COCO-pretrained YOLOv8n model\n",
        "model = YOLO(\"yolov8n.yaml\")\n",
        "\n",
        "# Train the model on the COCO8 example dataset for 100 epochs\n",
        "results = model.train(data=os.path.join(dir_path,\"converted.yaml\"), epochs=100)\n"
      ]
    },
    {
      "cell_type": "code",
      "source": [
        "import shutil\n",
        "shutil.copy('/content/drive/MyDrive/yolov8n/runs/detect/train2/weights/best.pt','/content/drive/MyDrive/yolov8n/License-Plate-Detector-2/yolov8n_model.pt')"
      ],
      "metadata": {
        "id": "V8VonIx28iDQ",
        "collapsed": true
      },
      "execution_count": null,
      "outputs": []
    },
    {
      "cell_type": "markdown",
      "source": [
        "# prediction"
      ],
      "metadata": {
        "id": "si_2HaBKjYIJ"
      }
    },
    {
      "cell_type": "code",
      "source": [
        "from google.colab import drive\n",
        "drive.mount('/content/drive')"
      ],
      "metadata": {
        "collapsed": true,
        "id": "pastoNQFjKPn"
      },
      "execution_count": null,
      "outputs": []
    },
    {
      "cell_type": "code",
      "source": [
        "!pip install ultralytics\n",
        "!pip install easyocr"
      ],
      "metadata": {
        "collapsed": true,
        "id": "jWia_BmEjGum"
      },
      "execution_count": null,
      "outputs": []
    },
    {
      "cell_type": "code",
      "source": [
        "from ultralytics import YOLO\n",
        "model=YOLO('/content/drive/MyDrive/yolov8n/License-Plate-Detector-2/yolov8n_model.pt')"
      ],
      "metadata": {
        "id": "S2aGn6T8_EDR"
      },
      "execution_count": null,
      "outputs": []
    },
    {
      "cell_type": "code",
      "source": [
        "# libreries\n",
        "import cv2\n",
        "import easyocr\n",
        "from google.colab.patches import cv2_imshow\n",
        "\n",
        "# initializing reader\n",
        "reader=easyocr.Reader(['en'])\n",
        "\n",
        "# write directions\n",
        "img_save_path='/content/drive/MyDrive/yolov8n/License-Plate-Detector-2/pred image/img1.jpg'\n",
        "vid_save_path='/content/drive/MyDrive/yolov8n/License-Plate-Detector-2/pred video/vid1.mp4'\n",
        "\n",
        "# image detection\n",
        "def img_detection(img_path):\n",
        "  img=cv2.imread(img_path)\n",
        "  pred_img=model.predict(img)[0]\n",
        "\n",
        "  # drawing bountion boxes\n",
        "  for box in pred_img.boxes:\n",
        "    x1,y1,x2,y2=map(int,box.xyxy[0])\n",
        "    crop=img[y1:y2,x1:x2]\n",
        "\n",
        "    ocr_result=reader.readtext(crop)\n",
        "    if ocr_result:\n",
        "      text=ocr_result[0][-2] # [([cardinates],text,confidence)]\n",
        "      cv2.rectangle(img,(x1,y1),(x2,y2),(0,255,0),2)\n",
        "      w,h=cv2.getTextSize(text,cv2.FONT_HERSHEY_SIMPLEX,1,2)[0] #[0] because (textsize,baseline) format\n",
        "      rect_x1 = x1\n",
        "      rect_y1 = y1 - h - 10  # 10px padding above box\n",
        "      rect_x2 = x1 + w + 6    # 6px padding on sides\n",
        "      rect_y2 = y1\n",
        "\n",
        "      if rect_x1 < 0:\n",
        "          rect_x1 = 0\n",
        "\n",
        "      if rect_y1 < 0:\n",
        "          rect_y1 = 0\n",
        "\n",
        "      cv2.rectangle(img,(rect_x1,rect_y1),(rect_x2,rect_y2),(0,255,0),-1)\n",
        "      cv2.putText(img,text,(rect_x1+3,y1-5),cv2.FONT_HERSHEY_SIMPLEX,1,(0,0,0),2)\n",
        "  # cv2_imshow(img)\n",
        "  # cv2.waitKey(0)\n",
        "  # cv2.destroyAllWindows()\n",
        "  cv2.imwrite(img_save_path,img)\n",
        "  return\n",
        "\n",
        "# video detection\n",
        "def vid_detection(vid_path):\n",
        "  cap=cv2.VideoCapture(vid_path)\n",
        "  frame_width=int(cap.get(cv2.CAP_PROP_FRAME_WIDTH))\n",
        "  frame_height=int(cap.get(cv2.CAP_PROP_FRAME_HEIGHT))\n",
        "  fps=int(cap.get(cv2.CAP_PROP_FPS))\n",
        "  fourcc=cv2.VideoWriter_fourcc(*'mp4v')\n",
        "  out=cv2.VideoWriter(vid_save_path,fourcc,fps,(frame_width,frame_height))\n",
        "\n",
        "  while True:\n",
        "    ret,frame=cap.read()\n",
        "    if not ret:\n",
        "      break\n",
        "    pred_img=model.predict(frame)[0]\n",
        "    for box in pred_img.boxes:\n",
        "      x1,y1,x2,y2=map(int,box.xyxy[0])\n",
        "      crop=frame[y1:y2,x1:x2]\n",
        "\n",
        "      ocr_result=reader.readtext(crop)\n",
        "      if ocr_result:\n",
        "        text=ocr_result[0][-2] # [([cardinates],text,confidence)]\n",
        "        cv2.rectangle(frame,(x1,y1),(x2,y2),(0,255,0),2)\n",
        "        w,h=cv2.getTextSize(text,cv2.FONT_HERSHEY_SIMPLEX,1,2)[0]\n",
        "        rect_x1 = x1\n",
        "        rect_y1 = y1 - h - 10\n",
        "        rect_x2 = x1 + w + 6\n",
        "        rect_y2 = y1\n",
        "\n",
        "        if rect_x1<0:\n",
        "          rect_x1=0\n",
        "\n",
        "        if rect_y1<0:\n",
        "          rect_y1=0\n",
        "\n",
        "        cv2.rectangle(frame,(rect_x1,rect_y1),(rect_x2,rect_y2),(0,255,0),-1)\n",
        "        cv2.putText(frame,text,(rect_x1+3,y1-5),cv2.FONT_HERSHEY_SIMPLEX,1,(0,0,0),2)\n",
        "    # cv2_imshow(frame)\n",
        "    out.write(frame)\n",
        "  cap.release()\n",
        "  # cap.destroyAllWindows()\n",
        "  return\n",
        "\n",
        "while True:\n",
        "  choice=input('img or vid: ')\n",
        "  if choice=='img':\n",
        "    img_input_path=input('enter image path: ')\n",
        "    img_detection(img_input_path)\n",
        "    break\n",
        "  elif choice=='vid':\n",
        "    vid_input_path=input('enter video path: ')\n",
        "    vid_detection(vid_input_path)\n",
        "    break\n",
        "  else:\n",
        "    print('invalid input')\n",
        "\n"
      ],
      "metadata": {
        "collapsed": true,
        "id": "wbN0CyRF_dNH"
      },
      "execution_count": null,
      "outputs": []
    }
  ]
}