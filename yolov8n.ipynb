{
  "nbformat": 4,
  "nbformat_minor": 0,
  "metadata": {
    "colab": {
      "provenance": [],
      "gpuType": "T4",
      "mount_file_id": "1Am4mWprREXxCbqlorviepWRSqX224RqC",
      "authorship_tag": "ABX9TyNrAmUhw6pb0uYp/q7zIDD9",
      "include_colab_link": true
    },
    "kernelspec": {
      "name": "python3",
      "display_name": "Python 3"
    },
    "language_info": {
      "name": "python"
    },
    "accelerator": "GPU"
  },
  "cells": [
    {
      "cell_type": "markdown",
      "metadata": {
        "id": "view-in-github",
        "colab_type": "text"
      },
      "source": [
        "<a href=\"https://colab.research.google.com/github/amal-gafoor/license-plate-detection/blob/main/yolov8n.ipynb\" target=\"_parent\"><img src=\"https://colab.research.google.com/assets/colab-badge.svg\" alt=\"Open In Colab\"/></a>"
      ]
    },
    {
      "cell_type": "code",
      "source": [
        "from google.colab import drive\n",
        "drive.mount('/content/drive')"
      ],
      "metadata": {
        "id": "Waa0qjcxkg_O"
      },
      "execution_count": null,
      "outputs": []
    },
    {
      "cell_type": "markdown",
      "source": [
        "# model building"
      ],
      "metadata": {
        "id": "UcaOno97VBnZ"
      }
    },
    {
      "cell_type": "code",
      "source": [
        "import os\n",
        "os.chdir('/content/drive/MyDrive/yolov8n')"
      ],
      "metadata": {
        "id": "yhnppsJnlgC-"
      },
      "execution_count": null,
      "outputs": []
    },
    {
      "cell_type": "code",
      "source": [
        "!pip install roboflow\n",
        "\n",
        "from roboflow import Roboflow\n",
        "rf = Roboflow(api_key=\"nl32Kt3DDnnXJHJUrZoL\")\n",
        "project = rf.workspace(\"mochoye\").project(\"license-plate-detector-ogxxg\")\n",
        "version = project.version(2)\n",
        "dataset = version.download(\"yolov8\")\n"
      ],
      "metadata": {
        "colab": {
          "base_uri": "https://localhost:8080/"
        },
        "collapsed": true,
        "id": "VHUyLd9Nl5Hf",
        "outputId": "958f1614-f8b0-46a7-98c8-d67f0f42a359"
      },
      "execution_count": null,
      "outputs": [
        {
          "output_type": "stream",
          "name": "stdout",
          "text": [
            "Collecting roboflow\n",
            "  Downloading roboflow-1.1.63-py3-none-any.whl.metadata (9.7 kB)\n",
            "Requirement already satisfied: certifi in /usr/local/lib/python3.11/dist-packages (from roboflow) (2025.4.26)\n",
            "Collecting idna==3.7 (from roboflow)\n",
            "  Downloading idna-3.7-py3-none-any.whl.metadata (9.9 kB)\n",
            "Requirement already satisfied: cycler in /usr/local/lib/python3.11/dist-packages (from roboflow) (0.12.1)\n",
            "Requirement already satisfied: kiwisolver>=1.3.1 in /usr/local/lib/python3.11/dist-packages (from roboflow) (1.4.8)\n",
            "Requirement already satisfied: matplotlib in /usr/local/lib/python3.11/dist-packages (from roboflow) (3.10.0)\n",
            "Requirement already satisfied: numpy>=1.18.5 in /usr/local/lib/python3.11/dist-packages (from roboflow) (2.0.2)\n",
            "Collecting opencv-python-headless==4.10.0.84 (from roboflow)\n",
            "  Downloading opencv_python_headless-4.10.0.84-cp37-abi3-manylinux_2_17_x86_64.manylinux2014_x86_64.whl.metadata (20 kB)\n",
            "Requirement already satisfied: Pillow>=7.1.2 in /usr/local/lib/python3.11/dist-packages (from roboflow) (11.2.1)\n",
            "Collecting pillow-heif>=0.18.0 (from roboflow)\n",
            "  Downloading pillow_heif-0.22.0-cp311-cp311-manylinux_2_17_x86_64.manylinux2014_x86_64.whl.metadata (9.6 kB)\n",
            "Requirement already satisfied: python-dateutil in /usr/local/lib/python3.11/dist-packages (from roboflow) (2.9.0.post0)\n",
            "Collecting python-dotenv (from roboflow)\n",
            "  Downloading python_dotenv-1.1.0-py3-none-any.whl.metadata (24 kB)\n",
            "Requirement already satisfied: requests in /usr/local/lib/python3.11/dist-packages (from roboflow) (2.32.3)\n",
            "Requirement already satisfied: six in /usr/local/lib/python3.11/dist-packages (from roboflow) (1.17.0)\n",
            "Requirement already satisfied: urllib3>=1.26.6 in /usr/local/lib/python3.11/dist-packages (from roboflow) (2.4.0)\n",
            "Requirement already satisfied: tqdm>=4.41.0 in /usr/local/lib/python3.11/dist-packages (from roboflow) (4.67.1)\n",
            "Requirement already satisfied: PyYAML>=5.3.1 in /usr/local/lib/python3.11/dist-packages (from roboflow) (6.0.2)\n",
            "Requirement already satisfied: requests-toolbelt in /usr/local/lib/python3.11/dist-packages (from roboflow) (1.0.0)\n",
            "Collecting filetype (from roboflow)\n",
            "  Downloading filetype-1.2.0-py2.py3-none-any.whl.metadata (6.5 kB)\n",
            "Requirement already satisfied: contourpy>=1.0.1 in /usr/local/lib/python3.11/dist-packages (from matplotlib->roboflow) (1.3.2)\n",
            "Requirement already satisfied: fonttools>=4.22.0 in /usr/local/lib/python3.11/dist-packages (from matplotlib->roboflow) (4.57.0)\n",
            "Requirement already satisfied: packaging>=20.0 in /usr/local/lib/python3.11/dist-packages (from matplotlib->roboflow) (24.2)\n",
            "Requirement already satisfied: pyparsing>=2.3.1 in /usr/local/lib/python3.11/dist-packages (from matplotlib->roboflow) (3.2.3)\n",
            "Requirement already satisfied: charset-normalizer<4,>=2 in /usr/local/lib/python3.11/dist-packages (from requests->roboflow) (3.4.1)\n",
            "Downloading roboflow-1.1.63-py3-none-any.whl (85 kB)\n",
            "\u001b[2K   \u001b[90m━━━━━━━━━━━━━━━━━━━━━━━━━━━━━━━━━━━━━━━━\u001b[0m \u001b[32m85.3/85.3 kB\u001b[0m \u001b[31m4.1 MB/s\u001b[0m eta \u001b[36m0:00:00\u001b[0m\n",
            "\u001b[?25hDownloading idna-3.7-py3-none-any.whl (66 kB)\n",
            "\u001b[2K   \u001b[90m━━━━━━━━━━━━━━━━━━━━━━━━━━━━━━━━━━━━━━━━\u001b[0m \u001b[32m66.8/66.8 kB\u001b[0m \u001b[31m6.1 MB/s\u001b[0m eta \u001b[36m0:00:00\u001b[0m\n",
            "\u001b[?25hDownloading opencv_python_headless-4.10.0.84-cp37-abi3-manylinux_2_17_x86_64.manylinux2014_x86_64.whl (49.9 MB)\n",
            "\u001b[2K   \u001b[90m━━━━━━━━━━━━━━━━━━━━━━━━━━━━━━━━━━━━━━━━\u001b[0m \u001b[32m49.9/49.9 MB\u001b[0m \u001b[31m23.5 MB/s\u001b[0m eta \u001b[36m0:00:00\u001b[0m\n",
            "\u001b[?25hDownloading pillow_heif-0.22.0-cp311-cp311-manylinux_2_17_x86_64.manylinux2014_x86_64.whl (7.8 MB)\n",
            "\u001b[2K   \u001b[90m━━━━━━━━━━━━━━━━━━━━━━━━━━━━━━━━━━━━━━━━\u001b[0m \u001b[32m7.8/7.8 MB\u001b[0m \u001b[31m126.3 MB/s\u001b[0m eta \u001b[36m0:00:00\u001b[0m\n",
            "\u001b[?25hDownloading filetype-1.2.0-py2.py3-none-any.whl (19 kB)\n",
            "Downloading python_dotenv-1.1.0-py3-none-any.whl (20 kB)\n",
            "Installing collected packages: filetype, python-dotenv, pillow-heif, opencv-python-headless, idna, roboflow\n",
            "  Attempting uninstall: opencv-python-headless\n",
            "    Found existing installation: opencv-python-headless 4.11.0.86\n",
            "    Uninstalling opencv-python-headless-4.11.0.86:\n",
            "      Successfully uninstalled opencv-python-headless-4.11.0.86\n",
            "  Attempting uninstall: idna\n",
            "    Found existing installation: idna 3.10\n",
            "    Uninstalling idna-3.10:\n",
            "      Successfully uninstalled idna-3.10\n",
            "Successfully installed filetype-1.2.0 idna-3.7 opencv-python-headless-4.10.0.84 pillow-heif-0.22.0 python-dotenv-1.1.0 roboflow-1.1.63\n",
            "loading Roboflow workspace...\n",
            "loading Roboflow project...\n"
          ]
        },
        {
          "output_type": "stream",
          "name": "stderr",
          "text": [
            "Downloading Dataset Version Zip in License-Plate-Detector-2 to yolov8:: 100%|██████████| 20648/20648 [00:01<00:00, 12491.78it/s]"
          ]
        },
        {
          "output_type": "stream",
          "name": "stdout",
          "text": [
            "\n"
          ]
        },
        {
          "output_type": "stream",
          "name": "stderr",
          "text": [
            "\n",
            "Extracting Dataset Version Zip to License-Plate-Detector-2 in yolov8:: 100%|██████████| 802/802 [00:05<00:00, 153.74it/s]\n"
          ]
        }
      ]
    },
    {
      "cell_type": "code",
      "source": [
        "dir_path='/content/drive/MyDrive/yolov8n/License-Plate-Detector-2'"
      ],
      "metadata": {
        "id": "XKtoBdfNmn0o"
      },
      "execution_count": null,
      "outputs": []
    },
    {
      "cell_type": "code",
      "source": [
        "!pip install ultralytics"
      ],
      "metadata": {
        "colab": {
          "base_uri": "https://localhost:8080/"
        },
        "collapsed": true,
        "id": "0lHGcFctm2YK",
        "outputId": "13ca83b0-f069-4a11-dcff-50dbe5a18ec5"
      },
      "execution_count": null,
      "outputs": [
        {
          "output_type": "stream",
          "name": "stdout",
          "text": [
            "Collecting ultralytics\n",
            "  Downloading ultralytics-8.3.128-py3-none-any.whl.metadata (37 kB)\n",
            "Requirement already satisfied: numpy>=1.23.0 in /usr/local/lib/python3.11/dist-packages (from ultralytics) (2.0.2)\n",
            "Requirement already satisfied: matplotlib>=3.3.0 in /usr/local/lib/python3.11/dist-packages (from ultralytics) (3.10.0)\n",
            "Requirement already satisfied: opencv-python>=4.6.0 in /usr/local/lib/python3.11/dist-packages (from ultralytics) (4.11.0.86)\n",
            "Requirement already satisfied: pillow>=7.1.2 in /usr/local/lib/python3.11/dist-packages (from ultralytics) (11.2.1)\n",
            "Requirement already satisfied: pyyaml>=5.3.1 in /usr/local/lib/python3.11/dist-packages (from ultralytics) (6.0.2)\n",
            "Requirement already satisfied: requests>=2.23.0 in /usr/local/lib/python3.11/dist-packages (from ultralytics) (2.32.3)\n",
            "Requirement already satisfied: scipy>=1.4.1 in /usr/local/lib/python3.11/dist-packages (from ultralytics) (1.15.2)\n",
            "Requirement already satisfied: torch>=1.8.0 in /usr/local/lib/python3.11/dist-packages (from ultralytics) (2.6.0+cu124)\n",
            "Requirement already satisfied: torchvision>=0.9.0 in /usr/local/lib/python3.11/dist-packages (from ultralytics) (0.21.0+cu124)\n",
            "Requirement already satisfied: tqdm>=4.64.0 in /usr/local/lib/python3.11/dist-packages (from ultralytics) (4.67.1)\n",
            "Requirement already satisfied: psutil in /usr/local/lib/python3.11/dist-packages (from ultralytics) (5.9.5)\n",
            "Requirement already satisfied: py-cpuinfo in /usr/local/lib/python3.11/dist-packages (from ultralytics) (9.0.0)\n",
            "Requirement already satisfied: pandas>=1.1.4 in /usr/local/lib/python3.11/dist-packages (from ultralytics) (2.2.2)\n",
            "Requirement already satisfied: seaborn>=0.11.0 in /usr/local/lib/python3.11/dist-packages (from ultralytics) (0.13.2)\n",
            "Collecting ultralytics-thop>=2.0.0 (from ultralytics)\n",
            "  Downloading ultralytics_thop-2.0.14-py3-none-any.whl.metadata (9.4 kB)\n",
            "Requirement already satisfied: contourpy>=1.0.1 in /usr/local/lib/python3.11/dist-packages (from matplotlib>=3.3.0->ultralytics) (1.3.2)\n",
            "Requirement already satisfied: cycler>=0.10 in /usr/local/lib/python3.11/dist-packages (from matplotlib>=3.3.0->ultralytics) (0.12.1)\n",
            "Requirement already satisfied: fonttools>=4.22.0 in /usr/local/lib/python3.11/dist-packages (from matplotlib>=3.3.0->ultralytics) (4.57.0)\n",
            "Requirement already satisfied: kiwisolver>=1.3.1 in /usr/local/lib/python3.11/dist-packages (from matplotlib>=3.3.0->ultralytics) (1.4.8)\n",
            "Requirement already satisfied: packaging>=20.0 in /usr/local/lib/python3.11/dist-packages (from matplotlib>=3.3.0->ultralytics) (24.2)\n",
            "Requirement already satisfied: pyparsing>=2.3.1 in /usr/local/lib/python3.11/dist-packages (from matplotlib>=3.3.0->ultralytics) (3.2.3)\n",
            "Requirement already satisfied: python-dateutil>=2.7 in /usr/local/lib/python3.11/dist-packages (from matplotlib>=3.3.0->ultralytics) (2.9.0.post0)\n",
            "Requirement already satisfied: pytz>=2020.1 in /usr/local/lib/python3.11/dist-packages (from pandas>=1.1.4->ultralytics) (2025.2)\n",
            "Requirement already satisfied: tzdata>=2022.7 in /usr/local/lib/python3.11/dist-packages (from pandas>=1.1.4->ultralytics) (2025.2)\n",
            "Requirement already satisfied: charset-normalizer<4,>=2 in /usr/local/lib/python3.11/dist-packages (from requests>=2.23.0->ultralytics) (3.4.1)\n",
            "Requirement already satisfied: idna<4,>=2.5 in /usr/local/lib/python3.11/dist-packages (from requests>=2.23.0->ultralytics) (3.7)\n",
            "Requirement already satisfied: urllib3<3,>=1.21.1 in /usr/local/lib/python3.11/dist-packages (from requests>=2.23.0->ultralytics) (2.4.0)\n",
            "Requirement already satisfied: certifi>=2017.4.17 in /usr/local/lib/python3.11/dist-packages (from requests>=2.23.0->ultralytics) (2025.4.26)\n",
            "Requirement already satisfied: filelock in /usr/local/lib/python3.11/dist-packages (from torch>=1.8.0->ultralytics) (3.18.0)\n",
            "Requirement already satisfied: typing-extensions>=4.10.0 in /usr/local/lib/python3.11/dist-packages (from torch>=1.8.0->ultralytics) (4.13.2)\n",
            "Requirement already satisfied: networkx in /usr/local/lib/python3.11/dist-packages (from torch>=1.8.0->ultralytics) (3.4.2)\n",
            "Requirement already satisfied: jinja2 in /usr/local/lib/python3.11/dist-packages (from torch>=1.8.0->ultralytics) (3.1.6)\n",
            "Requirement already satisfied: fsspec in /usr/local/lib/python3.11/dist-packages (from torch>=1.8.0->ultralytics) (2025.3.2)\n",
            "Collecting nvidia-cuda-nvrtc-cu12==12.4.127 (from torch>=1.8.0->ultralytics)\n",
            "  Downloading nvidia_cuda_nvrtc_cu12-12.4.127-py3-none-manylinux2014_x86_64.whl.metadata (1.5 kB)\n",
            "Collecting nvidia-cuda-runtime-cu12==12.4.127 (from torch>=1.8.0->ultralytics)\n",
            "  Downloading nvidia_cuda_runtime_cu12-12.4.127-py3-none-manylinux2014_x86_64.whl.metadata (1.5 kB)\n",
            "Collecting nvidia-cuda-cupti-cu12==12.4.127 (from torch>=1.8.0->ultralytics)\n",
            "  Downloading nvidia_cuda_cupti_cu12-12.4.127-py3-none-manylinux2014_x86_64.whl.metadata (1.6 kB)\n",
            "Collecting nvidia-cudnn-cu12==9.1.0.70 (from torch>=1.8.0->ultralytics)\n",
            "  Downloading nvidia_cudnn_cu12-9.1.0.70-py3-none-manylinux2014_x86_64.whl.metadata (1.6 kB)\n",
            "Collecting nvidia-cublas-cu12==12.4.5.8 (from torch>=1.8.0->ultralytics)\n",
            "  Downloading nvidia_cublas_cu12-12.4.5.8-py3-none-manylinux2014_x86_64.whl.metadata (1.5 kB)\n",
            "Collecting nvidia-cufft-cu12==11.2.1.3 (from torch>=1.8.0->ultralytics)\n",
            "  Downloading nvidia_cufft_cu12-11.2.1.3-py3-none-manylinux2014_x86_64.whl.metadata (1.5 kB)\n",
            "Collecting nvidia-curand-cu12==10.3.5.147 (from torch>=1.8.0->ultralytics)\n",
            "  Downloading nvidia_curand_cu12-10.3.5.147-py3-none-manylinux2014_x86_64.whl.metadata (1.5 kB)\n",
            "Collecting nvidia-cusolver-cu12==11.6.1.9 (from torch>=1.8.0->ultralytics)\n",
            "  Downloading nvidia_cusolver_cu12-11.6.1.9-py3-none-manylinux2014_x86_64.whl.metadata (1.6 kB)\n",
            "Collecting nvidia-cusparse-cu12==12.3.1.170 (from torch>=1.8.0->ultralytics)\n",
            "  Downloading nvidia_cusparse_cu12-12.3.1.170-py3-none-manylinux2014_x86_64.whl.metadata (1.6 kB)\n",
            "Requirement already satisfied: nvidia-cusparselt-cu12==0.6.2 in /usr/local/lib/python3.11/dist-packages (from torch>=1.8.0->ultralytics) (0.6.2)\n",
            "Requirement already satisfied: nvidia-nccl-cu12==2.21.5 in /usr/local/lib/python3.11/dist-packages (from torch>=1.8.0->ultralytics) (2.21.5)\n",
            "Requirement already satisfied: nvidia-nvtx-cu12==12.4.127 in /usr/local/lib/python3.11/dist-packages (from torch>=1.8.0->ultralytics) (12.4.127)\n",
            "Collecting nvidia-nvjitlink-cu12==12.4.127 (from torch>=1.8.0->ultralytics)\n",
            "  Downloading nvidia_nvjitlink_cu12-12.4.127-py3-none-manylinux2014_x86_64.whl.metadata (1.5 kB)\n",
            "Requirement already satisfied: triton==3.2.0 in /usr/local/lib/python3.11/dist-packages (from torch>=1.8.0->ultralytics) (3.2.0)\n",
            "Requirement already satisfied: sympy==1.13.1 in /usr/local/lib/python3.11/dist-packages (from torch>=1.8.0->ultralytics) (1.13.1)\n",
            "Requirement already satisfied: mpmath<1.4,>=1.1.0 in /usr/local/lib/python3.11/dist-packages (from sympy==1.13.1->torch>=1.8.0->ultralytics) (1.3.0)\n",
            "Requirement already satisfied: six>=1.5 in /usr/local/lib/python3.11/dist-packages (from python-dateutil>=2.7->matplotlib>=3.3.0->ultralytics) (1.17.0)\n",
            "Requirement already satisfied: MarkupSafe>=2.0 in /usr/local/lib/python3.11/dist-packages (from jinja2->torch>=1.8.0->ultralytics) (3.0.2)\n",
            "Downloading ultralytics-8.3.128-py3-none-any.whl (1.0 MB)\n",
            "\u001b[2K   \u001b[90m━━━━━━━━━━━━━━━━━━━━━━━━━━━━━━━━━━━━━━━━\u001b[0m \u001b[32m1.0/1.0 MB\u001b[0m \u001b[31m18.3 MB/s\u001b[0m eta \u001b[36m0:00:00\u001b[0m\n",
            "\u001b[?25hDownloading nvidia_cublas_cu12-12.4.5.8-py3-none-manylinux2014_x86_64.whl (363.4 MB)\n",
            "\u001b[2K   \u001b[90m━━━━━━━━━━━━━━━━━━━━━━━━━━━━━━━━━━━━━━━━\u001b[0m \u001b[32m363.4/363.4 MB\u001b[0m \u001b[31m4.2 MB/s\u001b[0m eta \u001b[36m0:00:00\u001b[0m\n",
            "\u001b[?25hDownloading nvidia_cuda_cupti_cu12-12.4.127-py3-none-manylinux2014_x86_64.whl (13.8 MB)\n",
            "\u001b[2K   \u001b[90m━━━━━━━━━━━━━━━━━━━━━━━━━━━━━━━━━━━━━━━━\u001b[0m \u001b[32m13.8/13.8 MB\u001b[0m \u001b[31m89.8 MB/s\u001b[0m eta \u001b[36m0:00:00\u001b[0m\n",
            "\u001b[?25hDownloading nvidia_cuda_nvrtc_cu12-12.4.127-py3-none-manylinux2014_x86_64.whl (24.6 MB)\n",
            "\u001b[2K   \u001b[90m━━━━━━━━━━━━━━━━━━━━━━━━━━━━━━━━━━━━━━━━\u001b[0m \u001b[32m24.6/24.6 MB\u001b[0m \u001b[31m66.3 MB/s\u001b[0m eta \u001b[36m0:00:00\u001b[0m\n",
            "\u001b[?25hDownloading nvidia_cuda_runtime_cu12-12.4.127-py3-none-manylinux2014_x86_64.whl (883 kB)\n",
            "\u001b[2K   \u001b[90m━━━━━━━━━━━━━━━━━━━━━━━━━━━━━━━━━━━━━━━━\u001b[0m \u001b[32m883.7/883.7 kB\u001b[0m \u001b[31m61.2 MB/s\u001b[0m eta \u001b[36m0:00:00\u001b[0m\n",
            "\u001b[?25hDownloading nvidia_cudnn_cu12-9.1.0.70-py3-none-manylinux2014_x86_64.whl (664.8 MB)\n",
            "\u001b[2K   \u001b[90m━━━━━━━━━━━━━━━━━━━━━━━━━━━━━━━━━━━━━━━━\u001b[0m \u001b[32m664.8/664.8 MB\u001b[0m \u001b[31m2.7 MB/s\u001b[0m eta \u001b[36m0:00:00\u001b[0m\n",
            "\u001b[?25hDownloading nvidia_cufft_cu12-11.2.1.3-py3-none-manylinux2014_x86_64.whl (211.5 MB)\n",
            "\u001b[2K   \u001b[90m━━━━━━━━━━━━━━━━━━━━━━━━━━━━━━━━━━━━━━━━\u001b[0m \u001b[32m211.5/211.5 MB\u001b[0m \u001b[31m5.2 MB/s\u001b[0m eta \u001b[36m0:00:00\u001b[0m\n",
            "\u001b[?25hDownloading nvidia_curand_cu12-10.3.5.147-py3-none-manylinux2014_x86_64.whl (56.3 MB)\n",
            "\u001b[2K   \u001b[90m━━━━━━━━━━━━━━━━━━━━━━━━━━━━━━━━━━━━━━━━\u001b[0m \u001b[32m56.3/56.3 MB\u001b[0m \u001b[31m18.7 MB/s\u001b[0m eta \u001b[36m0:00:00\u001b[0m\n",
            "\u001b[?25hDownloading nvidia_cusolver_cu12-11.6.1.9-py3-none-manylinux2014_x86_64.whl (127.9 MB)\n",
            "\u001b[2K   \u001b[90m━━━━━━━━━━━━━━━━━━━━━━━━━━━━━━━━━━━━━━━━\u001b[0m \u001b[32m127.9/127.9 MB\u001b[0m \u001b[31m7.2 MB/s\u001b[0m eta \u001b[36m0:00:00\u001b[0m\n",
            "\u001b[?25hDownloading nvidia_cusparse_cu12-12.3.1.170-py3-none-manylinux2014_x86_64.whl (207.5 MB)\n",
            "\u001b[2K   \u001b[90m━━━━━━━━━━━━━━━━━━━━━━━━━━━━━━━━━━━━━━━━\u001b[0m \u001b[32m207.5/207.5 MB\u001b[0m \u001b[31m8.8 MB/s\u001b[0m eta \u001b[36m0:00:00\u001b[0m\n",
            "\u001b[?25hDownloading nvidia_nvjitlink_cu12-12.4.127-py3-none-manylinux2014_x86_64.whl (21.1 MB)\n",
            "\u001b[2K   \u001b[90m━━━━━━━━━━━━━━━━━━━━━━━━━━━━━━━━━━━━━━━━\u001b[0m \u001b[32m21.1/21.1 MB\u001b[0m \u001b[31m103.9 MB/s\u001b[0m eta \u001b[36m0:00:00\u001b[0m\n",
            "\u001b[?25hDownloading ultralytics_thop-2.0.14-py3-none-any.whl (26 kB)\n",
            "Installing collected packages: nvidia-nvjitlink-cu12, nvidia-curand-cu12, nvidia-cufft-cu12, nvidia-cuda-runtime-cu12, nvidia-cuda-nvrtc-cu12, nvidia-cuda-cupti-cu12, nvidia-cublas-cu12, nvidia-cusparse-cu12, nvidia-cudnn-cu12, nvidia-cusolver-cu12, ultralytics-thop, ultralytics\n",
            "  Attempting uninstall: nvidia-nvjitlink-cu12\n",
            "    Found existing installation: nvidia-nvjitlink-cu12 12.5.82\n",
            "    Uninstalling nvidia-nvjitlink-cu12-12.5.82:\n",
            "      Successfully uninstalled nvidia-nvjitlink-cu12-12.5.82\n",
            "  Attempting uninstall: nvidia-curand-cu12\n",
            "    Found existing installation: nvidia-curand-cu12 10.3.6.82\n",
            "    Uninstalling nvidia-curand-cu12-10.3.6.82:\n",
            "      Successfully uninstalled nvidia-curand-cu12-10.3.6.82\n",
            "  Attempting uninstall: nvidia-cufft-cu12\n",
            "    Found existing installation: nvidia-cufft-cu12 11.2.3.61\n",
            "    Uninstalling nvidia-cufft-cu12-11.2.3.61:\n",
            "      Successfully uninstalled nvidia-cufft-cu12-11.2.3.61\n",
            "  Attempting uninstall: nvidia-cuda-runtime-cu12\n",
            "    Found existing installation: nvidia-cuda-runtime-cu12 12.5.82\n",
            "    Uninstalling nvidia-cuda-runtime-cu12-12.5.82:\n",
            "      Successfully uninstalled nvidia-cuda-runtime-cu12-12.5.82\n",
            "  Attempting uninstall: nvidia-cuda-nvrtc-cu12\n",
            "    Found existing installation: nvidia-cuda-nvrtc-cu12 12.5.82\n",
            "    Uninstalling nvidia-cuda-nvrtc-cu12-12.5.82:\n",
            "      Successfully uninstalled nvidia-cuda-nvrtc-cu12-12.5.82\n",
            "  Attempting uninstall: nvidia-cuda-cupti-cu12\n",
            "    Found existing installation: nvidia-cuda-cupti-cu12 12.5.82\n",
            "    Uninstalling nvidia-cuda-cupti-cu12-12.5.82:\n",
            "      Successfully uninstalled nvidia-cuda-cupti-cu12-12.5.82\n",
            "  Attempting uninstall: nvidia-cublas-cu12\n",
            "    Found existing installation: nvidia-cublas-cu12 12.5.3.2\n",
            "    Uninstalling nvidia-cublas-cu12-12.5.3.2:\n",
            "      Successfully uninstalled nvidia-cublas-cu12-12.5.3.2\n",
            "  Attempting uninstall: nvidia-cusparse-cu12\n",
            "    Found existing installation: nvidia-cusparse-cu12 12.5.1.3\n",
            "    Uninstalling nvidia-cusparse-cu12-12.5.1.3:\n",
            "      Successfully uninstalled nvidia-cusparse-cu12-12.5.1.3\n",
            "  Attempting uninstall: nvidia-cudnn-cu12\n",
            "    Found existing installation: nvidia-cudnn-cu12 9.3.0.75\n",
            "    Uninstalling nvidia-cudnn-cu12-9.3.0.75:\n",
            "      Successfully uninstalled nvidia-cudnn-cu12-9.3.0.75\n",
            "  Attempting uninstall: nvidia-cusolver-cu12\n",
            "    Found existing installation: nvidia-cusolver-cu12 11.6.3.83\n",
            "    Uninstalling nvidia-cusolver-cu12-11.6.3.83:\n",
            "      Successfully uninstalled nvidia-cusolver-cu12-11.6.3.83\n",
            "Successfully installed nvidia-cublas-cu12-12.4.5.8 nvidia-cuda-cupti-cu12-12.4.127 nvidia-cuda-nvrtc-cu12-12.4.127 nvidia-cuda-runtime-cu12-12.4.127 nvidia-cudnn-cu12-9.1.0.70 nvidia-cufft-cu12-11.2.1.3 nvidia-curand-cu12-10.3.5.147 nvidia-cusolver-cu12-11.6.1.9 nvidia-cusparse-cu12-12.3.1.170 nvidia-nvjitlink-cu12-12.4.127 ultralytics-8.3.128 ultralytics-thop-2.0.14\n"
          ]
        }
      ]
    },
    {
      "cell_type": "code",
      "execution_count": null,
      "metadata": {
        "colab": {
          "base_uri": "https://localhost:8080/"
        },
        "collapsed": true,
        "id": "rb-7xYiqb87U",
        "outputId": "d0884c03-bc87-4458-b698-29e9573d15f5"
      },
      "outputs": [
        {
          "output_type": "stream",
          "name": "stdout",
          "text": [
            "Ultralytics 8.3.128 🚀 Python-3.11.12 torch-2.6.0+cu124 CUDA:0 (Tesla T4, 15095MiB)\n",
            "\u001b[34m\u001b[1mengine/trainer: \u001b[0magnostic_nms=False, amp=True, augment=False, auto_augment=randaugment, batch=16, bgr=0.0, box=7.5, cache=False, cfg=None, classes=None, close_mosaic=10, cls=0.5, conf=None, copy_paste=0.0, copy_paste_mode=flip, cos_lr=False, cutmix=0.0, data=/content/drive/MyDrive/yolov8n/License-Plate-Detector-2/converted.yaml, degrees=0.0, deterministic=True, device=None, dfl=1.5, dnn=False, dropout=0.0, dynamic=False, embed=None, epochs=100, erasing=0.4, exist_ok=False, fliplr=0.5, flipud=0.0, format=torchscript, fraction=1.0, freeze=None, half=False, hsv_h=0.015, hsv_s=0.7, hsv_v=0.4, imgsz=640, int8=False, iou=0.7, keras=False, kobj=1.0, line_width=None, lr0=0.01, lrf=0.01, mask_ratio=4, max_det=300, mixup=0.0, mode=train, model=yolov8n.yaml, momentum=0.937, mosaic=1.0, multi_scale=False, name=train2, nbs=64, nms=False, opset=None, optimize=False, optimizer=auto, overlap_mask=True, patience=100, perspective=0.0, plots=True, pose=12.0, pretrained=True, profile=False, project=None, rect=False, resume=False, retina_masks=False, save=True, save_conf=False, save_crop=False, save_dir=runs/detect/train2, save_frames=False, save_json=False, save_period=-1, save_txt=False, scale=0.5, seed=0, shear=0.0, show=False, show_boxes=True, show_conf=True, show_labels=True, simplify=True, single_cls=False, source=None, split=val, stream_buffer=False, task=detect, time=None, tracker=botsort.yaml, translate=0.1, val=True, verbose=True, vid_stride=1, visualize=False, warmup_bias_lr=0.1, warmup_epochs=3.0, warmup_momentum=0.8, weight_decay=0.0005, workers=8, workspace=None\n",
            "Downloading https://ultralytics.com/assets/Arial.ttf to '/root/.config/Ultralytics/Arial.ttf'...\n"
          ]
        },
        {
          "output_type": "stream",
          "name": "stderr",
          "text": [
            "100%|██████████| 755k/755k [00:00<00:00, 14.7MB/s]"
          ]
        },
        {
          "output_type": "stream",
          "name": "stdout",
          "text": [
            "Overriding model.yaml nc=80 with nc=1\n",
            "\n",
            "                   from  n    params  module                                       arguments                     \n",
            "  0                  -1  1       464  ultralytics.nn.modules.conv.Conv             [3, 16, 3, 2]                 \n",
            "  1                  -1  1      4672  ultralytics.nn.modules.conv.Conv             [16, 32, 3, 2]                \n",
            "  2                  -1  1      7360  ultralytics.nn.modules.block.C2f             [32, 32, 1, True]             \n",
            "  3                  -1  1     18560  ultralytics.nn.modules.conv.Conv             [32, 64, 3, 2]                \n",
            "  4                  -1  2     49664  ultralytics.nn.modules.block.C2f             [64, 64, 2, True]             \n",
            "  5                  -1  1     73984  ultralytics.nn.modules.conv.Conv             [64, 128, 3, 2]               \n",
            "  6                  -1  2    197632  ultralytics.nn.modules.block.C2f             [128, 128, 2, True]           \n",
            "  7                  -1  1    295424  ultralytics.nn.modules.conv.Conv             [128, 256, 3, 2]              \n",
            "  8                  -1  1    460288  ultralytics.nn.modules.block.C2f             [256, 256, 1, True]           \n",
            "  9                  -1  1    164608  ultralytics.nn.modules.block.SPPF            [256, 256, 5]                 \n",
            " 10                  -1  1         0  torch.nn.modules.upsampling.Upsample         [None, 2, 'nearest']          \n",
            " 11             [-1, 6]  1         0  ultralytics.nn.modules.conv.Concat           [1]                           \n",
            " 12                  -1  1    148224  ultralytics.nn.modules.block.C2f             [384, 128, 1]                 \n",
            " 13                  -1  1         0  torch.nn.modules.upsampling.Upsample         [None, 2, 'nearest']          \n",
            " 14             [-1, 4]  1         0  ultralytics.nn.modules.conv.Concat           [1]                           \n",
            " 15                  -1  1     37248  ultralytics.nn.modules.block.C2f             [192, 64, 1]                  \n",
            " 16                  -1  1     36992  ultralytics.nn.modules.conv.Conv             [64, 64, 3, 2]                \n",
            " 17            [-1, 12]  1         0  ultralytics.nn.modules.conv.Concat           [1]                           \n",
            " 18                  -1  1    123648  ultralytics.nn.modules.block.C2f             [192, 128, 1]                 \n",
            " 19                  -1  1    147712  ultralytics.nn.modules.conv.Conv             [128, 128, 3, 2]              \n",
            " 20             [-1, 9]  1         0  ultralytics.nn.modules.conv.Concat           [1]                           \n",
            " 21                  -1  1    493056  ultralytics.nn.modules.block.C2f             [384, 256, 1]                 \n",
            " 22        [15, 18, 21]  1    751507  ultralytics.nn.modules.head.Detect           [1, [64, 128, 256]]           \n"
          ]
        },
        {
          "output_type": "stream",
          "name": "stderr",
          "text": [
            "\n"
          ]
        },
        {
          "output_type": "stream",
          "name": "stdout",
          "text": [
            "YOLOv8n summary: 129 layers, 3,011,043 parameters, 3,011,027 gradients, 8.2 GFLOPs\n",
            "\n",
            "Freezing layer 'model.22.dfl.conv.weight'\n",
            "\u001b[34m\u001b[1mAMP: \u001b[0mrunning Automatic Mixed Precision (AMP) checks...\n",
            "Downloading https://github.com/ultralytics/assets/releases/download/v8.3.0/yolo11n.pt to 'yolo11n.pt'...\n"
          ]
        },
        {
          "output_type": "stream",
          "name": "stderr",
          "text": [
            "100%|██████████| 5.35M/5.35M [00:00<00:00, 65.8MB/s]\n"
          ]
        },
        {
          "output_type": "stream",
          "name": "stdout",
          "text": [
            "\u001b[34m\u001b[1mAMP: \u001b[0mchecks passed ✅\n",
            "\u001b[34m\u001b[1mtrain: \u001b[0mFast image access ✅ (ping: 0.5±0.3 ms, read: 13.7±8.8 MB/s, size: 54.3 KB)\n"
          ]
        },
        {
          "output_type": "stream",
          "name": "stderr",
          "text": [
            "\u001b[34m\u001b[1mtrain: \u001b[0mScanning /content/drive/MyDrive/yolov8n/License-Plate-Detector-2/train/labels... 277 images, 0 backgrounds, 0 corrupt: 100%|██████████| 277/277 [00:02<00:00, 114.69it/s]\n"
          ]
        },
        {
          "output_type": "stream",
          "name": "stdout",
          "text": [
            "\u001b[34m\u001b[1mtrain: \u001b[0mNew cache created: /content/drive/MyDrive/yolov8n/License-Plate-Detector-2/train/labels.cache\n",
            "\u001b[34m\u001b[1malbumentations: \u001b[0mBlur(p=0.01, blur_limit=(3, 7)), MedianBlur(p=0.01, blur_limit=(3, 7)), ToGray(p=0.01, method='weighted_average', num_output_channels=3), CLAHE(p=0.01, clip_limit=(1.0, 4.0), tile_grid_size=(8, 8))\n",
            "\u001b[34m\u001b[1mval: \u001b[0mFast image access ✅ (ping: 0.9±0.5 ms, read: 13.2±10.9 MB/s, size: 49.0 KB)\n"
          ]
        },
        {
          "output_type": "stream",
          "name": "stderr",
          "text": [
            "\u001b[34m\u001b[1mval: \u001b[0mScanning /content/drive/MyDrive/yolov8n/License-Plate-Detector-2/valid/labels... 81 images, 0 backgrounds, 0 corrupt: 100%|██████████| 81/81 [00:01<00:00, 69.73it/s]"
          ]
        },
        {
          "output_type": "stream",
          "name": "stdout",
          "text": [
            "\u001b[34m\u001b[1mval: \u001b[0mNew cache created: /content/drive/MyDrive/yolov8n/License-Plate-Detector-2/valid/labels.cache\n"
          ]
        },
        {
          "output_type": "stream",
          "name": "stderr",
          "text": [
            "\n"
          ]
        },
        {
          "output_type": "stream",
          "name": "stdout",
          "text": [
            "Plotting labels to runs/detect/train2/labels.jpg... \n",
            "\u001b[34m\u001b[1moptimizer:\u001b[0m 'optimizer=auto' found, ignoring 'lr0=0.01' and 'momentum=0.937' and determining best 'optimizer', 'lr0' and 'momentum' automatically... \n",
            "\u001b[34m\u001b[1moptimizer:\u001b[0m AdamW(lr=0.002, momentum=0.9) with parameter groups 57 weight(decay=0.0), 64 weight(decay=0.0005), 63 bias(decay=0.0)\n",
            "Image sizes 640 train, 640 val\n",
            "Using 2 dataloader workers\n",
            "Logging results to \u001b[1mruns/detect/train2\u001b[0m\n",
            "Starting training for 100 epochs...\n",
            "\n",
            "      Epoch    GPU_mem   box_loss   cls_loss   dfl_loss  Instances       Size\n"
          ]
        },
        {
          "output_type": "stream",
          "name": "stderr",
          "text": [
            "      1/100      2.06G      3.928      5.015      4.361          6        640: 100%|██████████| 18/18 [00:06<00:00,  2.61it/s]\n",
            "                 Class     Images  Instances      Box(P          R      mAP50  mAP50-95): 100%|██████████| 3/3 [00:02<00:00,  1.37it/s]"
          ]
        },
        {
          "output_type": "stream",
          "name": "stdout",
          "text": [
            "                   all         81         81   0.000288     0.0864   0.000158   3.33e-05\n"
          ]
        },
        {
          "output_type": "stream",
          "name": "stderr",
          "text": [
            "\n"
          ]
        },
        {
          "output_type": "stream",
          "name": "stdout",
          "text": [
            "\n",
            "      Epoch    GPU_mem   box_loss   cls_loss   dfl_loss  Instances       Size\n"
          ]
        },
        {
          "output_type": "stream",
          "name": "stderr",
          "text": [
            "      2/100      2.55G      3.738      4.529      4.141          9        640: 100%|██████████| 18/18 [00:06<00:00,  2.74it/s]\n",
            "                 Class     Images  Instances      Box(P          R      mAP50  mAP50-95): 100%|██████████| 3/3 [00:01<00:00,  2.93it/s]\n"
          ]
        },
        {
          "output_type": "stream",
          "name": "stdout",
          "text": [
            "                   all         81         81   0.000329     0.0988   0.000182   4.66e-05\n",
            "\n",
            "      Epoch    GPU_mem   box_loss   cls_loss   dfl_loss  Instances       Size\n"
          ]
        },
        {
          "output_type": "stream",
          "name": "stderr",
          "text": [
            "      3/100      2.57G      3.259      4.033      3.744          7        640: 100%|██████████| 18/18 [00:04<00:00,  3.81it/s]\n",
            "                 Class     Images  Instances      Box(P          R      mAP50  mAP50-95): 100%|██████████| 3/3 [00:00<00:00,  3.02it/s]"
          ]
        },
        {
          "output_type": "stream",
          "name": "stdout",
          "text": [
            "                   all         81         81   0.000123      0.037   6.77e-05   2.21e-05\n"
          ]
        },
        {
          "output_type": "stream",
          "name": "stderr",
          "text": [
            "\n"
          ]
        },
        {
          "output_type": "stream",
          "name": "stdout",
          "text": [
            "\n",
            "      Epoch    GPU_mem   box_loss   cls_loss   dfl_loss  Instances       Size\n"
          ]
        },
        {
          "output_type": "stream",
          "name": "stderr",
          "text": [
            "      4/100      2.59G      3.086      3.447      3.449          9        640: 100%|██████████| 18/18 [00:06<00:00,  2.86it/s]\n",
            "                 Class     Images  Instances      Box(P          R      mAP50  mAP50-95): 100%|██████████| 3/3 [00:01<00:00,  2.70it/s]\n"
          ]
        },
        {
          "output_type": "stream",
          "name": "stdout",
          "text": [
            "                   all         81         81   7.58e-05     0.0123   3.89e-05   2.73e-05\n",
            "\n",
            "      Epoch    GPU_mem   box_loss   cls_loss   dfl_loss  Instances       Size\n"
          ]
        },
        {
          "output_type": "stream",
          "name": "stderr",
          "text": [
            "      5/100      2.61G      2.951      3.222       3.33         11        640: 100%|██████████| 18/18 [00:04<00:00,  4.06it/s]\n",
            "                 Class     Images  Instances      Box(P          R      mAP50  mAP50-95): 100%|██████████| 3/3 [00:00<00:00,  3.72it/s]"
          ]
        },
        {
          "output_type": "stream",
          "name": "stdout",
          "text": [
            "                   all         81         81   0.000316     0.0247   0.000165   3.31e-05\n"
          ]
        },
        {
          "output_type": "stream",
          "name": "stderr",
          "text": [
            "\n"
          ]
        },
        {
          "output_type": "stream",
          "name": "stdout",
          "text": [
            "\n",
            "      Epoch    GPU_mem   box_loss   cls_loss   dfl_loss  Instances       Size\n"
          ]
        },
        {
          "output_type": "stream",
          "name": "stderr",
          "text": [
            "      6/100      2.62G      2.906       3.04      3.152          6        640: 100%|██████████| 18/18 [00:06<00:00,  2.72it/s]\n",
            "                 Class     Images  Instances      Box(P          R      mAP50  mAP50-95): 100%|██████████| 3/3 [00:01<00:00,  2.92it/s]"
          ]
        },
        {
          "output_type": "stream",
          "name": "stdout",
          "text": [
            "                   all         81         81      0.444      0.136      0.151     0.0392\n"
          ]
        },
        {
          "output_type": "stream",
          "name": "stderr",
          "text": [
            "\n"
          ]
        },
        {
          "output_type": "stream",
          "name": "stdout",
          "text": [
            "\n",
            "      Epoch    GPU_mem   box_loss   cls_loss   dfl_loss  Instances       Size\n"
          ]
        },
        {
          "output_type": "stream",
          "name": "stderr",
          "text": [
            "      7/100      2.64G      2.716       2.71      3.031          9        640: 100%|██████████| 18/18 [00:04<00:00,  3.87it/s]\n",
            "                 Class     Images  Instances      Box(P          R      mAP50  mAP50-95): 100%|██████████| 3/3 [00:01<00:00,  2.93it/s]"
          ]
        },
        {
          "output_type": "stream",
          "name": "stdout",
          "text": [
            "                   all         81         81    0.00543     0.0494    0.00387   0.000943\n"
          ]
        },
        {
          "output_type": "stream",
          "name": "stderr",
          "text": [
            "\n"
          ]
        },
        {
          "output_type": "stream",
          "name": "stdout",
          "text": [
            "\n",
            "      Epoch    GPU_mem   box_loss   cls_loss   dfl_loss  Instances       Size\n"
          ]
        },
        {
          "output_type": "stream",
          "name": "stderr",
          "text": [
            "      8/100      2.66G       2.58      2.624      2.991          9        640: 100%|██████████| 18/18 [00:06<00:00,  2.86it/s]\n",
            "                 Class     Images  Instances      Box(P          R      mAP50  mAP50-95): 100%|██████████| 3/3 [00:01<00:00,  2.93it/s]"
          ]
        },
        {
          "output_type": "stream",
          "name": "stdout",
          "text": [
            "                   all         81         81      0.125      0.346     0.0992     0.0252\n"
          ]
        },
        {
          "output_type": "stream",
          "name": "stderr",
          "text": [
            "\n"
          ]
        },
        {
          "output_type": "stream",
          "name": "stdout",
          "text": [
            "\n",
            "      Epoch    GPU_mem   box_loss   cls_loss   dfl_loss  Instances       Size\n"
          ]
        },
        {
          "output_type": "stream",
          "name": "stderr",
          "text": [
            "      9/100      2.68G      2.591      2.541      2.959          9        640: 100%|██████████| 18/18 [00:04<00:00,  3.95it/s]\n",
            "                 Class     Images  Instances      Box(P          R      mAP50  mAP50-95): 100%|██████████| 3/3 [00:01<00:00,  2.95it/s]"
          ]
        },
        {
          "output_type": "stream",
          "name": "stdout",
          "text": [
            "                   all         81         81      0.403       0.37      0.303     0.0968\n"
          ]
        },
        {
          "output_type": "stream",
          "name": "stderr",
          "text": [
            "\n"
          ]
        },
        {
          "output_type": "stream",
          "name": "stdout",
          "text": [
            "\n",
            "      Epoch    GPU_mem   box_loss   cls_loss   dfl_loss  Instances       Size\n"
          ]
        },
        {
          "output_type": "stream",
          "name": "stderr",
          "text": [
            "     10/100      2.69G      2.515      2.414      2.872          9        640: 100%|██████████| 18/18 [00:06<00:00,  2.96it/s]\n",
            "                 Class     Images  Instances      Box(P          R      mAP50  mAP50-95): 100%|██████████| 3/3 [00:00<00:00,  5.47it/s]"
          ]
        },
        {
          "output_type": "stream",
          "name": "stdout",
          "text": [
            "                   all         81         81      0.554       0.42      0.423      0.161\n"
          ]
        },
        {
          "output_type": "stream",
          "name": "stderr",
          "text": [
            "\n"
          ]
        },
        {
          "output_type": "stream",
          "name": "stdout",
          "text": [
            "\n",
            "      Epoch    GPU_mem   box_loss   cls_loss   dfl_loss  Instances       Size\n"
          ]
        },
        {
          "output_type": "stream",
          "name": "stderr",
          "text": [
            "     11/100      2.71G      2.568      2.245      2.904         11        640: 100%|██████████| 18/18 [00:04<00:00,  3.64it/s]\n",
            "                 Class     Images  Instances      Box(P          R      mAP50  mAP50-95): 100%|██████████| 3/3 [00:01<00:00,  2.73it/s]"
          ]
        },
        {
          "output_type": "stream",
          "name": "stdout",
          "text": [
            "                   all         81         81      0.515      0.556      0.491      0.184\n"
          ]
        },
        {
          "output_type": "stream",
          "name": "stderr",
          "text": [
            "\n"
          ]
        },
        {
          "output_type": "stream",
          "name": "stdout",
          "text": [
            "\n",
            "      Epoch    GPU_mem   box_loss   cls_loss   dfl_loss  Instances       Size\n"
          ]
        },
        {
          "output_type": "stream",
          "name": "stderr",
          "text": [
            "     12/100      2.73G      2.521      2.187      2.875         10        640: 100%|██████████| 18/18 [00:06<00:00,  2.86it/s]\n",
            "                 Class     Images  Instances      Box(P          R      mAP50  mAP50-95): 100%|██████████| 3/3 [00:01<00:00,  2.97it/s]\n"
          ]
        },
        {
          "output_type": "stream",
          "name": "stdout",
          "text": [
            "                   all         81         81      0.453      0.605       0.42      0.157\n",
            "\n",
            "      Epoch    GPU_mem   box_loss   cls_loss   dfl_loss  Instances       Size\n"
          ]
        },
        {
          "output_type": "stream",
          "name": "stderr",
          "text": [
            "     13/100      2.74G      2.343      2.163      2.738         15        640: 100%|██████████| 18/18 [00:04<00:00,  4.01it/s]\n",
            "                 Class     Images  Instances      Box(P          R      mAP50  mAP50-95): 100%|██████████| 3/3 [00:01<00:00,  2.84it/s]"
          ]
        },
        {
          "output_type": "stream",
          "name": "stdout",
          "text": [
            "                   all         81         81      0.135       0.63       0.13     0.0605\n"
          ]
        },
        {
          "output_type": "stream",
          "name": "stderr",
          "text": [
            "\n"
          ]
        },
        {
          "output_type": "stream",
          "name": "stdout",
          "text": [
            "\n",
            "      Epoch    GPU_mem   box_loss   cls_loss   dfl_loss  Instances       Size\n"
          ]
        },
        {
          "output_type": "stream",
          "name": "stderr",
          "text": [
            "     14/100      2.76G      2.232      1.942      2.615          9        640: 100%|██████████| 18/18 [00:06<00:00,  2.89it/s]\n",
            "                 Class     Images  Instances      Box(P          R      mAP50  mAP50-95): 100%|██████████| 3/3 [00:01<00:00,  2.89it/s]"
          ]
        },
        {
          "output_type": "stream",
          "name": "stdout",
          "text": [
            "                   all         81         81      0.534      0.519      0.521      0.266\n"
          ]
        },
        {
          "output_type": "stream",
          "name": "stderr",
          "text": [
            "\n"
          ]
        },
        {
          "output_type": "stream",
          "name": "stdout",
          "text": [
            "\n",
            "      Epoch    GPU_mem   box_loss   cls_loss   dfl_loss  Instances       Size\n"
          ]
        },
        {
          "output_type": "stream",
          "name": "stderr",
          "text": [
            "     15/100      2.78G      2.178      1.968      2.629          5        640: 100%|██████████| 18/18 [00:04<00:00,  3.64it/s]\n",
            "                 Class     Images  Instances      Box(P          R      mAP50  mAP50-95): 100%|██████████| 3/3 [00:00<00:00,  3.42it/s]"
          ]
        },
        {
          "output_type": "stream",
          "name": "stdout",
          "text": [
            "                   all         81         81      0.637      0.642       0.68       0.32\n"
          ]
        },
        {
          "output_type": "stream",
          "name": "stderr",
          "text": [
            "\n"
          ]
        },
        {
          "output_type": "stream",
          "name": "stdout",
          "text": [
            "\n",
            "      Epoch    GPU_mem   box_loss   cls_loss   dfl_loss  Instances       Size\n"
          ]
        },
        {
          "output_type": "stream",
          "name": "stderr",
          "text": [
            "     16/100      2.79G       2.04      1.778      2.467         12        640: 100%|██████████| 18/18 [00:06<00:00,  2.81it/s]\n",
            "                 Class     Images  Instances      Box(P          R      mAP50  mAP50-95): 100%|██████████| 3/3 [00:00<00:00,  3.12it/s]"
          ]
        },
        {
          "output_type": "stream",
          "name": "stdout",
          "text": [
            "                   all         81         81      0.263      0.358      0.165     0.0849\n"
          ]
        },
        {
          "output_type": "stream",
          "name": "stderr",
          "text": [
            "\n"
          ]
        },
        {
          "output_type": "stream",
          "name": "stdout",
          "text": [
            "\n",
            "      Epoch    GPU_mem   box_loss   cls_loss   dfl_loss  Instances       Size\n"
          ]
        },
        {
          "output_type": "stream",
          "name": "stderr",
          "text": [
            "     17/100      2.81G      2.021      1.721      2.405          8        640: 100%|██████████| 18/18 [00:04<00:00,  4.00it/s]\n",
            "                 Class     Images  Instances      Box(P          R      mAP50  mAP50-95): 100%|██████████| 3/3 [00:01<00:00,  2.76it/s]"
          ]
        },
        {
          "output_type": "stream",
          "name": "stdout",
          "text": [
            "                   all         81         81      0.578      0.333      0.345      0.205\n"
          ]
        },
        {
          "output_type": "stream",
          "name": "stderr",
          "text": [
            "\n"
          ]
        },
        {
          "output_type": "stream",
          "name": "stdout",
          "text": [
            "\n",
            "      Epoch    GPU_mem   box_loss   cls_loss   dfl_loss  Instances       Size\n"
          ]
        },
        {
          "output_type": "stream",
          "name": "stderr",
          "text": [
            "     18/100      2.83G      1.982      1.707      2.435         11        640: 100%|██████████| 18/18 [00:06<00:00,  2.83it/s]\n",
            "                 Class     Images  Instances      Box(P          R      mAP50  mAP50-95): 100%|██████████| 3/3 [00:01<00:00,  2.88it/s]"
          ]
        },
        {
          "output_type": "stream",
          "name": "stdout",
          "text": [
            "                   all         81         81      0.647      0.612      0.674      0.315\n"
          ]
        },
        {
          "output_type": "stream",
          "name": "stderr",
          "text": [
            "\n"
          ]
        },
        {
          "output_type": "stream",
          "name": "stdout",
          "text": [
            "\n",
            "      Epoch    GPU_mem   box_loss   cls_loss   dfl_loss  Instances       Size\n"
          ]
        },
        {
          "output_type": "stream",
          "name": "stderr",
          "text": [
            "     19/100      2.85G      1.979      1.663      2.406          7        640: 100%|██████████| 18/18 [00:04<00:00,  4.19it/s]\n",
            "                 Class     Images  Instances      Box(P          R      mAP50  mAP50-95): 100%|██████████| 3/3 [00:01<00:00,  2.94it/s]"
          ]
        },
        {
          "output_type": "stream",
          "name": "stdout",
          "text": [
            "                   all         81         81      0.697      0.642      0.762       0.34\n"
          ]
        },
        {
          "output_type": "stream",
          "name": "stderr",
          "text": [
            "\n"
          ]
        },
        {
          "output_type": "stream",
          "name": "stdout",
          "text": [
            "\n",
            "      Epoch    GPU_mem   box_loss   cls_loss   dfl_loss  Instances       Size\n"
          ]
        },
        {
          "output_type": "stream",
          "name": "stderr",
          "text": [
            "     20/100      2.86G      1.886      1.529       2.33          4        640: 100%|██████████| 18/18 [00:06<00:00,  2.70it/s]\n",
            "                 Class     Images  Instances      Box(P          R      mAP50  mAP50-95): 100%|██████████| 3/3 [00:01<00:00,  2.48it/s]"
          ]
        },
        {
          "output_type": "stream",
          "name": "stdout",
          "text": [
            "                   all         81         81      0.592      0.691       0.69       0.33\n"
          ]
        },
        {
          "output_type": "stream",
          "name": "stderr",
          "text": [
            "\n"
          ]
        },
        {
          "output_type": "stream",
          "name": "stdout",
          "text": [
            "\n",
            "      Epoch    GPU_mem   box_loss   cls_loss   dfl_loss  Instances       Size\n"
          ]
        },
        {
          "output_type": "stream",
          "name": "stderr",
          "text": [
            "     21/100      2.88G      1.979       1.61      2.338          8        640: 100%|██████████| 18/18 [00:04<00:00,  4.16it/s]\n",
            "                 Class     Images  Instances      Box(P          R      mAP50  mAP50-95): 100%|██████████| 3/3 [00:01<00:00,  2.81it/s]"
          ]
        },
        {
          "output_type": "stream",
          "name": "stdout",
          "text": [
            "                   all         81         81      0.678       0.79      0.735      0.412\n"
          ]
        },
        {
          "output_type": "stream",
          "name": "stderr",
          "text": [
            "\n"
          ]
        },
        {
          "output_type": "stream",
          "name": "stdout",
          "text": [
            "\n",
            "      Epoch    GPU_mem   box_loss   cls_loss   dfl_loss  Instances       Size\n"
          ]
        },
        {
          "output_type": "stream",
          "name": "stderr",
          "text": [
            "     22/100       2.9G      1.916      1.506      2.319          9        640: 100%|██████████| 18/18 [00:05<00:00,  3.06it/s]\n",
            "                 Class     Images  Instances      Box(P          R      mAP50  mAP50-95): 100%|██████████| 3/3 [00:00<00:00,  3.16it/s]"
          ]
        },
        {
          "output_type": "stream",
          "name": "stdout",
          "text": [
            "                   all         81         81        0.8      0.753      0.818      0.489\n"
          ]
        },
        {
          "output_type": "stream",
          "name": "stderr",
          "text": [
            "\n"
          ]
        },
        {
          "output_type": "stream",
          "name": "stdout",
          "text": [
            "\n",
            "      Epoch    GPU_mem   box_loss   cls_loss   dfl_loss  Instances       Size\n"
          ]
        },
        {
          "output_type": "stream",
          "name": "stderr",
          "text": [
            "     23/100      2.91G      1.827      1.542      2.258          8        640: 100%|██████████| 18/18 [00:04<00:00,  4.13it/s]\n",
            "                 Class     Images  Instances      Box(P          R      mAP50  mAP50-95): 100%|██████████| 3/3 [00:01<00:00,  2.85it/s]"
          ]
        },
        {
          "output_type": "stream",
          "name": "stdout",
          "text": [
            "                   all         81         81      0.656      0.658      0.735      0.417\n"
          ]
        },
        {
          "output_type": "stream",
          "name": "stderr",
          "text": [
            "\n"
          ]
        },
        {
          "output_type": "stream",
          "name": "stdout",
          "text": [
            "\n",
            "      Epoch    GPU_mem   box_loss   cls_loss   dfl_loss  Instances       Size\n"
          ]
        },
        {
          "output_type": "stream",
          "name": "stderr",
          "text": [
            "     24/100      2.93G      1.765      1.512      2.259          5        640: 100%|██████████| 18/18 [00:06<00:00,  2.87it/s]\n",
            "                 Class     Images  Instances      Box(P          R      mAP50  mAP50-95): 100%|██████████| 3/3 [00:00<00:00,  4.30it/s]"
          ]
        },
        {
          "output_type": "stream",
          "name": "stdout",
          "text": [
            "                   all         81         81      0.796      0.728      0.811      0.476\n"
          ]
        },
        {
          "output_type": "stream",
          "name": "stderr",
          "text": [
            "\n"
          ]
        },
        {
          "output_type": "stream",
          "name": "stdout",
          "text": [
            "\n",
            "      Epoch    GPU_mem   box_loss   cls_loss   dfl_loss  Instances       Size\n"
          ]
        },
        {
          "output_type": "stream",
          "name": "stderr",
          "text": [
            "     25/100      2.95G      1.747      1.413      2.172         10        640: 100%|██████████| 18/18 [00:04<00:00,  3.74it/s]\n",
            "                 Class     Images  Instances      Box(P          R      mAP50  mAP50-95): 100%|██████████| 3/3 [00:01<00:00,  2.94it/s]"
          ]
        },
        {
          "output_type": "stream",
          "name": "stdout",
          "text": [
            "                   all         81         81      0.754      0.869      0.872      0.464\n"
          ]
        },
        {
          "output_type": "stream",
          "name": "stderr",
          "text": [
            "\n"
          ]
        },
        {
          "output_type": "stream",
          "name": "stdout",
          "text": [
            "\n",
            "      Epoch    GPU_mem   box_loss   cls_loss   dfl_loss  Instances       Size\n"
          ]
        },
        {
          "output_type": "stream",
          "name": "stderr",
          "text": [
            "     26/100      2.96G      1.752      1.313      2.136          8        640: 100%|██████████| 18/18 [00:06<00:00,  2.98it/s]\n",
            "                 Class     Images  Instances      Box(P          R      mAP50  mAP50-95): 100%|██████████| 3/3 [00:00<00:00,  4.62it/s]"
          ]
        },
        {
          "output_type": "stream",
          "name": "stdout",
          "text": [
            "                   all         81         81      0.853       0.79      0.888      0.521\n"
          ]
        },
        {
          "output_type": "stream",
          "name": "stderr",
          "text": [
            "\n"
          ]
        },
        {
          "output_type": "stream",
          "name": "stdout",
          "text": [
            "\n",
            "      Epoch    GPU_mem   box_loss   cls_loss   dfl_loss  Instances       Size\n"
          ]
        },
        {
          "output_type": "stream",
          "name": "stderr",
          "text": [
            "     27/100      2.98G      1.694      1.359      2.172          9        640: 100%|██████████| 18/18 [00:04<00:00,  3.83it/s]\n",
            "                 Class     Images  Instances      Box(P          R      mAP50  mAP50-95): 100%|██████████| 3/3 [00:00<00:00,  4.00it/s]"
          ]
        },
        {
          "output_type": "stream",
          "name": "stdout",
          "text": [
            "                   all         81         81      0.811      0.899      0.913      0.565\n"
          ]
        },
        {
          "output_type": "stream",
          "name": "stderr",
          "text": [
            "\n"
          ]
        },
        {
          "output_type": "stream",
          "name": "stdout",
          "text": [
            "\n",
            "      Epoch    GPU_mem   box_loss   cls_loss   dfl_loss  Instances       Size\n"
          ]
        },
        {
          "output_type": "stream",
          "name": "stderr",
          "text": [
            "     28/100         3G      1.693      1.386       2.18          6        640: 100%|██████████| 18/18 [00:06<00:00,  2.86it/s]\n",
            "                 Class     Images  Instances      Box(P          R      mAP50  mAP50-95): 100%|██████████| 3/3 [00:00<00:00,  3.04it/s]"
          ]
        },
        {
          "output_type": "stream",
          "name": "stdout",
          "text": [
            "                   all         81         81      0.799      0.833      0.872      0.485\n"
          ]
        },
        {
          "output_type": "stream",
          "name": "stderr",
          "text": [
            "\n"
          ]
        },
        {
          "output_type": "stream",
          "name": "stdout",
          "text": [
            "\n",
            "      Epoch    GPU_mem   box_loss   cls_loss   dfl_loss  Instances       Size\n"
          ]
        },
        {
          "output_type": "stream",
          "name": "stderr",
          "text": [
            "     29/100      3.02G      1.668      1.359        2.1          9        640: 100%|██████████| 18/18 [00:04<00:00,  3.77it/s]\n",
            "                 Class     Images  Instances      Box(P          R      mAP50  mAP50-95): 100%|██████████| 3/3 [00:01<00:00,  2.88it/s]"
          ]
        },
        {
          "output_type": "stream",
          "name": "stdout",
          "text": [
            "                   all         81         81      0.859      0.802      0.908      0.606\n"
          ]
        },
        {
          "output_type": "stream",
          "name": "stderr",
          "text": [
            "\n"
          ]
        },
        {
          "output_type": "stream",
          "name": "stdout",
          "text": [
            "\n",
            "      Epoch    GPU_mem   box_loss   cls_loss   dfl_loss  Instances       Size\n"
          ]
        },
        {
          "output_type": "stream",
          "name": "stderr",
          "text": [
            "     30/100      3.04G      1.603      1.243      2.032         14        640: 100%|██████████| 18/18 [00:06<00:00,  2.86it/s]\n",
            "                 Class     Images  Instances      Box(P          R      mAP50  mAP50-95): 100%|██████████| 3/3 [00:00<00:00,  3.05it/s]"
          ]
        },
        {
          "output_type": "stream",
          "name": "stdout",
          "text": [
            "                   all         81         81      0.901      0.815      0.933      0.568\n"
          ]
        },
        {
          "output_type": "stream",
          "name": "stderr",
          "text": [
            "\n"
          ]
        },
        {
          "output_type": "stream",
          "name": "stdout",
          "text": [
            "\n",
            "      Epoch    GPU_mem   box_loss   cls_loss   dfl_loss  Instances       Size\n"
          ]
        },
        {
          "output_type": "stream",
          "name": "stderr",
          "text": [
            "     31/100      3.05G       1.67      1.318      2.073         10        640: 100%|██████████| 18/18 [00:04<00:00,  3.69it/s]\n",
            "                 Class     Images  Instances      Box(P          R      mAP50  mAP50-95): 100%|██████████| 3/3 [00:00<00:00,  3.10it/s]"
          ]
        },
        {
          "output_type": "stream",
          "name": "stdout",
          "text": [
            "                   all         81         81      0.859       0.79      0.889      0.476\n"
          ]
        },
        {
          "output_type": "stream",
          "name": "stderr",
          "text": [
            "\n"
          ]
        },
        {
          "output_type": "stream",
          "name": "stdout",
          "text": [
            "\n",
            "      Epoch    GPU_mem   box_loss   cls_loss   dfl_loss  Instances       Size\n"
          ]
        },
        {
          "output_type": "stream",
          "name": "stderr",
          "text": [
            "     32/100      3.07G      1.564      1.173      1.973         11        640: 100%|██████████| 18/18 [00:06<00:00,  2.78it/s]\n",
            "                 Class     Images  Instances      Box(P          R      mAP50  mAP50-95): 100%|██████████| 3/3 [00:00<00:00,  3.14it/s]"
          ]
        },
        {
          "output_type": "stream",
          "name": "stdout",
          "text": [
            "                   all         81         81      0.835      0.876      0.917      0.529\n"
          ]
        },
        {
          "output_type": "stream",
          "name": "stderr",
          "text": [
            "\n"
          ]
        },
        {
          "output_type": "stream",
          "name": "stdout",
          "text": [
            "\n",
            "      Epoch    GPU_mem   box_loss   cls_loss   dfl_loss  Instances       Size\n"
          ]
        },
        {
          "output_type": "stream",
          "name": "stderr",
          "text": [
            "     33/100      3.08G      1.583      1.221      2.017          7        640: 100%|██████████| 18/18 [00:04<00:00,  4.13it/s]\n",
            "                 Class     Images  Instances      Box(P          R      mAP50  mAP50-95): 100%|██████████| 3/3 [00:00<00:00,  3.01it/s]"
          ]
        },
        {
          "output_type": "stream",
          "name": "stdout",
          "text": [
            "                   all         81         81      0.822      0.914      0.927      0.538\n"
          ]
        },
        {
          "output_type": "stream",
          "name": "stderr",
          "text": [
            "\n"
          ]
        },
        {
          "output_type": "stream",
          "name": "stdout",
          "text": [
            "\n",
            "      Epoch    GPU_mem   box_loss   cls_loss   dfl_loss  Instances       Size\n"
          ]
        },
        {
          "output_type": "stream",
          "name": "stderr",
          "text": [
            "     34/100       3.1G      1.533      1.204          2          5        640: 100%|██████████| 18/18 [00:06<00:00,  2.97it/s]\n",
            "                 Class     Images  Instances      Box(P          R      mAP50  mAP50-95): 100%|██████████| 3/3 [00:00<00:00,  5.36it/s]"
          ]
        },
        {
          "output_type": "stream",
          "name": "stdout",
          "text": [
            "                   all         81         81      0.884      0.843      0.902       0.51\n"
          ]
        },
        {
          "output_type": "stream",
          "name": "stderr",
          "text": [
            "\n"
          ]
        },
        {
          "output_type": "stream",
          "name": "stdout",
          "text": [
            "\n",
            "      Epoch    GPU_mem   box_loss   cls_loss   dfl_loss  Instances       Size\n"
          ]
        },
        {
          "output_type": "stream",
          "name": "stderr",
          "text": [
            "     35/100      3.12G      1.477      1.118      1.936          8        640: 100%|██████████| 18/18 [00:04<00:00,  4.05it/s]\n",
            "                 Class     Images  Instances      Box(P          R      mAP50  mAP50-95): 100%|██████████| 3/3 [00:00<00:00,  3.02it/s]"
          ]
        },
        {
          "output_type": "stream",
          "name": "stdout",
          "text": [
            "                   all         81         81      0.873      0.845      0.921      0.542\n"
          ]
        },
        {
          "output_type": "stream",
          "name": "stderr",
          "text": [
            "\n"
          ]
        },
        {
          "output_type": "stream",
          "name": "stdout",
          "text": [
            "\n",
            "      Epoch    GPU_mem   box_loss   cls_loss   dfl_loss  Instances       Size\n"
          ]
        },
        {
          "output_type": "stream",
          "name": "stderr",
          "text": [
            "     36/100      3.14G      1.558      1.173      1.964         12        640: 100%|██████████| 18/18 [00:06<00:00,  2.98it/s]\n",
            "                 Class     Images  Instances      Box(P          R      mAP50  mAP50-95): 100%|██████████| 3/3 [00:01<00:00,  2.84it/s]"
          ]
        },
        {
          "output_type": "stream",
          "name": "stdout",
          "text": [
            "                   all         81         81      0.903      0.864      0.949      0.629\n"
          ]
        },
        {
          "output_type": "stream",
          "name": "stderr",
          "text": [
            "\n"
          ]
        },
        {
          "output_type": "stream",
          "name": "stdout",
          "text": [
            "\n",
            "      Epoch    GPU_mem   box_loss   cls_loss   dfl_loss  Instances       Size\n"
          ]
        },
        {
          "output_type": "stream",
          "name": "stderr",
          "text": [
            "     37/100      3.15G      1.529        1.2      1.966         11        640: 100%|██████████| 18/18 [00:04<00:00,  4.23it/s]\n",
            "                 Class     Images  Instances      Box(P          R      mAP50  mAP50-95): 100%|██████████| 3/3 [00:01<00:00,  2.71it/s]"
          ]
        },
        {
          "output_type": "stream",
          "name": "stdout",
          "text": [
            "                   all         81         81      0.896      0.864      0.943      0.584\n"
          ]
        },
        {
          "output_type": "stream",
          "name": "stderr",
          "text": [
            "\n"
          ]
        },
        {
          "output_type": "stream",
          "name": "stdout",
          "text": [
            "\n",
            "      Epoch    GPU_mem   box_loss   cls_loss   dfl_loss  Instances       Size\n"
          ]
        },
        {
          "output_type": "stream",
          "name": "stderr",
          "text": [
            "     38/100      3.17G      1.428      1.088      1.879          7        640: 100%|██████████| 18/18 [00:07<00:00,  2.55it/s]\n",
            "                 Class     Images  Instances      Box(P          R      mAP50  mAP50-95): 100%|██████████| 3/3 [00:01<00:00,  2.90it/s]"
          ]
        },
        {
          "output_type": "stream",
          "name": "stdout",
          "text": [
            "                   all         81         81      0.807       0.93      0.936      0.608\n"
          ]
        },
        {
          "output_type": "stream",
          "name": "stderr",
          "text": [
            "\n"
          ]
        },
        {
          "output_type": "stream",
          "name": "stdout",
          "text": [
            "\n",
            "      Epoch    GPU_mem   box_loss   cls_loss   dfl_loss  Instances       Size\n"
          ]
        },
        {
          "output_type": "stream",
          "name": "stderr",
          "text": [
            "     39/100      3.19G      1.467      1.071      1.897          9        640: 100%|██████████| 18/18 [00:04<00:00,  3.91it/s]\n",
            "                 Class     Images  Instances      Box(P          R      mAP50  mAP50-95): 100%|██████████| 3/3 [00:00<00:00,  3.02it/s]"
          ]
        },
        {
          "output_type": "stream",
          "name": "stdout",
          "text": [
            "                   all         81         81      0.876      0.914       0.95      0.611\n"
          ]
        },
        {
          "output_type": "stream",
          "name": "stderr",
          "text": [
            "\n"
          ]
        },
        {
          "output_type": "stream",
          "name": "stdout",
          "text": [
            "\n",
            "      Epoch    GPU_mem   box_loss   cls_loss   dfl_loss  Instances       Size\n"
          ]
        },
        {
          "output_type": "stream",
          "name": "stderr",
          "text": [
            "     40/100      3.21G      1.498      1.129      2.018         10        640: 100%|██████████| 18/18 [00:05<00:00,  3.16it/s]\n",
            "                 Class     Images  Instances      Box(P          R      mAP50  mAP50-95): 100%|██████████| 3/3 [00:01<00:00,  2.88it/s]"
          ]
        },
        {
          "output_type": "stream",
          "name": "stdout",
          "text": [
            "                   all         81         81      0.921       0.86      0.952      0.615\n"
          ]
        },
        {
          "output_type": "stream",
          "name": "stderr",
          "text": [
            "\n"
          ]
        },
        {
          "output_type": "stream",
          "name": "stdout",
          "text": [
            "\n",
            "      Epoch    GPU_mem   box_loss   cls_loss   dfl_loss  Instances       Size\n"
          ]
        },
        {
          "output_type": "stream",
          "name": "stderr",
          "text": [
            "     41/100      3.22G      1.396     0.9946      1.823          6        640: 100%|██████████| 18/18 [00:04<00:00,  3.85it/s]\n",
            "                 Class     Images  Instances      Box(P          R      mAP50  mAP50-95): 100%|██████████| 3/3 [00:01<00:00,  2.91it/s]"
          ]
        },
        {
          "output_type": "stream",
          "name": "stdout",
          "text": [
            "                   all         81         81      0.896      0.877      0.946      0.602\n"
          ]
        },
        {
          "output_type": "stream",
          "name": "stderr",
          "text": [
            "\n"
          ]
        },
        {
          "output_type": "stream",
          "name": "stdout",
          "text": [
            "\n",
            "      Epoch    GPU_mem   box_loss   cls_loss   dfl_loss  Instances       Size\n"
          ]
        },
        {
          "output_type": "stream",
          "name": "stderr",
          "text": [
            "     42/100      3.24G      1.423       1.07       1.85          8        640: 100%|██████████| 18/18 [00:05<00:00,  3.24it/s]\n",
            "                 Class     Images  Instances      Box(P          R      mAP50  mAP50-95): 100%|██████████| 3/3 [00:01<00:00,  1.84it/s]"
          ]
        },
        {
          "output_type": "stream",
          "name": "stdout",
          "text": [
            "                   all         81         81      0.858      0.914      0.961      0.636\n"
          ]
        },
        {
          "output_type": "stream",
          "name": "stderr",
          "text": [
            "\n"
          ]
        },
        {
          "output_type": "stream",
          "name": "stdout",
          "text": [
            "\n",
            "      Epoch    GPU_mem   box_loss   cls_loss   dfl_loss  Instances       Size\n"
          ]
        },
        {
          "output_type": "stream",
          "name": "stderr",
          "text": [
            "     43/100      3.26G      1.318     0.9883        1.8          7        640: 100%|██████████| 18/18 [00:04<00:00,  3.90it/s]\n",
            "                 Class     Images  Instances      Box(P          R      mAP50  mAP50-95): 100%|██████████| 3/3 [00:00<00:00,  3.55it/s]"
          ]
        },
        {
          "output_type": "stream",
          "name": "stdout",
          "text": [
            "                   all         81         81      0.851      0.926      0.943        0.6\n"
          ]
        },
        {
          "output_type": "stream",
          "name": "stderr",
          "text": [
            "\n"
          ]
        },
        {
          "output_type": "stream",
          "name": "stdout",
          "text": [
            "\n",
            "      Epoch    GPU_mem   box_loss   cls_loss   dfl_loss  Instances       Size\n"
          ]
        },
        {
          "output_type": "stream",
          "name": "stderr",
          "text": [
            "     44/100      3.27G      1.373      1.017      1.837          7        640: 100%|██████████| 18/18 [00:05<00:00,  3.25it/s]\n",
            "                 Class     Images  Instances      Box(P          R      mAP50  mAP50-95): 100%|██████████| 3/3 [00:01<00:00,  2.11it/s]"
          ]
        },
        {
          "output_type": "stream",
          "name": "stdout",
          "text": [
            "                   all         81         81      0.928      0.901       0.96      0.642\n"
          ]
        },
        {
          "output_type": "stream",
          "name": "stderr",
          "text": [
            "\n"
          ]
        },
        {
          "output_type": "stream",
          "name": "stdout",
          "text": [
            "\n",
            "      Epoch    GPU_mem   box_loss   cls_loss   dfl_loss  Instances       Size\n"
          ]
        },
        {
          "output_type": "stream",
          "name": "stderr",
          "text": [
            "     45/100      3.29G      1.378      1.025      1.856          7        640: 100%|██████████| 18/18 [00:04<00:00,  3.74it/s]\n",
            "                 Class     Images  Instances      Box(P          R      mAP50  mAP50-95): 100%|██████████| 3/3 [00:00<00:00,  3.53it/s]"
          ]
        },
        {
          "output_type": "stream",
          "name": "stdout",
          "text": [
            "                   all         81         81      0.903      0.917      0.964      0.645\n"
          ]
        },
        {
          "output_type": "stream",
          "name": "stderr",
          "text": [
            "\n"
          ]
        },
        {
          "output_type": "stream",
          "name": "stdout",
          "text": [
            "\n",
            "      Epoch    GPU_mem   box_loss   cls_loss   dfl_loss  Instances       Size\n"
          ]
        },
        {
          "output_type": "stream",
          "name": "stderr",
          "text": [
            "     46/100      3.31G      1.311     0.9452      1.734         12        640: 100%|██████████| 18/18 [00:06<00:00,  2.88it/s]\n",
            "                 Class     Images  Instances      Box(P          R      mAP50  mAP50-95): 100%|██████████| 3/3 [00:00<00:00,  4.31it/s]"
          ]
        },
        {
          "output_type": "stream",
          "name": "stdout",
          "text": [
            "                   all         81         81      0.881      0.917      0.944       0.66\n"
          ]
        },
        {
          "output_type": "stream",
          "name": "stderr",
          "text": [
            "\n"
          ]
        },
        {
          "output_type": "stream",
          "name": "stdout",
          "text": [
            "\n",
            "      Epoch    GPU_mem   box_loss   cls_loss   dfl_loss  Instances       Size\n"
          ]
        },
        {
          "output_type": "stream",
          "name": "stderr",
          "text": [
            "     47/100      3.32G      1.359     0.9925       1.77         11        640: 100%|██████████| 18/18 [00:05<00:00,  3.37it/s]\n",
            "                 Class     Images  Instances      Box(P          R      mAP50  mAP50-95): 100%|██████████| 3/3 [00:00<00:00,  3.96it/s]"
          ]
        },
        {
          "output_type": "stream",
          "name": "stdout",
          "text": [
            "                   all         81         81      0.909      0.926      0.972      0.646\n"
          ]
        },
        {
          "output_type": "stream",
          "name": "stderr",
          "text": [
            "\n"
          ]
        },
        {
          "output_type": "stream",
          "name": "stdout",
          "text": [
            "\n",
            "      Epoch    GPU_mem   box_loss   cls_loss   dfl_loss  Instances       Size\n"
          ]
        },
        {
          "output_type": "stream",
          "name": "stderr",
          "text": [
            "     48/100      3.34G      1.328     0.9856      1.775          9        640: 100%|██████████| 18/18 [00:06<00:00,  2.84it/s]\n",
            "                 Class     Images  Instances      Box(P          R      mAP50  mAP50-95): 100%|██████████| 3/3 [00:01<00:00,  2.72it/s]"
          ]
        },
        {
          "output_type": "stream",
          "name": "stdout",
          "text": [
            "                   all         81         81      0.932      0.938      0.971      0.718\n"
          ]
        },
        {
          "output_type": "stream",
          "name": "stderr",
          "text": [
            "\n"
          ]
        },
        {
          "output_type": "stream",
          "name": "stdout",
          "text": [
            "\n",
            "      Epoch    GPU_mem   box_loss   cls_loss   dfl_loss  Instances       Size\n"
          ]
        },
        {
          "output_type": "stream",
          "name": "stderr",
          "text": [
            "     49/100      3.36G      1.334     0.9215      1.763          9        640: 100%|██████████| 18/18 [00:04<00:00,  4.07it/s]\n",
            "                 Class     Images  Instances      Box(P          R      mAP50  mAP50-95): 100%|██████████| 3/3 [00:01<00:00,  2.74it/s]"
          ]
        },
        {
          "output_type": "stream",
          "name": "stdout",
          "text": [
            "                   all         81         81      0.959      0.863      0.961       0.64\n"
          ]
        },
        {
          "output_type": "stream",
          "name": "stderr",
          "text": [
            "\n"
          ]
        },
        {
          "output_type": "stream",
          "name": "stdout",
          "text": [
            "\n",
            "      Epoch    GPU_mem   box_loss   cls_loss   dfl_loss  Instances       Size\n"
          ]
        },
        {
          "output_type": "stream",
          "name": "stderr",
          "text": [
            "     50/100      3.37G      1.343     0.9899      1.794          5        640: 100%|██████████| 18/18 [00:06<00:00,  2.73it/s]\n",
            "                 Class     Images  Instances      Box(P          R      mAP50  mAP50-95): 100%|██████████| 3/3 [00:01<00:00,  2.46it/s]"
          ]
        },
        {
          "output_type": "stream",
          "name": "stdout",
          "text": [
            "                   all         81         81      0.877       0.97      0.965      0.677\n"
          ]
        },
        {
          "output_type": "stream",
          "name": "stderr",
          "text": [
            "\n"
          ]
        },
        {
          "output_type": "stream",
          "name": "stdout",
          "text": [
            "\n",
            "      Epoch    GPU_mem   box_loss   cls_loss   dfl_loss  Instances       Size\n"
          ]
        },
        {
          "output_type": "stream",
          "name": "stderr",
          "text": [
            "     51/100      3.39G      1.283     0.9286      1.727          8        640: 100%|██████████| 18/18 [00:04<00:00,  4.22it/s]\n",
            "                 Class     Images  Instances      Box(P          R      mAP50  mAP50-95): 100%|██████████| 3/3 [00:01<00:00,  2.72it/s]\n"
          ]
        },
        {
          "output_type": "stream",
          "name": "stdout",
          "text": [
            "                   all         81         81      0.928       0.96       0.97      0.719\n",
            "\n",
            "      Epoch    GPU_mem   box_loss   cls_loss   dfl_loss  Instances       Size\n"
          ]
        },
        {
          "output_type": "stream",
          "name": "stderr",
          "text": [
            "     52/100      3.41G      1.276     0.9205      1.686          9        640: 100%|██████████| 18/18 [00:06<00:00,  2.93it/s]\n",
            "                 Class     Images  Instances      Box(P          R      mAP50  mAP50-95): 100%|██████████| 3/3 [00:01<00:00,  2.57it/s]"
          ]
        },
        {
          "output_type": "stream",
          "name": "stdout",
          "text": [
            "                   all         81         81      0.948      0.951      0.965      0.678\n"
          ]
        },
        {
          "output_type": "stream",
          "name": "stderr",
          "text": [
            "\n"
          ]
        },
        {
          "output_type": "stream",
          "name": "stdout",
          "text": [
            "\n",
            "      Epoch    GPU_mem   box_loss   cls_loss   dfl_loss  Instances       Size\n"
          ]
        },
        {
          "output_type": "stream",
          "name": "stderr",
          "text": [
            "     53/100      3.43G      1.259     0.9366      1.693         10        640: 100%|██████████| 18/18 [00:04<00:00,  3.76it/s]\n",
            "                 Class     Images  Instances      Box(P          R      mAP50  mAP50-95): 100%|██████████| 3/3 [00:01<00:00,  2.96it/s]"
          ]
        },
        {
          "output_type": "stream",
          "name": "stdout",
          "text": [
            "                   all         81         81      0.962       0.95      0.968      0.693\n"
          ]
        },
        {
          "output_type": "stream",
          "name": "stderr",
          "text": [
            "\n"
          ]
        },
        {
          "output_type": "stream",
          "name": "stdout",
          "text": [
            "\n",
            "      Epoch    GPU_mem   box_loss   cls_loss   dfl_loss  Instances       Size\n"
          ]
        },
        {
          "output_type": "stream",
          "name": "stderr",
          "text": [
            "     54/100      3.44G      1.217     0.8771      1.699          5        640: 100%|██████████| 18/18 [00:06<00:00,  2.91it/s]\n",
            "                 Class     Images  Instances      Box(P          R      mAP50  mAP50-95): 100%|██████████| 3/3 [00:01<00:00,  2.70it/s]"
          ]
        },
        {
          "output_type": "stream",
          "name": "stdout",
          "text": [
            "                   all         81         81      0.963      0.959      0.962      0.682\n"
          ]
        },
        {
          "output_type": "stream",
          "name": "stderr",
          "text": [
            "\n"
          ]
        },
        {
          "output_type": "stream",
          "name": "stdout",
          "text": [
            "\n",
            "      Epoch    GPU_mem   box_loss   cls_loss   dfl_loss  Instances       Size\n"
          ]
        },
        {
          "output_type": "stream",
          "name": "stderr",
          "text": [
            "     55/100      3.46G       1.22     0.9067      1.669          3        640: 100%|██████████| 18/18 [00:04<00:00,  4.01it/s]\n",
            "                 Class     Images  Instances      Box(P          R      mAP50  mAP50-95): 100%|██████████| 3/3 [00:01<00:00,  2.76it/s]"
          ]
        },
        {
          "output_type": "stream",
          "name": "stdout",
          "text": [
            "                   all         81         81      0.906      0.963      0.961      0.696\n"
          ]
        },
        {
          "output_type": "stream",
          "name": "stderr",
          "text": [
            "\n"
          ]
        },
        {
          "output_type": "stream",
          "name": "stdout",
          "text": [
            "\n",
            "      Epoch    GPU_mem   box_loss   cls_loss   dfl_loss  Instances       Size\n"
          ]
        },
        {
          "output_type": "stream",
          "name": "stderr",
          "text": [
            "     56/100      3.48G       1.23     0.8891      1.697          9        640: 100%|██████████| 18/18 [00:05<00:00,  3.15it/s]\n",
            "                 Class     Images  Instances      Box(P          R      mAP50  mAP50-95): 100%|██████████| 3/3 [00:01<00:00,  2.02it/s]"
          ]
        },
        {
          "output_type": "stream",
          "name": "stdout",
          "text": [
            "                   all         81         81       0.95      0.935      0.963      0.708\n"
          ]
        },
        {
          "output_type": "stream",
          "name": "stderr",
          "text": [
            "\n"
          ]
        },
        {
          "output_type": "stream",
          "name": "stdout",
          "text": [
            "\n",
            "      Epoch    GPU_mem   box_loss   cls_loss   dfl_loss  Instances       Size\n"
          ]
        },
        {
          "output_type": "stream",
          "name": "stderr",
          "text": [
            "     57/100      3.49G      1.178     0.8502      1.629          6        640: 100%|██████████| 18/18 [00:04<00:00,  4.12it/s]\n",
            "                 Class     Images  Instances      Box(P          R      mAP50  mAP50-95): 100%|██████████| 3/3 [00:00<00:00,  3.03it/s]"
          ]
        },
        {
          "output_type": "stream",
          "name": "stdout",
          "text": [
            "                   all         81         81      0.931      0.951      0.974      0.698\n"
          ]
        },
        {
          "output_type": "stream",
          "name": "stderr",
          "text": [
            "\n"
          ]
        },
        {
          "output_type": "stream",
          "name": "stdout",
          "text": [
            "\n",
            "      Epoch    GPU_mem   box_loss   cls_loss   dfl_loss  Instances       Size\n"
          ]
        },
        {
          "output_type": "stream",
          "name": "stderr",
          "text": [
            "     58/100      3.51G      1.231     0.8918      1.677          9        640: 100%|██████████| 18/18 [00:04<00:00,  3.81it/s]\n",
            "                 Class     Images  Instances      Box(P          R      mAP50  mAP50-95): 100%|██████████| 3/3 [00:01<00:00,  1.75it/s]"
          ]
        },
        {
          "output_type": "stream",
          "name": "stdout",
          "text": [
            "                   all         81         81      0.928      0.963      0.973      0.679\n"
          ]
        },
        {
          "output_type": "stream",
          "name": "stderr",
          "text": [
            "\n"
          ]
        },
        {
          "output_type": "stream",
          "name": "stdout",
          "text": [
            "\n",
            "      Epoch    GPU_mem   box_loss   cls_loss   dfl_loss  Instances       Size\n"
          ]
        },
        {
          "output_type": "stream",
          "name": "stderr",
          "text": [
            "     59/100      3.53G      1.233     0.8545      1.657         11        640: 100%|██████████| 18/18 [00:04<00:00,  3.79it/s]\n",
            "                 Class     Images  Instances      Box(P          R      mAP50  mAP50-95): 100%|██████████| 3/3 [00:01<00:00,  2.88it/s]"
          ]
        },
        {
          "output_type": "stream",
          "name": "stdout",
          "text": [
            "                   all         81         81      0.916      0.947      0.976        0.7\n"
          ]
        },
        {
          "output_type": "stream",
          "name": "stderr",
          "text": [
            "\n"
          ]
        },
        {
          "output_type": "stream",
          "name": "stdout",
          "text": [
            "\n",
            "      Epoch    GPU_mem   box_loss   cls_loss   dfl_loss  Instances       Size\n"
          ]
        },
        {
          "output_type": "stream",
          "name": "stderr",
          "text": [
            "     60/100      3.54G      1.198     0.8639      1.657          7        640: 100%|██████████| 18/18 [00:04<00:00,  3.82it/s]\n",
            "                 Class     Images  Instances      Box(P          R      mAP50  mAP50-95): 100%|██████████| 3/3 [00:01<00:00,  2.11it/s]"
          ]
        },
        {
          "output_type": "stream",
          "name": "stdout",
          "text": [
            "                   all         81         81      0.951      0.949      0.977      0.718\n"
          ]
        },
        {
          "output_type": "stream",
          "name": "stderr",
          "text": [
            "\n"
          ]
        },
        {
          "output_type": "stream",
          "name": "stdout",
          "text": [
            "\n",
            "      Epoch    GPU_mem   box_loss   cls_loss   dfl_loss  Instances       Size\n"
          ]
        },
        {
          "output_type": "stream",
          "name": "stderr",
          "text": [
            "     61/100      3.56G      1.176     0.8312      1.621          9        640: 100%|██████████| 18/18 [00:05<00:00,  3.47it/s]\n",
            "                 Class     Images  Instances      Box(P          R      mAP50  mAP50-95): 100%|██████████| 3/3 [00:01<00:00,  2.92it/s]"
          ]
        },
        {
          "output_type": "stream",
          "name": "stdout",
          "text": [
            "                   all         81         81      0.916      0.963      0.967      0.685\n"
          ]
        },
        {
          "output_type": "stream",
          "name": "stderr",
          "text": [
            "\n"
          ]
        },
        {
          "output_type": "stream",
          "name": "stdout",
          "text": [
            "\n",
            "      Epoch    GPU_mem   box_loss   cls_loss   dfl_loss  Instances       Size\n"
          ]
        },
        {
          "output_type": "stream",
          "name": "stderr",
          "text": [
            "     62/100      3.58G       1.19     0.8163      1.595          9        640: 100%|██████████| 18/18 [00:04<00:00,  3.99it/s]\n",
            "                 Class     Images  Instances      Box(P          R      mAP50  mAP50-95): 100%|██████████| 3/3 [00:01<00:00,  2.76it/s]"
          ]
        },
        {
          "output_type": "stream",
          "name": "stdout",
          "text": [
            "                   all         81         81      0.965      0.914      0.971      0.714\n"
          ]
        },
        {
          "output_type": "stream",
          "name": "stderr",
          "text": [
            "\n"
          ]
        },
        {
          "output_type": "stream",
          "name": "stdout",
          "text": [
            "\n",
            "      Epoch    GPU_mem   box_loss   cls_loss   dfl_loss  Instances       Size\n"
          ]
        },
        {
          "output_type": "stream",
          "name": "stderr",
          "text": [
            "     63/100       3.6G      1.149     0.8238      1.623         10        640: 100%|██████████| 18/18 [00:05<00:00,  3.07it/s]\n",
            "                 Class     Images  Instances      Box(P          R      mAP50  mAP50-95): 100%|██████████| 3/3 [00:01<00:00,  2.95it/s]"
          ]
        },
        {
          "output_type": "stream",
          "name": "stdout",
          "text": [
            "                   all         81         81      0.917      0.954      0.958      0.696\n"
          ]
        },
        {
          "output_type": "stream",
          "name": "stderr",
          "text": [
            "\n"
          ]
        },
        {
          "output_type": "stream",
          "name": "stdout",
          "text": [
            "\n",
            "      Epoch    GPU_mem   box_loss   cls_loss   dfl_loss  Instances       Size\n"
          ]
        },
        {
          "output_type": "stream",
          "name": "stderr",
          "text": [
            "     64/100      3.62G      1.157     0.8389      1.607          9        640: 100%|██████████| 18/18 [00:04<00:00,  3.90it/s]\n",
            "                 Class     Images  Instances      Box(P          R      mAP50  mAP50-95): 100%|██████████| 3/3 [00:01<00:00,  2.52it/s]"
          ]
        },
        {
          "output_type": "stream",
          "name": "stdout",
          "text": [
            "                   all         81         81      0.948      0.963      0.981      0.728\n"
          ]
        },
        {
          "output_type": "stream",
          "name": "stderr",
          "text": [
            "\n"
          ]
        },
        {
          "output_type": "stream",
          "name": "stdout",
          "text": [
            "\n",
            "      Epoch    GPU_mem   box_loss   cls_loss   dfl_loss  Instances       Size\n"
          ]
        },
        {
          "output_type": "stream",
          "name": "stderr",
          "text": [
            "     65/100      3.63G      1.096     0.7478      1.527          5        640: 100%|██████████| 18/18 [00:06<00:00,  2.80it/s]\n",
            "                 Class     Images  Instances      Box(P          R      mAP50  mAP50-95): 100%|██████████| 3/3 [00:01<00:00,  2.67it/s]"
          ]
        },
        {
          "output_type": "stream",
          "name": "stdout",
          "text": [
            "                   all         81         81      0.946      0.938      0.964      0.709\n"
          ]
        },
        {
          "output_type": "stream",
          "name": "stderr",
          "text": [
            "\n"
          ]
        },
        {
          "output_type": "stream",
          "name": "stdout",
          "text": [
            "\n",
            "      Epoch    GPU_mem   box_loss   cls_loss   dfl_loss  Instances       Size\n"
          ]
        },
        {
          "output_type": "stream",
          "name": "stderr",
          "text": [
            "     66/100      3.65G       1.16     0.7942      1.632          5        640: 100%|██████████| 18/18 [00:05<00:00,  3.59it/s]\n",
            "                 Class     Images  Instances      Box(P          R      mAP50  mAP50-95): 100%|██████████| 3/3 [00:00<00:00,  5.57it/s]"
          ]
        },
        {
          "output_type": "stream",
          "name": "stdout",
          "text": [
            "                   all         81         81      0.936      0.951      0.974      0.713\n"
          ]
        },
        {
          "output_type": "stream",
          "name": "stderr",
          "text": [
            "\n"
          ]
        },
        {
          "output_type": "stream",
          "name": "stdout",
          "text": [
            "\n",
            "      Epoch    GPU_mem   box_loss   cls_loss   dfl_loss  Instances       Size\n"
          ]
        },
        {
          "output_type": "stream",
          "name": "stderr",
          "text": [
            "     67/100      3.66G      1.179     0.8063      1.589          6        640: 100%|██████████| 18/18 [00:06<00:00,  2.98it/s]\n",
            "                 Class     Images  Instances      Box(P          R      mAP50  mAP50-95): 100%|██████████| 3/3 [00:00<00:00,  3.70it/s]"
          ]
        },
        {
          "output_type": "stream",
          "name": "stdout",
          "text": [
            "                   all         81         81      0.926      0.951      0.973       0.74\n"
          ]
        },
        {
          "output_type": "stream",
          "name": "stderr",
          "text": [
            "\n"
          ]
        },
        {
          "output_type": "stream",
          "name": "stdout",
          "text": [
            "\n",
            "      Epoch    GPU_mem   box_loss   cls_loss   dfl_loss  Instances       Size\n"
          ]
        },
        {
          "output_type": "stream",
          "name": "stderr",
          "text": [
            "     68/100      3.68G      1.121     0.7594      1.585         10        640: 100%|██████████| 18/18 [00:04<00:00,  3.94it/s]\n",
            "                 Class     Images  Instances      Box(P          R      mAP50  mAP50-95): 100%|██████████| 3/3 [00:01<00:00,  2.65it/s]\n"
          ]
        },
        {
          "output_type": "stream",
          "name": "stdout",
          "text": [
            "                   all         81         81      0.929      0.926      0.968      0.735\n",
            "\n",
            "      Epoch    GPU_mem   box_loss   cls_loss   dfl_loss  Instances       Size\n"
          ]
        },
        {
          "output_type": "stream",
          "name": "stderr",
          "text": [
            "     69/100       3.7G      1.125     0.7759      1.592          6        640: 100%|██████████| 18/18 [00:06<00:00,  2.57it/s]\n",
            "                 Class     Images  Instances      Box(P          R      mAP50  mAP50-95): 100%|██████████| 3/3 [00:01<00:00,  2.65it/s]"
          ]
        },
        {
          "output_type": "stream",
          "name": "stdout",
          "text": [
            "                   all         81         81      0.938      0.929      0.977      0.743\n"
          ]
        },
        {
          "output_type": "stream",
          "name": "stderr",
          "text": [
            "\n"
          ]
        },
        {
          "output_type": "stream",
          "name": "stdout",
          "text": [
            "\n",
            "      Epoch    GPU_mem   box_loss   cls_loss   dfl_loss  Instances       Size\n"
          ]
        },
        {
          "output_type": "stream",
          "name": "stderr",
          "text": [
            "     70/100      3.71G      1.166     0.8503       1.62          5        640: 100%|██████████| 18/18 [00:04<00:00,  3.93it/s]\n",
            "                 Class     Images  Instances      Box(P          R      mAP50  mAP50-95): 100%|██████████| 3/3 [00:01<00:00,  2.72it/s]"
          ]
        },
        {
          "output_type": "stream",
          "name": "stdout",
          "text": [
            "                   all         81         81      0.956      0.938      0.979      0.734\n"
          ]
        },
        {
          "output_type": "stream",
          "name": "stderr",
          "text": [
            "\n"
          ]
        },
        {
          "output_type": "stream",
          "name": "stdout",
          "text": [
            "\n",
            "      Epoch    GPU_mem   box_loss   cls_loss   dfl_loss  Instances       Size\n"
          ]
        },
        {
          "output_type": "stream",
          "name": "stderr",
          "text": [
            "     71/100      3.73G      1.091     0.7845      1.541          5        640: 100%|██████████| 18/18 [00:06<00:00,  2.97it/s]\n",
            "                 Class     Images  Instances      Box(P          R      mAP50  mAP50-95): 100%|██████████| 3/3 [00:01<00:00,  2.62it/s]"
          ]
        },
        {
          "output_type": "stream",
          "name": "stdout",
          "text": [
            "                   all         81         81      0.939      0.988      0.979      0.732\n"
          ]
        },
        {
          "output_type": "stream",
          "name": "stderr",
          "text": [
            "\n"
          ]
        },
        {
          "output_type": "stream",
          "name": "stdout",
          "text": [
            "\n",
            "      Epoch    GPU_mem   box_loss   cls_loss   dfl_loss  Instances       Size\n"
          ]
        },
        {
          "output_type": "stream",
          "name": "stderr",
          "text": [
            "     72/100      3.75G      1.072      0.755      1.533         13        640: 100%|██████████| 18/18 [00:04<00:00,  4.10it/s]\n",
            "                 Class     Images  Instances      Box(P          R      mAP50  mAP50-95): 100%|██████████| 3/3 [00:00<00:00,  3.16it/s]"
          ]
        },
        {
          "output_type": "stream",
          "name": "stdout",
          "text": [
            "                   all         81         81      0.968      0.914      0.978      0.747\n"
          ]
        },
        {
          "output_type": "stream",
          "name": "stderr",
          "text": [
            "\n"
          ]
        },
        {
          "output_type": "stream",
          "name": "stdout",
          "text": [
            "\n",
            "      Epoch    GPU_mem   box_loss   cls_loss   dfl_loss  Instances       Size\n"
          ]
        },
        {
          "output_type": "stream",
          "name": "stderr",
          "text": [
            "     73/100      3.77G      1.123     0.7979      1.564          8        640: 100%|██████████| 18/18 [00:06<00:00,  2.72it/s]\n",
            "                 Class     Images  Instances      Box(P          R      mAP50  mAP50-95): 100%|██████████| 3/3 [00:01<00:00,  2.80it/s]"
          ]
        },
        {
          "output_type": "stream",
          "name": "stdout",
          "text": [
            "                   all         81         81      0.963      0.963      0.982      0.741\n"
          ]
        },
        {
          "output_type": "stream",
          "name": "stderr",
          "text": [
            "\n"
          ]
        },
        {
          "output_type": "stream",
          "name": "stdout",
          "text": [
            "\n",
            "      Epoch    GPU_mem   box_loss   cls_loss   dfl_loss  Instances       Size\n"
          ]
        },
        {
          "output_type": "stream",
          "name": "stderr",
          "text": [
            "     74/100      3.78G      1.071     0.7575      1.508          6        640: 100%|██████████| 18/18 [00:04<00:00,  4.27it/s]\n",
            "                 Class     Images  Instances      Box(P          R      mAP50  mAP50-95): 100%|██████████| 3/3 [00:01<00:00,  2.80it/s]"
          ]
        },
        {
          "output_type": "stream",
          "name": "stdout",
          "text": [
            "                   all         81         81      0.951      0.955       0.98       0.71\n"
          ]
        },
        {
          "output_type": "stream",
          "name": "stderr",
          "text": [
            "\n"
          ]
        },
        {
          "output_type": "stream",
          "name": "stdout",
          "text": [
            "\n",
            "      Epoch    GPU_mem   box_loss   cls_loss   dfl_loss  Instances       Size\n"
          ]
        },
        {
          "output_type": "stream",
          "name": "stderr",
          "text": [
            "     75/100       3.8G      1.076     0.7005      1.527         11        640: 100%|██████████| 18/18 [00:06<00:00,  2.90it/s]\n",
            "                 Class     Images  Instances      Box(P          R      mAP50  mAP50-95): 100%|██████████| 3/3 [00:01<00:00,  2.56it/s]"
          ]
        },
        {
          "output_type": "stream",
          "name": "stdout",
          "text": [
            "                   all         81         81      0.948      0.963      0.981      0.748\n"
          ]
        },
        {
          "output_type": "stream",
          "name": "stderr",
          "text": [
            "\n"
          ]
        },
        {
          "output_type": "stream",
          "name": "stdout",
          "text": [
            "\n",
            "      Epoch    GPU_mem   box_loss   cls_loss   dfl_loss  Instances       Size\n"
          ]
        },
        {
          "output_type": "stream",
          "name": "stderr",
          "text": [
            "     76/100      3.82G      1.086     0.7358      1.552         11        640: 100%|██████████| 18/18 [00:04<00:00,  4.12it/s]\n",
            "                 Class     Images  Instances      Box(P          R      mAP50  mAP50-95): 100%|██████████| 3/3 [00:01<00:00,  2.86it/s]"
          ]
        },
        {
          "output_type": "stream",
          "name": "stdout",
          "text": [
            "                   all         81         81      0.951      0.949       0.98      0.724\n"
          ]
        },
        {
          "output_type": "stream",
          "name": "stderr",
          "text": [
            "\n"
          ]
        },
        {
          "output_type": "stream",
          "name": "stdout",
          "text": [
            "\n",
            "      Epoch    GPU_mem   box_loss   cls_loss   dfl_loss  Instances       Size\n"
          ]
        },
        {
          "output_type": "stream",
          "name": "stderr",
          "text": [
            "     77/100      3.84G      1.088      0.756      1.518         13        640: 100%|██████████| 18/18 [00:06<00:00,  3.00it/s]\n",
            "                 Class     Images  Instances      Box(P          R      mAP50  mAP50-95): 100%|██████████| 3/3 [00:00<00:00,  3.06it/s]"
          ]
        },
        {
          "output_type": "stream",
          "name": "stdout",
          "text": [
            "                   all         81         81      0.952      0.982       0.98      0.749\n"
          ]
        },
        {
          "output_type": "stream",
          "name": "stderr",
          "text": [
            "\n"
          ]
        },
        {
          "output_type": "stream",
          "name": "stdout",
          "text": [
            "\n",
            "      Epoch    GPU_mem   box_loss   cls_loss   dfl_loss  Instances       Size\n"
          ]
        },
        {
          "output_type": "stream",
          "name": "stderr",
          "text": [
            "     78/100      3.85G      1.002     0.7339      1.481          6        640: 100%|██████████| 18/18 [00:04<00:00,  4.02it/s]\n",
            "                 Class     Images  Instances      Box(P          R      mAP50  mAP50-95): 100%|██████████| 3/3 [00:00<00:00,  3.03it/s]"
          ]
        },
        {
          "output_type": "stream",
          "name": "stdout",
          "text": [
            "                   all         81         81      0.963      0.957      0.981      0.742\n"
          ]
        },
        {
          "output_type": "stream",
          "name": "stderr",
          "text": [
            "\n"
          ]
        },
        {
          "output_type": "stream",
          "name": "stdout",
          "text": [
            "\n",
            "      Epoch    GPU_mem   box_loss   cls_loss   dfl_loss  Instances       Size\n"
          ]
        },
        {
          "output_type": "stream",
          "name": "stderr",
          "text": [
            "     79/100      3.87G      1.017     0.7039      1.501          8        640: 100%|██████████| 18/18 [00:06<00:00,  2.84it/s]\n",
            "                 Class     Images  Instances      Box(P          R      mAP50  mAP50-95): 100%|██████████| 3/3 [00:01<00:00,  2.47it/s]"
          ]
        },
        {
          "output_type": "stream",
          "name": "stdout",
          "text": [
            "                   all         81         81      0.961      0.963      0.979      0.746\n"
          ]
        },
        {
          "output_type": "stream",
          "name": "stderr",
          "text": [
            "\n"
          ]
        },
        {
          "output_type": "stream",
          "name": "stdout",
          "text": [
            "\n",
            "      Epoch    GPU_mem   box_loss   cls_loss   dfl_loss  Instances       Size\n"
          ]
        },
        {
          "output_type": "stream",
          "name": "stderr",
          "text": [
            "     80/100      3.89G     0.9857     0.6734      1.468          8        640: 100%|██████████| 18/18 [00:04<00:00,  3.93it/s]\n",
            "                 Class     Images  Instances      Box(P          R      mAP50  mAP50-95): 100%|██████████| 3/3 [00:00<00:00,  3.11it/s]"
          ]
        },
        {
          "output_type": "stream",
          "name": "stdout",
          "text": [
            "                   all         81         81      0.974      0.938      0.978      0.738\n"
          ]
        },
        {
          "output_type": "stream",
          "name": "stderr",
          "text": [
            "\n"
          ]
        },
        {
          "output_type": "stream",
          "name": "stdout",
          "text": [
            "\n",
            "      Epoch    GPU_mem   box_loss   cls_loss   dfl_loss  Instances       Size\n"
          ]
        },
        {
          "output_type": "stream",
          "name": "stderr",
          "text": [
            "     81/100       3.9G      1.035     0.7162      1.482          9        640: 100%|██████████| 18/18 [00:06<00:00,  2.72it/s]\n",
            "                 Class     Images  Instances      Box(P          R      mAP50  mAP50-95): 100%|██████████| 3/3 [00:01<00:00,  2.88it/s]"
          ]
        },
        {
          "output_type": "stream",
          "name": "stdout",
          "text": [
            "                   all         81         81       0.95      0.945       0.98      0.757\n"
          ]
        },
        {
          "output_type": "stream",
          "name": "stderr",
          "text": [
            "\n"
          ]
        },
        {
          "output_type": "stream",
          "name": "stdout",
          "text": [
            "\n",
            "      Epoch    GPU_mem   box_loss   cls_loss   dfl_loss  Instances       Size\n"
          ]
        },
        {
          "output_type": "stream",
          "name": "stderr",
          "text": [
            "     82/100      3.92G      1.023      0.669      1.465          8        640: 100%|██████████| 18/18 [00:04<00:00,  3.97it/s]\n",
            "                 Class     Images  Instances      Box(P          R      mAP50  mAP50-95): 100%|██████████| 3/3 [00:01<00:00,  2.59it/s]"
          ]
        },
        {
          "output_type": "stream",
          "name": "stdout",
          "text": [
            "                   all         81         81      0.963      0.968      0.981      0.739\n"
          ]
        },
        {
          "output_type": "stream",
          "name": "stderr",
          "text": [
            "\n"
          ]
        },
        {
          "output_type": "stream",
          "name": "stdout",
          "text": [
            "\n",
            "      Epoch    GPU_mem   box_loss   cls_loss   dfl_loss  Instances       Size\n"
          ]
        },
        {
          "output_type": "stream",
          "name": "stderr",
          "text": [
            "     83/100      3.94G      1.013     0.7194      1.458          6        640: 100%|██████████| 18/18 [00:06<00:00,  2.79it/s]\n",
            "                 Class     Images  Instances      Box(P          R      mAP50  mAP50-95): 100%|██████████| 3/3 [00:00<00:00,  3.36it/s]"
          ]
        },
        {
          "output_type": "stream",
          "name": "stdout",
          "text": [
            "                   all         81         81      0.987      0.944      0.982      0.766\n"
          ]
        },
        {
          "output_type": "stream",
          "name": "stderr",
          "text": [
            "\n"
          ]
        },
        {
          "output_type": "stream",
          "name": "stdout",
          "text": [
            "\n",
            "      Epoch    GPU_mem   box_loss   cls_loss   dfl_loss  Instances       Size\n"
          ]
        },
        {
          "output_type": "stream",
          "name": "stderr",
          "text": [
            "     84/100      3.96G      0.968     0.6473      1.438          9        640: 100%|██████████| 18/18 [00:04<00:00,  4.04it/s]\n",
            "                 Class     Images  Instances      Box(P          R      mAP50  mAP50-95): 100%|██████████| 3/3 [00:00<00:00,  3.26it/s]"
          ]
        },
        {
          "output_type": "stream",
          "name": "stdout",
          "text": [
            "                   all         81         81      0.951      0.975      0.981      0.775\n"
          ]
        },
        {
          "output_type": "stream",
          "name": "stderr",
          "text": [
            "\n"
          ]
        },
        {
          "output_type": "stream",
          "name": "stdout",
          "text": [
            "\n",
            "      Epoch    GPU_mem   box_loss   cls_loss   dfl_loss  Instances       Size\n"
          ]
        },
        {
          "output_type": "stream",
          "name": "stderr",
          "text": [
            "     85/100      3.97G      1.023     0.7185      1.494          5        640: 100%|██████████| 18/18 [00:06<00:00,  2.77it/s]\n",
            "                 Class     Images  Instances      Box(P          R      mAP50  mAP50-95): 100%|██████████| 3/3 [00:01<00:00,  2.79it/s]"
          ]
        },
        {
          "output_type": "stream",
          "name": "stdout",
          "text": [
            "                   all         81         81       0.95      0.975       0.98      0.772\n"
          ]
        },
        {
          "output_type": "stream",
          "name": "stderr",
          "text": [
            "\n"
          ]
        },
        {
          "output_type": "stream",
          "name": "stdout",
          "text": [
            "\n",
            "      Epoch    GPU_mem   box_loss   cls_loss   dfl_loss  Instances       Size\n"
          ]
        },
        {
          "output_type": "stream",
          "name": "stderr",
          "text": [
            "     86/100      3.99G      1.037     0.7186      1.488          7        640: 100%|██████████| 18/18 [00:04<00:00,  4.06it/s]\n",
            "                 Class     Images  Instances      Box(P          R      mAP50  mAP50-95): 100%|██████████| 3/3 [00:00<00:00,  3.01it/s]"
          ]
        },
        {
          "output_type": "stream",
          "name": "stdout",
          "text": [
            "                   all         81         81      0.982      0.938      0.982      0.763\n"
          ]
        },
        {
          "output_type": "stream",
          "name": "stderr",
          "text": [
            "\n"
          ]
        },
        {
          "output_type": "stream",
          "name": "stdout",
          "text": [
            "\n",
            "      Epoch    GPU_mem   box_loss   cls_loss   dfl_loss  Instances       Size\n"
          ]
        },
        {
          "output_type": "stream",
          "name": "stderr",
          "text": [
            "     87/100      4.01G     0.9843     0.6601      1.438          5        640: 100%|██████████| 18/18 [00:05<00:00,  3.18it/s]\n",
            "                 Class     Images  Instances      Box(P          R      mAP50  mAP50-95): 100%|██████████| 3/3 [00:01<00:00,  2.32it/s]"
          ]
        },
        {
          "output_type": "stream",
          "name": "stdout",
          "text": [
            "                   all         81         81      0.975      0.956      0.983      0.768\n"
          ]
        },
        {
          "output_type": "stream",
          "name": "stderr",
          "text": [
            "\n"
          ]
        },
        {
          "output_type": "stream",
          "name": "stdout",
          "text": [
            "\n",
            "      Epoch    GPU_mem   box_loss   cls_loss   dfl_loss  Instances       Size\n"
          ]
        },
        {
          "output_type": "stream",
          "name": "stderr",
          "text": [
            "     88/100      4.02G     0.9745     0.6747       1.46         10        640: 100%|██████████| 18/18 [00:04<00:00,  4.25it/s]\n",
            "                 Class     Images  Instances      Box(P          R      mAP50  mAP50-95): 100%|██████████| 3/3 [00:01<00:00,  2.83it/s]"
          ]
        },
        {
          "output_type": "stream",
          "name": "stdout",
          "text": [
            "                   all         81         81      0.963      0.975      0.982      0.762\n"
          ]
        },
        {
          "output_type": "stream",
          "name": "stderr",
          "text": [
            "\n"
          ]
        },
        {
          "output_type": "stream",
          "name": "stdout",
          "text": [
            "\n",
            "      Epoch    GPU_mem   box_loss   cls_loss   dfl_loss  Instances       Size\n"
          ]
        },
        {
          "output_type": "stream",
          "name": "stderr",
          "text": [
            "     89/100      4.04G      1.002     0.6801       1.45          4        640: 100%|██████████| 18/18 [00:04<00:00,  3.72it/s]\n",
            "                 Class     Images  Instances      Box(P          R      mAP50  mAP50-95): 100%|██████████| 3/3 [00:01<00:00,  2.13it/s]"
          ]
        },
        {
          "output_type": "stream",
          "name": "stdout",
          "text": [
            "                   all         81         81      0.952      0.986      0.983      0.782\n"
          ]
        },
        {
          "output_type": "stream",
          "name": "stderr",
          "text": [
            "\n"
          ]
        },
        {
          "output_type": "stream",
          "name": "stdout",
          "text": [
            "\n",
            "      Epoch    GPU_mem   box_loss   cls_loss   dfl_loss  Instances       Size\n"
          ]
        },
        {
          "output_type": "stream",
          "name": "stderr",
          "text": [
            "     90/100      4.06G     0.9438     0.6607      1.414         11        640: 100%|██████████| 18/18 [00:04<00:00,  4.21it/s]\n",
            "                 Class     Images  Instances      Box(P          R      mAP50  mAP50-95): 100%|██████████| 3/3 [00:01<00:00,  2.79it/s]"
          ]
        },
        {
          "output_type": "stream",
          "name": "stdout",
          "text": [
            "                   all         81         81      0.947      0.988      0.984      0.783\n"
          ]
        },
        {
          "output_type": "stream",
          "name": "stderr",
          "text": [
            "\n"
          ]
        },
        {
          "output_type": "stream",
          "name": "stdout",
          "text": [
            "Closing dataloader mosaic\n",
            "\u001b[34m\u001b[1malbumentations: \u001b[0mBlur(p=0.01, blur_limit=(3, 7)), MedianBlur(p=0.01, blur_limit=(3, 7)), ToGray(p=0.01, method='weighted_average', num_output_channels=3), CLAHE(p=0.01, clip_limit=(1.0, 4.0), tile_grid_size=(8, 8))\n",
            "\n",
            "      Epoch    GPU_mem   box_loss   cls_loss   dfl_loss  Instances       Size\n"
          ]
        },
        {
          "output_type": "stream",
          "name": "stderr",
          "text": [
            "     91/100      4.07G      0.889     0.6244      1.412          5        640: 100%|██████████| 18/18 [00:08<00:00,  2.21it/s]\n",
            "                 Class     Images  Instances      Box(P          R      mAP50  mAP50-95): 100%|██████████| 3/3 [00:01<00:00,  2.96it/s]"
          ]
        },
        {
          "output_type": "stream",
          "name": "stdout",
          "text": [
            "                   all         81         81      0.941      0.988      0.982      0.774\n"
          ]
        },
        {
          "output_type": "stream",
          "name": "stderr",
          "text": [
            "\n"
          ]
        },
        {
          "output_type": "stream",
          "name": "stdout",
          "text": [
            "\n",
            "      Epoch    GPU_mem   box_loss   cls_loss   dfl_loss  Instances       Size\n"
          ]
        },
        {
          "output_type": "stream",
          "name": "stderr",
          "text": [
            "     92/100      4.09G      0.863     0.6412      1.379          5        640: 100%|██████████| 18/18 [00:04<00:00,  4.31it/s]\n",
            "                 Class     Images  Instances      Box(P          R      mAP50  mAP50-95): 100%|██████████| 3/3 [00:00<00:00,  3.37it/s]"
          ]
        },
        {
          "output_type": "stream",
          "name": "stdout",
          "text": [
            "                   all         81         81      0.939      0.988      0.982      0.791\n"
          ]
        },
        {
          "output_type": "stream",
          "name": "stderr",
          "text": [
            "\n"
          ]
        },
        {
          "output_type": "stream",
          "name": "stdout",
          "text": [
            "\n",
            "      Epoch    GPU_mem   box_loss   cls_loss   dfl_loss  Instances       Size\n"
          ]
        },
        {
          "output_type": "stream",
          "name": "stderr",
          "text": [
            "     93/100      4.11G     0.8775     0.5874        1.4          5        640: 100%|██████████| 18/18 [00:05<00:00,  3.58it/s]\n",
            "                 Class     Images  Instances      Box(P          R      mAP50  mAP50-95): 100%|██████████| 3/3 [00:01<00:00,  2.16it/s]"
          ]
        },
        {
          "output_type": "stream",
          "name": "stdout",
          "text": [
            "                   all         81         81      0.944      0.975      0.982      0.769\n"
          ]
        },
        {
          "output_type": "stream",
          "name": "stderr",
          "text": [
            "\n"
          ]
        },
        {
          "output_type": "stream",
          "name": "stdout",
          "text": [
            "\n",
            "      Epoch    GPU_mem   box_loss   cls_loss   dfl_loss  Instances       Size\n"
          ]
        },
        {
          "output_type": "stream",
          "name": "stderr",
          "text": [
            "     94/100      4.12G     0.8906     0.5852      1.396          5        640: 100%|██████████| 18/18 [00:04<00:00,  3.88it/s]\n",
            "                 Class     Images  Instances      Box(P          R      mAP50  mAP50-95): 100%|██████████| 3/3 [00:01<00:00,  2.95it/s]"
          ]
        },
        {
          "output_type": "stream",
          "name": "stdout",
          "text": [
            "                   all         81         81      0.955      0.975      0.983      0.776\n"
          ]
        },
        {
          "output_type": "stream",
          "name": "stderr",
          "text": [
            "\n"
          ]
        },
        {
          "output_type": "stream",
          "name": "stdout",
          "text": [
            "\n",
            "      Epoch    GPU_mem   box_loss   cls_loss   dfl_loss  Instances       Size\n"
          ]
        },
        {
          "output_type": "stream",
          "name": "stderr",
          "text": [
            "     95/100      4.14G     0.8663     0.5598      1.376          5        640: 100%|██████████| 18/18 [00:04<00:00,  4.11it/s]\n",
            "                 Class     Images  Instances      Box(P          R      mAP50  mAP50-95): 100%|██████████| 3/3 [00:01<00:00,  2.01it/s]"
          ]
        },
        {
          "output_type": "stream",
          "name": "stdout",
          "text": [
            "                   all         81         81      0.963      0.974      0.984      0.773\n"
          ]
        },
        {
          "output_type": "stream",
          "name": "stderr",
          "text": [
            "\n"
          ]
        },
        {
          "output_type": "stream",
          "name": "stdout",
          "text": [
            "\n",
            "      Epoch    GPU_mem   box_loss   cls_loss   dfl_loss  Instances       Size\n"
          ]
        },
        {
          "output_type": "stream",
          "name": "stderr",
          "text": [
            "     96/100      4.16G     0.8516     0.5758       1.36          5        640: 100%|██████████| 18/18 [00:04<00:00,  3.60it/s]\n",
            "                 Class     Images  Instances      Box(P          R      mAP50  mAP50-95): 100%|██████████| 3/3 [00:00<00:00,  3.33it/s]"
          ]
        },
        {
          "output_type": "stream",
          "name": "stdout",
          "text": [
            "                   all         81         81      0.975      0.974      0.985      0.789\n"
          ]
        },
        {
          "output_type": "stream",
          "name": "stderr",
          "text": [
            "\n"
          ]
        },
        {
          "output_type": "stream",
          "name": "stdout",
          "text": [
            "\n",
            "      Epoch    GPU_mem   box_loss   cls_loss   dfl_loss  Instances       Size\n"
          ]
        },
        {
          "output_type": "stream",
          "name": "stderr",
          "text": [
            "     97/100      4.18G     0.8663     0.5801      1.388          5        640: 100%|██████████| 18/18 [00:04<00:00,  4.19it/s]\n",
            "                 Class     Images  Instances      Box(P          R      mAP50  mAP50-95): 100%|██████████| 3/3 [00:00<00:00,  3.30it/s]"
          ]
        },
        {
          "output_type": "stream",
          "name": "stdout",
          "text": [
            "                   all         81         81      0.964      0.984      0.985      0.786\n"
          ]
        },
        {
          "output_type": "stream",
          "name": "stderr",
          "text": [
            "\n"
          ]
        },
        {
          "output_type": "stream",
          "name": "stdout",
          "text": [
            "\n",
            "      Epoch    GPU_mem   box_loss   cls_loss   dfl_loss  Instances       Size\n"
          ]
        },
        {
          "output_type": "stream",
          "name": "stderr",
          "text": [
            "     98/100      4.19G     0.8553     0.5515       1.38          5        640: 100%|██████████| 18/18 [00:05<00:00,  3.12it/s]\n",
            "                 Class     Images  Instances      Box(P          R      mAP50  mAP50-95): 100%|██████████| 3/3 [00:01<00:00,  2.92it/s]"
          ]
        },
        {
          "output_type": "stream",
          "name": "stdout",
          "text": [
            "                   all         81         81      0.959      0.975      0.984      0.782\n"
          ]
        },
        {
          "output_type": "stream",
          "name": "stderr",
          "text": [
            "\n"
          ]
        },
        {
          "output_type": "stream",
          "name": "stdout",
          "text": [
            "\n",
            "      Epoch    GPU_mem   box_loss   cls_loss   dfl_loss  Instances       Size\n"
          ]
        },
        {
          "output_type": "stream",
          "name": "stderr",
          "text": [
            "     99/100      4.21G     0.8362      0.538      1.356          5        640: 100%|██████████| 18/18 [00:04<00:00,  4.37it/s]\n",
            "                 Class     Images  Instances      Box(P          R      mAP50  mAP50-95): 100%|██████████| 3/3 [00:00<00:00,  3.22it/s]"
          ]
        },
        {
          "output_type": "stream",
          "name": "stdout",
          "text": [
            "                   all         81         81      0.949      0.988      0.984      0.786\n"
          ]
        },
        {
          "output_type": "stream",
          "name": "stderr",
          "text": [
            "\n"
          ]
        },
        {
          "output_type": "stream",
          "name": "stdout",
          "text": [
            "\n",
            "      Epoch    GPU_mem   box_loss   cls_loss   dfl_loss  Instances       Size\n"
          ]
        },
        {
          "output_type": "stream",
          "name": "stderr",
          "text": [
            "    100/100      4.23G     0.7972     0.5355       1.34          5        640: 100%|██████████| 18/18 [00:05<00:00,  3.34it/s]\n",
            "                 Class     Images  Instances      Box(P          R      mAP50  mAP50-95): 100%|██████████| 3/3 [00:01<00:00,  2.09it/s]"
          ]
        },
        {
          "output_type": "stream",
          "name": "stdout",
          "text": [
            "                   all         81         81      0.951      0.988      0.984      0.792\n"
          ]
        },
        {
          "output_type": "stream",
          "name": "stderr",
          "text": [
            "\n"
          ]
        },
        {
          "output_type": "stream",
          "name": "stdout",
          "text": [
            "\n",
            "100 epochs completed in 0.196 hours.\n",
            "Optimizer stripped from runs/detect/train2/weights/last.pt, 6.3MB\n",
            "Optimizer stripped from runs/detect/train2/weights/best.pt, 6.3MB\n",
            "\n",
            "Validating runs/detect/train2/weights/best.pt...\n",
            "Ultralytics 8.3.128 🚀 Python-3.11.12 torch-2.6.0+cu124 CUDA:0 (Tesla T4, 15095MiB)\n",
            "YOLOv8n summary (fused): 72 layers, 3,005,843 parameters, 0 gradients, 8.1 GFLOPs\n"
          ]
        },
        {
          "output_type": "stream",
          "name": "stderr",
          "text": [
            "                 Class     Images  Instances      Box(P          R      mAP50  mAP50-95): 100%|██████████| 3/3 [00:01<00:00,  2.18it/s]\n"
          ]
        },
        {
          "output_type": "stream",
          "name": "stdout",
          "text": [
            "                   all         81         81      0.951      0.988      0.984      0.789\n",
            "Speed: 0.3ms preprocess, 3.0ms inference, 0.0ms loss, 5.1ms postprocess per image\n",
            "Results saved to \u001b[1mruns/detect/train2\u001b[0m\n"
          ]
        }
      ],
      "source": [
        "from ultralytics import YOLO\n",
        "\n",
        "# Load a COCO-pretrained YOLOv8n model\n",
        "model = YOLO(\"yolov8n.yaml\")\n",
        "\n",
        "# Train the model on the COCO8 example dataset for 100 epochs\n",
        "results = model.train(data=os.path.join(dir_path,\"converted.yaml\"), epochs=100)\n"
      ]
    },
    {
      "cell_type": "code",
      "source": [
        "import shutil\n",
        "shutil.copy('/content/drive/MyDrive/yolov8n/runs/detect/train2/weights/best.pt','/content/drive/MyDrive/yolov8n/License-Plate-Detector-2/yolov8n_model.pt')"
      ],
      "metadata": {
        "colab": {
          "base_uri": "https://localhost:8080/",
          "height": 35
        },
        "id": "V8VonIx28iDQ",
        "outputId": "ba99502e-c470-440c-afb4-02de7414bccf",
        "collapsed": true
      },
      "execution_count": null,
      "outputs": [
        {
          "output_type": "execute_result",
          "data": {
            "text/plain": [
              "'/content/drive/MyDrive/yolov8n/License-Plate-Detector-2/yolov8n_model.pt'"
            ],
            "application/vnd.google.colaboratory.intrinsic+json": {
              "type": "string"
            }
          },
          "metadata": {},
          "execution_count": 7
        }
      ]
    },
    {
      "cell_type": "markdown",
      "source": [
        "# prediction"
      ],
      "metadata": {
        "id": "si_2HaBKjYIJ"
      }
    },
    {
      "cell_type": "code",
      "source": [
        "from google.colab import drive\n",
        "drive.mount('/content/drive')"
      ],
      "metadata": {
        "colab": {
          "base_uri": "https://localhost:8080/"
        },
        "collapsed": true,
        "id": "pastoNQFjKPn",
        "outputId": "8f91651c-39da-494f-b43b-043e862936bf"
      },
      "execution_count": 3,
      "outputs": [
        {
          "output_type": "stream",
          "name": "stdout",
          "text": [
            "Drive already mounted at /content/drive; to attempt to forcibly remount, call drive.mount(\"/content/drive\", force_remount=True).\n"
          ]
        }
      ]
    },
    {
      "cell_type": "code",
      "source": [
        "!pip install ultralytics\n",
        "!pip install easyocr"
      ],
      "metadata": {
        "colab": {
          "base_uri": "https://localhost:8080/"
        },
        "collapsed": true,
        "id": "jWia_BmEjGum",
        "outputId": "eb1356bf-f027-41bb-baa5-b490176b5d92"
      },
      "execution_count": 4,
      "outputs": [
        {
          "output_type": "stream",
          "name": "stdout",
          "text": [
            "Collecting ultralytics\n",
            "  Downloading ultralytics-8.3.129-py3-none-any.whl.metadata (37 kB)\n",
            "Requirement already satisfied: numpy>=1.23.0 in /usr/local/lib/python3.11/dist-packages (from ultralytics) (1.26.4)\n",
            "Requirement already satisfied: matplotlib>=3.3.0 in /usr/local/lib/python3.11/dist-packages (from ultralytics) (3.10.0)\n",
            "Requirement already satisfied: opencv-python>=4.6.0 in /usr/local/lib/python3.11/dist-packages (from ultralytics) (4.11.0.86)\n",
            "Requirement already satisfied: pillow>=7.1.2 in /usr/local/lib/python3.11/dist-packages (from ultralytics) (11.1.0)\n",
            "Requirement already satisfied: pyyaml>=5.3.1 in /usr/local/lib/python3.11/dist-packages (from ultralytics) (6.0.2)\n",
            "Requirement already satisfied: requests>=2.23.0 in /usr/local/lib/python3.11/dist-packages (from ultralytics) (2.32.3)\n",
            "Requirement already satisfied: scipy>=1.4.1 in /usr/local/lib/python3.11/dist-packages (from ultralytics) (1.13.1)\n",
            "Requirement already satisfied: torch>=1.8.0 in /usr/local/lib/python3.11/dist-packages (from ultralytics) (2.5.1+cu124)\n",
            "Requirement already satisfied: torchvision>=0.9.0 in /usr/local/lib/python3.11/dist-packages (from ultralytics) (0.20.1+cu124)\n",
            "Requirement already satisfied: tqdm>=4.64.0 in /usr/local/lib/python3.11/dist-packages (from ultralytics) (4.67.1)\n",
            "Requirement already satisfied: psutil in /usr/local/lib/python3.11/dist-packages (from ultralytics) (5.9.5)\n",
            "Requirement already satisfied: py-cpuinfo in /usr/local/lib/python3.11/dist-packages (from ultralytics) (9.0.0)\n",
            "Requirement already satisfied: pandas>=1.1.4 in /usr/local/lib/python3.11/dist-packages (from ultralytics) (2.2.2)\n",
            "Requirement already satisfied: seaborn>=0.11.0 in /usr/local/lib/python3.11/dist-packages (from ultralytics) (0.13.2)\n",
            "Collecting ultralytics-thop>=2.0.0 (from ultralytics)\n",
            "  Downloading ultralytics_thop-2.0.14-py3-none-any.whl.metadata (9.4 kB)\n",
            "Requirement already satisfied: contourpy>=1.0.1 in /usr/local/lib/python3.11/dist-packages (from matplotlib>=3.3.0->ultralytics) (1.3.1)\n",
            "Requirement already satisfied: cycler>=0.10 in /usr/local/lib/python3.11/dist-packages (from matplotlib>=3.3.0->ultralytics) (0.12.1)\n",
            "Requirement already satisfied: fonttools>=4.22.0 in /usr/local/lib/python3.11/dist-packages (from matplotlib>=3.3.0->ultralytics) (4.56.0)\n",
            "Requirement already satisfied: kiwisolver>=1.3.1 in /usr/local/lib/python3.11/dist-packages (from matplotlib>=3.3.0->ultralytics) (1.4.8)\n",
            "Requirement already satisfied: packaging>=20.0 in /usr/local/lib/python3.11/dist-packages (from matplotlib>=3.3.0->ultralytics) (24.2)\n",
            "Requirement already satisfied: pyparsing>=2.3.1 in /usr/local/lib/python3.11/dist-packages (from matplotlib>=3.3.0->ultralytics) (3.2.1)\n",
            "Requirement already satisfied: python-dateutil>=2.7 in /usr/local/lib/python3.11/dist-packages (from matplotlib>=3.3.0->ultralytics) (2.8.2)\n",
            "Requirement already satisfied: pytz>=2020.1 in /usr/local/lib/python3.11/dist-packages (from pandas>=1.1.4->ultralytics) (2025.1)\n",
            "Requirement already satisfied: tzdata>=2022.7 in /usr/local/lib/python3.11/dist-packages (from pandas>=1.1.4->ultralytics) (2025.1)\n",
            "Requirement already satisfied: charset-normalizer<4,>=2 in /usr/local/lib/python3.11/dist-packages (from requests>=2.23.0->ultralytics) (3.4.1)\n",
            "Requirement already satisfied: idna<4,>=2.5 in /usr/local/lib/python3.11/dist-packages (from requests>=2.23.0->ultralytics) (3.10)\n",
            "Requirement already satisfied: urllib3<3,>=1.21.1 in /usr/local/lib/python3.11/dist-packages (from requests>=2.23.0->ultralytics) (2.3.0)\n",
            "Requirement already satisfied: certifi>=2017.4.17 in /usr/local/lib/python3.11/dist-packages (from requests>=2.23.0->ultralytics) (2025.1.31)\n",
            "Requirement already satisfied: filelock in /usr/local/lib/python3.11/dist-packages (from torch>=1.8.0->ultralytics) (3.17.0)\n",
            "Requirement already satisfied: typing-extensions>=4.8.0 in /usr/local/lib/python3.11/dist-packages (from torch>=1.8.0->ultralytics) (4.12.2)\n",
            "Requirement already satisfied: networkx in /usr/local/lib/python3.11/dist-packages (from torch>=1.8.0->ultralytics) (3.4.2)\n",
            "Requirement already satisfied: jinja2 in /usr/local/lib/python3.11/dist-packages (from torch>=1.8.0->ultralytics) (3.1.5)\n",
            "Requirement already satisfied: fsspec in /usr/local/lib/python3.11/dist-packages (from torch>=1.8.0->ultralytics) (2024.10.0)\n",
            "Collecting nvidia-cuda-nvrtc-cu12==12.4.127 (from torch>=1.8.0->ultralytics)\n",
            "  Downloading nvidia_cuda_nvrtc_cu12-12.4.127-py3-none-manylinux2014_x86_64.whl.metadata (1.5 kB)\n",
            "Collecting nvidia-cuda-runtime-cu12==12.4.127 (from torch>=1.8.0->ultralytics)\n",
            "  Downloading nvidia_cuda_runtime_cu12-12.4.127-py3-none-manylinux2014_x86_64.whl.metadata (1.5 kB)\n",
            "Collecting nvidia-cuda-cupti-cu12==12.4.127 (from torch>=1.8.0->ultralytics)\n",
            "  Downloading nvidia_cuda_cupti_cu12-12.4.127-py3-none-manylinux2014_x86_64.whl.metadata (1.6 kB)\n",
            "Collecting nvidia-cudnn-cu12==9.1.0.70 (from torch>=1.8.0->ultralytics)\n",
            "  Downloading nvidia_cudnn_cu12-9.1.0.70-py3-none-manylinux2014_x86_64.whl.metadata (1.6 kB)\n",
            "Collecting nvidia-cublas-cu12==12.4.5.8 (from torch>=1.8.0->ultralytics)\n",
            "  Downloading nvidia_cublas_cu12-12.4.5.8-py3-none-manylinux2014_x86_64.whl.metadata (1.5 kB)\n",
            "Collecting nvidia-cufft-cu12==11.2.1.3 (from torch>=1.8.0->ultralytics)\n",
            "  Downloading nvidia_cufft_cu12-11.2.1.3-py3-none-manylinux2014_x86_64.whl.metadata (1.5 kB)\n",
            "Collecting nvidia-curand-cu12==10.3.5.147 (from torch>=1.8.0->ultralytics)\n",
            "  Downloading nvidia_curand_cu12-10.3.5.147-py3-none-manylinux2014_x86_64.whl.metadata (1.5 kB)\n",
            "Collecting nvidia-cusolver-cu12==11.6.1.9 (from torch>=1.8.0->ultralytics)\n",
            "  Downloading nvidia_cusolver_cu12-11.6.1.9-py3-none-manylinux2014_x86_64.whl.metadata (1.6 kB)\n",
            "Collecting nvidia-cusparse-cu12==12.3.1.170 (from torch>=1.8.0->ultralytics)\n",
            "  Downloading nvidia_cusparse_cu12-12.3.1.170-py3-none-manylinux2014_x86_64.whl.metadata (1.6 kB)\n",
            "Requirement already satisfied: nvidia-nccl-cu12==2.21.5 in /usr/local/lib/python3.11/dist-packages (from torch>=1.8.0->ultralytics) (2.21.5)\n",
            "Requirement already satisfied: nvidia-nvtx-cu12==12.4.127 in /usr/local/lib/python3.11/dist-packages (from torch>=1.8.0->ultralytics) (12.4.127)\n",
            "Collecting nvidia-nvjitlink-cu12==12.4.127 (from torch>=1.8.0->ultralytics)\n",
            "  Downloading nvidia_nvjitlink_cu12-12.4.127-py3-none-manylinux2014_x86_64.whl.metadata (1.5 kB)\n",
            "Requirement already satisfied: triton==3.1.0 in /usr/local/lib/python3.11/dist-packages (from torch>=1.8.0->ultralytics) (3.1.0)\n",
            "Requirement already satisfied: sympy==1.13.1 in /usr/local/lib/python3.11/dist-packages (from torch>=1.8.0->ultralytics) (1.13.1)\n",
            "Requirement already satisfied: mpmath<1.4,>=1.1.0 in /usr/local/lib/python3.11/dist-packages (from sympy==1.13.1->torch>=1.8.0->ultralytics) (1.3.0)\n",
            "Requirement already satisfied: six>=1.5 in /usr/local/lib/python3.11/dist-packages (from python-dateutil>=2.7->matplotlib>=3.3.0->ultralytics) (1.17.0)\n",
            "Requirement already satisfied: MarkupSafe>=2.0 in /usr/local/lib/python3.11/dist-packages (from jinja2->torch>=1.8.0->ultralytics) (3.0.2)\n",
            "Downloading ultralytics-8.3.129-py3-none-any.whl (1.0 MB)\n",
            "\u001b[2K   \u001b[90m━━━━━━━━━━━━━━━━━━━━━━━━━━━━━━━━━━━━━━━━\u001b[0m \u001b[32m1.0/1.0 MB\u001b[0m \u001b[31m27.8 MB/s\u001b[0m eta \u001b[36m0:00:00\u001b[0m\n",
            "\u001b[?25hDownloading nvidia_cublas_cu12-12.4.5.8-py3-none-manylinux2014_x86_64.whl (363.4 MB)\n",
            "\u001b[2K   \u001b[90m━━━━━━━━━━━━━━━━━━━━━━━━━━━━━━━━━━━━━━━━\u001b[0m \u001b[32m363.4/363.4 MB\u001b[0m \u001b[31m1.5 MB/s\u001b[0m eta \u001b[36m0:00:00\u001b[0m\n",
            "\u001b[?25hDownloading nvidia_cuda_cupti_cu12-12.4.127-py3-none-manylinux2014_x86_64.whl (13.8 MB)\n",
            "\u001b[2K   \u001b[90m━━━━━━━━━━━━━━━━━━━━━━━━━━━━━━━━━━━━━━━━\u001b[0m \u001b[32m13.8/13.8 MB\u001b[0m \u001b[31m87.2 MB/s\u001b[0m eta \u001b[36m0:00:00\u001b[0m\n",
            "\u001b[?25hDownloading nvidia_cuda_nvrtc_cu12-12.4.127-py3-none-manylinux2014_x86_64.whl (24.6 MB)\n",
            "\u001b[2K   \u001b[90m━━━━━━━━━━━━━━━━━━━━━━━━━━━━━━━━━━━━━━━━\u001b[0m \u001b[32m24.6/24.6 MB\u001b[0m \u001b[31m71.2 MB/s\u001b[0m eta \u001b[36m0:00:00\u001b[0m\n",
            "\u001b[?25hDownloading nvidia_cuda_runtime_cu12-12.4.127-py3-none-manylinux2014_x86_64.whl (883 kB)\n",
            "\u001b[2K   \u001b[90m━━━━━━━━━━━━━━━━━━━━━━━━━━━━━━━━━━━━━━━━\u001b[0m \u001b[32m883.7/883.7 kB\u001b[0m \u001b[31m45.2 MB/s\u001b[0m eta \u001b[36m0:00:00\u001b[0m\n",
            "\u001b[?25hDownloading nvidia_cudnn_cu12-9.1.0.70-py3-none-manylinux2014_x86_64.whl (664.8 MB)\n",
            "\u001b[2K   \u001b[90m━━━━━━━━━━━━━━━━━━━━━━━━━━━━━━━━━━━━━━━━\u001b[0m \u001b[32m664.8/664.8 MB\u001b[0m \u001b[31m1.5 MB/s\u001b[0m eta \u001b[36m0:00:00\u001b[0m\n",
            "\u001b[?25hDownloading nvidia_cufft_cu12-11.2.1.3-py3-none-manylinux2014_x86_64.whl (211.5 MB)\n",
            "\u001b[2K   \u001b[90m━━━━━━━━━━━━━━━━━━━━━━━━━━━━━━━━━━━━━━━━\u001b[0m \u001b[32m211.5/211.5 MB\u001b[0m \u001b[31m5.7 MB/s\u001b[0m eta \u001b[36m0:00:00\u001b[0m\n",
            "\u001b[?25hDownloading nvidia_curand_cu12-10.3.5.147-py3-none-manylinux2014_x86_64.whl (56.3 MB)\n",
            "\u001b[2K   \u001b[90m━━━━━━━━━━━━━━━━━━━━━━━━━━━━━━━━━━━━━━━━\u001b[0m \u001b[32m56.3/56.3 MB\u001b[0m \u001b[31m12.3 MB/s\u001b[0m eta \u001b[36m0:00:00\u001b[0m\n",
            "\u001b[?25hDownloading nvidia_cusolver_cu12-11.6.1.9-py3-none-manylinux2014_x86_64.whl (127.9 MB)\n",
            "\u001b[2K   \u001b[90m━━━━━━━━━━━━━━━━━━━━━━━━━━━━━━━━━━━━━━━━\u001b[0m \u001b[32m127.9/127.9 MB\u001b[0m \u001b[31m7.3 MB/s\u001b[0m eta \u001b[36m0:00:00\u001b[0m\n",
            "\u001b[?25hDownloading nvidia_cusparse_cu12-12.3.1.170-py3-none-manylinux2014_x86_64.whl (207.5 MB)\n",
            "\u001b[2K   \u001b[90m━━━━━━━━━━━━━━━━━━━━━━━━━━━━━━━━━━━━━━━━\u001b[0m \u001b[32m207.5/207.5 MB\u001b[0m \u001b[31m5.2 MB/s\u001b[0m eta \u001b[36m0:00:00\u001b[0m\n",
            "\u001b[?25hDownloading nvidia_nvjitlink_cu12-12.4.127-py3-none-manylinux2014_x86_64.whl (21.1 MB)\n",
            "\u001b[2K   \u001b[90m━━━━━━━━━━━━━━━━━━━━━━━━━━━━━━━━━━━━━━━━\u001b[0m \u001b[32m21.1/21.1 MB\u001b[0m \u001b[31m39.0 MB/s\u001b[0m eta \u001b[36m0:00:00\u001b[0m\n",
            "\u001b[?25hDownloading ultralytics_thop-2.0.14-py3-none-any.whl (26 kB)\n",
            "Installing collected packages: nvidia-nvjitlink-cu12, nvidia-curand-cu12, nvidia-cufft-cu12, nvidia-cuda-runtime-cu12, nvidia-cuda-nvrtc-cu12, nvidia-cuda-cupti-cu12, nvidia-cublas-cu12, nvidia-cusparse-cu12, nvidia-cudnn-cu12, nvidia-cusolver-cu12, ultralytics-thop, ultralytics\n",
            "  Attempting uninstall: nvidia-nvjitlink-cu12\n",
            "    Found existing installation: nvidia-nvjitlink-cu12 12.5.82\n",
            "    Uninstalling nvidia-nvjitlink-cu12-12.5.82:\n",
            "      Successfully uninstalled nvidia-nvjitlink-cu12-12.5.82\n",
            "  Attempting uninstall: nvidia-curand-cu12\n",
            "    Found existing installation: nvidia-curand-cu12 10.3.6.82\n",
            "    Uninstalling nvidia-curand-cu12-10.3.6.82:\n",
            "      Successfully uninstalled nvidia-curand-cu12-10.3.6.82\n",
            "  Attempting uninstall: nvidia-cufft-cu12\n",
            "    Found existing installation: nvidia-cufft-cu12 11.2.3.61\n",
            "    Uninstalling nvidia-cufft-cu12-11.2.3.61:\n",
            "      Successfully uninstalled nvidia-cufft-cu12-11.2.3.61\n",
            "  Attempting uninstall: nvidia-cuda-runtime-cu12\n",
            "    Found existing installation: nvidia-cuda-runtime-cu12 12.5.82\n",
            "    Uninstalling nvidia-cuda-runtime-cu12-12.5.82:\n",
            "      Successfully uninstalled nvidia-cuda-runtime-cu12-12.5.82\n",
            "  Attempting uninstall: nvidia-cuda-nvrtc-cu12\n",
            "    Found existing installation: nvidia-cuda-nvrtc-cu12 12.5.82\n",
            "    Uninstalling nvidia-cuda-nvrtc-cu12-12.5.82:\n",
            "      Successfully uninstalled nvidia-cuda-nvrtc-cu12-12.5.82\n",
            "  Attempting uninstall: nvidia-cuda-cupti-cu12\n",
            "    Found existing installation: nvidia-cuda-cupti-cu12 12.5.82\n",
            "    Uninstalling nvidia-cuda-cupti-cu12-12.5.82:\n",
            "      Successfully uninstalled nvidia-cuda-cupti-cu12-12.5.82\n",
            "  Attempting uninstall: nvidia-cublas-cu12\n",
            "    Found existing installation: nvidia-cublas-cu12 12.5.3.2\n",
            "    Uninstalling nvidia-cublas-cu12-12.5.3.2:\n",
            "      Successfully uninstalled nvidia-cublas-cu12-12.5.3.2\n",
            "  Attempting uninstall: nvidia-cusparse-cu12\n",
            "    Found existing installation: nvidia-cusparse-cu12 12.5.1.3\n",
            "    Uninstalling nvidia-cusparse-cu12-12.5.1.3:\n",
            "      Successfully uninstalled nvidia-cusparse-cu12-12.5.1.3\n",
            "  Attempting uninstall: nvidia-cudnn-cu12\n",
            "    Found existing installation: nvidia-cudnn-cu12 9.3.0.75\n",
            "    Uninstalling nvidia-cudnn-cu12-9.3.0.75:\n",
            "      Successfully uninstalled nvidia-cudnn-cu12-9.3.0.75\n",
            "  Attempting uninstall: nvidia-cusolver-cu12\n",
            "    Found existing installation: nvidia-cusolver-cu12 11.6.3.83\n",
            "    Uninstalling nvidia-cusolver-cu12-11.6.3.83:\n",
            "      Successfully uninstalled nvidia-cusolver-cu12-11.6.3.83\n",
            "Successfully installed nvidia-cublas-cu12-12.4.5.8 nvidia-cuda-cupti-cu12-12.4.127 nvidia-cuda-nvrtc-cu12-12.4.127 nvidia-cuda-runtime-cu12-12.4.127 nvidia-cudnn-cu12-9.1.0.70 nvidia-cufft-cu12-11.2.1.3 nvidia-curand-cu12-10.3.5.147 nvidia-cusolver-cu12-11.6.1.9 nvidia-cusparse-cu12-12.3.1.170 nvidia-nvjitlink-cu12-12.4.127 ultralytics-8.3.129 ultralytics-thop-2.0.14\n",
            "Collecting easyocr\n",
            "  Downloading easyocr-1.7.2-py3-none-any.whl.metadata (10 kB)\n",
            "Requirement already satisfied: torch in /usr/local/lib/python3.11/dist-packages (from easyocr) (2.5.1+cu124)\n",
            "Requirement already satisfied: torchvision>=0.5 in /usr/local/lib/python3.11/dist-packages (from easyocr) (0.20.1+cu124)\n",
            "Requirement already satisfied: opencv-python-headless in /usr/local/lib/python3.11/dist-packages (from easyocr) (4.11.0.86)\n",
            "Requirement already satisfied: scipy in /usr/local/lib/python3.11/dist-packages (from easyocr) (1.13.1)\n",
            "Requirement already satisfied: numpy in /usr/local/lib/python3.11/dist-packages (from easyocr) (1.26.4)\n",
            "Requirement already satisfied: Pillow in /usr/local/lib/python3.11/dist-packages (from easyocr) (11.1.0)\n",
            "Requirement already satisfied: scikit-image in /usr/local/lib/python3.11/dist-packages (from easyocr) (0.25.2)\n",
            "Collecting python-bidi (from easyocr)\n",
            "  Downloading python_bidi-0.6.6-cp311-cp311-manylinux_2_17_x86_64.manylinux2014_x86_64.whl.metadata (4.9 kB)\n",
            "Requirement already satisfied: PyYAML in /usr/local/lib/python3.11/dist-packages (from easyocr) (6.0.2)\n",
            "Requirement already satisfied: Shapely in /usr/local/lib/python3.11/dist-packages (from easyocr) (2.0.7)\n",
            "Collecting pyclipper (from easyocr)\n",
            "  Downloading pyclipper-1.3.0.post6-cp311-cp311-manylinux_2_17_x86_64.manylinux2014_x86_64.whl.metadata (9.0 kB)\n",
            "Collecting ninja (from easyocr)\n",
            "  Downloading ninja-1.11.1.4-py3-none-manylinux_2_12_x86_64.manylinux2010_x86_64.whl.metadata (5.0 kB)\n",
            "Requirement already satisfied: filelock in /usr/local/lib/python3.11/dist-packages (from torch->easyocr) (3.17.0)\n",
            "Requirement already satisfied: typing-extensions>=4.8.0 in /usr/local/lib/python3.11/dist-packages (from torch->easyocr) (4.12.2)\n",
            "Requirement already satisfied: networkx in /usr/local/lib/python3.11/dist-packages (from torch->easyocr) (3.4.2)\n",
            "Requirement already satisfied: jinja2 in /usr/local/lib/python3.11/dist-packages (from torch->easyocr) (3.1.5)\n",
            "Requirement already satisfied: fsspec in /usr/local/lib/python3.11/dist-packages (from torch->easyocr) (2024.10.0)\n",
            "Requirement already satisfied: nvidia-cuda-nvrtc-cu12==12.4.127 in /usr/local/lib/python3.11/dist-packages (from torch->easyocr) (12.4.127)\n",
            "Requirement already satisfied: nvidia-cuda-runtime-cu12==12.4.127 in /usr/local/lib/python3.11/dist-packages (from torch->easyocr) (12.4.127)\n",
            "Requirement already satisfied: nvidia-cuda-cupti-cu12==12.4.127 in /usr/local/lib/python3.11/dist-packages (from torch->easyocr) (12.4.127)\n",
            "Requirement already satisfied: nvidia-cudnn-cu12==9.1.0.70 in /usr/local/lib/python3.11/dist-packages (from torch->easyocr) (9.1.0.70)\n",
            "Requirement already satisfied: nvidia-cublas-cu12==12.4.5.8 in /usr/local/lib/python3.11/dist-packages (from torch->easyocr) (12.4.5.8)\n",
            "Requirement already satisfied: nvidia-cufft-cu12==11.2.1.3 in /usr/local/lib/python3.11/dist-packages (from torch->easyocr) (11.2.1.3)\n",
            "Requirement already satisfied: nvidia-curand-cu12==10.3.5.147 in /usr/local/lib/python3.11/dist-packages (from torch->easyocr) (10.3.5.147)\n",
            "Requirement already satisfied: nvidia-cusolver-cu12==11.6.1.9 in /usr/local/lib/python3.11/dist-packages (from torch->easyocr) (11.6.1.9)\n",
            "Requirement already satisfied: nvidia-cusparse-cu12==12.3.1.170 in /usr/local/lib/python3.11/dist-packages (from torch->easyocr) (12.3.1.170)\n",
            "Requirement already satisfied: nvidia-nccl-cu12==2.21.5 in /usr/local/lib/python3.11/dist-packages (from torch->easyocr) (2.21.5)\n",
            "Requirement already satisfied: nvidia-nvtx-cu12==12.4.127 in /usr/local/lib/python3.11/dist-packages (from torch->easyocr) (12.4.127)\n",
            "Requirement already satisfied: nvidia-nvjitlink-cu12==12.4.127 in /usr/local/lib/python3.11/dist-packages (from torch->easyocr) (12.4.127)\n",
            "Requirement already satisfied: triton==3.1.0 in /usr/local/lib/python3.11/dist-packages (from torch->easyocr) (3.1.0)\n",
            "Requirement already satisfied: sympy==1.13.1 in /usr/local/lib/python3.11/dist-packages (from torch->easyocr) (1.13.1)\n",
            "Requirement already satisfied: mpmath<1.4,>=1.1.0 in /usr/local/lib/python3.11/dist-packages (from sympy==1.13.1->torch->easyocr) (1.3.0)\n",
            "Requirement already satisfied: imageio!=2.35.0,>=2.33 in /usr/local/lib/python3.11/dist-packages (from scikit-image->easyocr) (2.37.0)\n",
            "Requirement already satisfied: tifffile>=2022.8.12 in /usr/local/lib/python3.11/dist-packages (from scikit-image->easyocr) (2025.2.18)\n",
            "Requirement already satisfied: packaging>=21 in /usr/local/lib/python3.11/dist-packages (from scikit-image->easyocr) (24.2)\n",
            "Requirement already satisfied: lazy-loader>=0.4 in /usr/local/lib/python3.11/dist-packages (from scikit-image->easyocr) (0.4)\n",
            "Requirement already satisfied: MarkupSafe>=2.0 in /usr/local/lib/python3.11/dist-packages (from jinja2->torch->easyocr) (3.0.2)\n",
            "Downloading easyocr-1.7.2-py3-none-any.whl (2.9 MB)\n",
            "\u001b[2K   \u001b[90m━━━━━━━━━━━━━━━━━━━━━━━━━━━━━━━━━━━━━━━━\u001b[0m \u001b[32m2.9/2.9 MB\u001b[0m \u001b[31m35.1 MB/s\u001b[0m eta \u001b[36m0:00:00\u001b[0m\n",
            "\u001b[?25hDownloading ninja-1.11.1.4-py3-none-manylinux_2_12_x86_64.manylinux2010_x86_64.whl (422 kB)\n",
            "\u001b[2K   \u001b[90m━━━━━━━━━━━━━━━━━━━━━━━━━━━━━━━━━━━━━━━━\u001b[0m \u001b[32m422.8/422.8 kB\u001b[0m \u001b[31m28.4 MB/s\u001b[0m eta \u001b[36m0:00:00\u001b[0m\n",
            "\u001b[?25hDownloading pyclipper-1.3.0.post6-cp311-cp311-manylinux_2_17_x86_64.manylinux2014_x86_64.whl (969 kB)\n",
            "\u001b[2K   \u001b[90m━━━━━━━━━━━━━━━━━━━━━━━━━━━━━━━━━━━━━━━━\u001b[0m \u001b[32m969.6/969.6 kB\u001b[0m \u001b[31m48.0 MB/s\u001b[0m eta \u001b[36m0:00:00\u001b[0m\n",
            "\u001b[?25hDownloading python_bidi-0.6.6-cp311-cp311-manylinux_2_17_x86_64.manylinux2014_x86_64.whl (292 kB)\n",
            "\u001b[2K   \u001b[90m━━━━━━━━━━━━━━━━━━━━━━━━━━━━━━━━━━━━━━━━\u001b[0m \u001b[32m292.9/292.9 kB\u001b[0m \u001b[31m19.8 MB/s\u001b[0m eta \u001b[36m0:00:00\u001b[0m\n",
            "\u001b[?25hInstalling collected packages: python-bidi, pyclipper, ninja, easyocr\n",
            "Successfully installed easyocr-1.7.2 ninja-1.11.1.4 pyclipper-1.3.0.post6 python-bidi-0.6.6\n"
          ]
        }
      ]
    },
    {
      "cell_type": "code",
      "source": [
        "from ultralytics import YOLO\n",
        "model=YOLO('/content/drive/MyDrive/yolov8n/License-Plate-Detector-2/yolov8n_model.pt')"
      ],
      "metadata": {
        "id": "S2aGn6T8_EDR",
        "colab": {
          "base_uri": "https://localhost:8080/"
        },
        "outputId": "3d169b3f-82bc-49c8-eeb3-18acb95c3556"
      },
      "execution_count": 5,
      "outputs": [
        {
          "output_type": "stream",
          "name": "stdout",
          "text": [
            "Creating new Ultralytics Settings v0.0.6 file ✅ \n",
            "View Ultralytics Settings with 'yolo settings' or at '/root/.config/Ultralytics/settings.json'\n",
            "Update Settings with 'yolo settings key=value', i.e. 'yolo settings runs_dir=path/to/dir'. For help see https://docs.ultralytics.com/quickstart/#ultralytics-settings.\n"
          ]
        }
      ]
    },
    {
      "cell_type": "code",
      "source": [
        "# libreries\n",
        "import cv2\n",
        "import easyocr\n",
        "from google.colab.patches import cv2_imshow\n",
        "\n",
        "# initializing reader\n",
        "reader=easyocr.Reader(['en'])\n",
        "\n",
        "# write directions\n",
        "img_save_path='/content/drive/MyDrive/yolov8n/License-Plate-Detector-2/pred image/img1.jpg'\n",
        "vid_save_path='/content/drive/MyDrive/yolov8n/License-Plate-Detector-2/pred video/vid1.mp4'\n",
        "\n",
        "# image detection\n",
        "def img_detection(img_path):\n",
        "  img=cv2.imread(img_path)\n",
        "  pred_img=model.predict(img)[0]\n",
        "\n",
        "  # drawing bountion boxes\n",
        "  for box in pred_img.boxes:\n",
        "    x1,y1,x2,y2=map(int,box.xyxy[0])\n",
        "    crop=img[y1:y2,x1:x2]\n",
        "\n",
        "    ocr_result=reader.readtext(crop)\n",
        "    if ocr_result:\n",
        "      text=ocr_result[0][-2] # [([cardinates],text,confidence)]\n",
        "      cv2.rectangle(img,(x1,y1),(x2,y2),(0,255,0),2)\n",
        "      w,h=cv2.getTextSize(text,cv2.FONT_HERSHEY_SIMPLEX,1,2)[0] #[0] because (textsize,baseline) format\n",
        "      rect_x1 = x1\n",
        "      rect_y1 = y1 - h - 10  # 10px padding above box\n",
        "      rect_x2 = x1 + w + 6    # 6px padding on sides\n",
        "      rect_y2 = y1\n",
        "\n",
        "      if rect_x1 < 0:\n",
        "          rect_x1 = 0\n",
        "\n",
        "      if rect_y1 < 0:\n",
        "          rect_y1 = 0\n",
        "\n",
        "      cv2.rectangle(img,(rect_x1,rect_y1),(rect_x2,rect_y2),(0,255,0),-1)\n",
        "      cv2.putText(img,text,(rect_x1+3,y1-5),cv2.FONT_HERSHEY_SIMPLEX,1,(0,0,0),2)\n",
        "  # cv2_imshow(img)\n",
        "  # cv2.waitKey(0)\n",
        "  # cv2.destroyAllWindows()\n",
        "  cv2.imwrite(img_save_path,img)\n",
        "  return\n",
        "\n",
        "# video detection\n",
        "def vid_detection(vid_path):\n",
        "  cap=cv2.VideoCapture(vid_path)\n",
        "  frame_width=int(cap.get(cv2.CAP_PROP_FRAME_WIDTH))\n",
        "  frame_height=int(cap.get(cv2.CAP_PROP_FRAME_HEIGHT))\n",
        "  fps=int(cap.get(cv2.CAP_PROP_FPS))\n",
        "  fourcc=cv2.VideoWriter_fourcc(*'mp4v')\n",
        "  out=cv2.VideoWriter(vid_save_path,fourcc,fps,(frame_width,frame_height))\n",
        "\n",
        "  while True:\n",
        "    ret,frame=cap.read()\n",
        "    if not ret:\n",
        "      break\n",
        "    pred_img=model.predict(frame)[0]\n",
        "    for box in pred_img.boxes:\n",
        "      x1,y1,x2,y2=map(int,box.xyxy[0])\n",
        "      crop=frame[y1:y2,x1:x2]\n",
        "\n",
        "      ocr_result=reader.readtext(crop)\n",
        "      if ocr_result:\n",
        "        text=ocr_result[0][-2] # [([cardinates],text,confidence)]\n",
        "        cv2.rectangle(frame,(x1,y1),(x2,y2),(0,255,0),2)\n",
        "        w,h=cv2.getTextSize(text,cv2.FONT_HERSHEY_SIMPLEX,1,2)[0]\n",
        "        rect_x1 = x1\n",
        "        rect_y1 = y1 - h - 10\n",
        "        rect_x2 = x1 + w + 6\n",
        "        rect_y2 = y1\n",
        "\n",
        "        if rect_x1<0:\n",
        "          rect_x1=0\n",
        "\n",
        "        if rect_y1<0:\n",
        "          rect_y1=0\n",
        "\n",
        "        cv2.rectangle(frame,(rect_x1,rect_y1),(rect_x2,rect_y2),(0,255,0),-1)\n",
        "        cv2.putText(frame,text,(rect_x1+3,y1-5),cv2.FONT_HERSHEY_SIMPLEX,1,(0,0,0),2)\n",
        "    # cv2_imshow(frame)\n",
        "    out.write(frame)\n",
        "  cap.release()\n",
        "  # cap.destroyAllWindows()\n",
        "  return\n",
        "\n",
        "while True:\n",
        "  choice=input('img or vid: ')\n",
        "  if choice=='img':\n",
        "    img_input_path=input('enter image path: ')\n",
        "    img_detection(img_input_path)\n",
        "    break\n",
        "  elif choice=='vid':\n",
        "    vid_input_path=input('enter video path: ')\n",
        "    vid_detection(vid_input_path)\n",
        "    break\n",
        "  else:\n",
        "    print('invalid input')\n",
        "\n"
      ],
      "metadata": {
        "colab": {
          "base_uri": "https://localhost:8080/"
        },
        "collapsed": true,
        "id": "wbN0CyRF_dNH",
        "outputId": "ed244d4b-7197-4e94-a4dd-436ed63ccbec"
      },
      "execution_count": 9,
      "outputs": [
        {
          "output_type": "stream",
          "name": "stderr",
          "text": [
            "WARNING:easyocr.easyocr:Neither CUDA nor MPS are available - defaulting to CPU. Note: This module is much faster with a GPU.\n"
          ]
        },
        {
          "output_type": "stream",
          "name": "stdout",
          "text": [
            "img or vid: vid\n",
            "enter video path: /content/drive/MyDrive/yolov8n/License-Plate-Detector-2/test/video/demo.mp4\n",
            "\n",
            "0: 416x640 2 license_plates, 177.8ms\n",
            "Speed: 4.2ms preprocess, 177.8ms inference, 1.2ms postprocess per image at shape (1, 3, 416, 640)\n",
            "\n",
            "0: 416x640 2 license_plates, 141.6ms\n",
            "Speed: 4.4ms preprocess, 141.6ms inference, 1.1ms postprocess per image at shape (1, 3, 416, 640)\n",
            "\n",
            "0: 416x640 2 license_plates, 151.2ms\n",
            "Speed: 5.5ms preprocess, 151.2ms inference, 3.2ms postprocess per image at shape (1, 3, 416, 640)\n",
            "\n",
            "0: 416x640 1 license_plate, 143.3ms\n",
            "Speed: 3.4ms preprocess, 143.3ms inference, 1.1ms postprocess per image at shape (1, 3, 416, 640)\n",
            "\n",
            "0: 416x640 1 license_plate, 144.2ms\n",
            "Speed: 6.0ms preprocess, 144.2ms inference, 1.1ms postprocess per image at shape (1, 3, 416, 640)\n",
            "\n",
            "0: 416x640 1 license_plate, 145.2ms\n",
            "Speed: 5.9ms preprocess, 145.2ms inference, 1.1ms postprocess per image at shape (1, 3, 416, 640)\n",
            "\n",
            "0: 416x640 1 license_plate, 226.6ms\n",
            "Speed: 4.6ms preprocess, 226.6ms inference, 1.4ms postprocess per image at shape (1, 3, 416, 640)\n",
            "\n",
            "0: 416x640 1 license_plate, 246.6ms\n",
            "Speed: 4.6ms preprocess, 246.6ms inference, 1.7ms postprocess per image at shape (1, 3, 416, 640)\n",
            "\n",
            "0: 416x640 1 license_plate, 222.9ms\n",
            "Speed: 4.5ms preprocess, 222.9ms inference, 1.4ms postprocess per image at shape (1, 3, 416, 640)\n",
            "\n",
            "0: 416x640 1 license_plate, 244.6ms\n",
            "Speed: 5.8ms preprocess, 244.6ms inference, 1.4ms postprocess per image at shape (1, 3, 416, 640)\n",
            "\n",
            "0: 416x640 1 license_plate, 238.1ms\n",
            "Speed: 6.9ms preprocess, 238.1ms inference, 1.4ms postprocess per image at shape (1, 3, 416, 640)\n",
            "\n",
            "0: 416x640 1 license_plate, 250.2ms\n",
            "Speed: 5.1ms preprocess, 250.2ms inference, 1.9ms postprocess per image at shape (1, 3, 416, 640)\n",
            "\n",
            "0: 416x640 1 license_plate, 155.5ms\n",
            "Speed: 3.8ms preprocess, 155.5ms inference, 1.2ms postprocess per image at shape (1, 3, 416, 640)\n",
            "\n",
            "0: 416x640 1 license_plate, 157.2ms\n",
            "Speed: 5.2ms preprocess, 157.2ms inference, 1.3ms postprocess per image at shape (1, 3, 416, 640)\n",
            "\n",
            "0: 416x640 1 license_plate, 151.7ms\n",
            "Speed: 4.8ms preprocess, 151.7ms inference, 1.2ms postprocess per image at shape (1, 3, 416, 640)\n",
            "\n",
            "0: 416x640 1 license_plate, 144.1ms\n",
            "Speed: 3.3ms preprocess, 144.1ms inference, 1.1ms postprocess per image at shape (1, 3, 416, 640)\n",
            "\n",
            "0: 416x640 1 license_plate, 145.9ms\n",
            "Speed: 4.0ms preprocess, 145.9ms inference, 1.3ms postprocess per image at shape (1, 3, 416, 640)\n",
            "\n",
            "0: 416x640 1 license_plate, 168.2ms\n",
            "Speed: 3.8ms preprocess, 168.2ms inference, 1.2ms postprocess per image at shape (1, 3, 416, 640)\n",
            "\n",
            "0: 416x640 1 license_plate, 151.5ms\n",
            "Speed: 5.9ms preprocess, 151.5ms inference, 1.2ms postprocess per image at shape (1, 3, 416, 640)\n",
            "\n",
            "0: 416x640 1 license_plate, 176.6ms\n",
            "Speed: 4.6ms preprocess, 176.6ms inference, 1.7ms postprocess per image at shape (1, 3, 416, 640)\n",
            "\n",
            "0: 416x640 1 license_plate, 152.9ms\n",
            "Speed: 4.5ms preprocess, 152.9ms inference, 1.2ms postprocess per image at shape (1, 3, 416, 640)\n",
            "\n",
            "0: 416x640 2 license_plates, 150.3ms\n",
            "Speed: 4.9ms preprocess, 150.3ms inference, 1.2ms postprocess per image at shape (1, 3, 416, 640)\n",
            "\n",
            "0: 416x640 1 license_plate, 147.6ms\n",
            "Speed: 5.4ms preprocess, 147.6ms inference, 1.4ms postprocess per image at shape (1, 3, 416, 640)\n",
            "\n",
            "0: 416x640 1 license_plate, 146.9ms\n",
            "Speed: 3.2ms preprocess, 146.9ms inference, 1.1ms postprocess per image at shape (1, 3, 416, 640)\n",
            "\n",
            "0: 416x640 1 license_plate, 148.5ms\n",
            "Speed: 6.3ms preprocess, 148.5ms inference, 1.1ms postprocess per image at shape (1, 3, 416, 640)\n",
            "\n",
            "0: 416x640 1 license_plate, 146.6ms\n",
            "Speed: 3.9ms preprocess, 146.6ms inference, 1.1ms postprocess per image at shape (1, 3, 416, 640)\n",
            "\n",
            "0: 416x640 1 license_plate, 141.5ms\n",
            "Speed: 4.4ms preprocess, 141.5ms inference, 1.1ms postprocess per image at shape (1, 3, 416, 640)\n",
            "\n",
            "0: 416x640 1 license_plate, 147.9ms\n",
            "Speed: 4.6ms preprocess, 147.9ms inference, 1.1ms postprocess per image at shape (1, 3, 416, 640)\n",
            "\n",
            "0: 416x640 1 license_plate, 157.4ms\n",
            "Speed: 4.7ms preprocess, 157.4ms inference, 1.8ms postprocess per image at shape (1, 3, 416, 640)\n",
            "\n",
            "0: 416x640 1 license_plate, 155.9ms\n",
            "Speed: 5.0ms preprocess, 155.9ms inference, 1.2ms postprocess per image at shape (1, 3, 416, 640)\n",
            "\n",
            "0: 416x640 1 license_plate, 158.4ms\n",
            "Speed: 3.8ms preprocess, 158.4ms inference, 1.3ms postprocess per image at shape (1, 3, 416, 640)\n",
            "\n",
            "0: 416x640 1 license_plate, 156.3ms\n",
            "Speed: 6.0ms preprocess, 156.3ms inference, 1.2ms postprocess per image at shape (1, 3, 416, 640)\n",
            "\n",
            "0: 416x640 1 license_plate, 155.8ms\n",
            "Speed: 4.7ms preprocess, 155.8ms inference, 1.5ms postprocess per image at shape (1, 3, 416, 640)\n",
            "\n",
            "0: 416x640 1 license_plate, 150.2ms\n",
            "Speed: 4.5ms preprocess, 150.2ms inference, 1.2ms postprocess per image at shape (1, 3, 416, 640)\n",
            "\n",
            "0: 416x640 1 license_plate, 229.8ms\n",
            "Speed: 4.8ms preprocess, 229.8ms inference, 1.5ms postprocess per image at shape (1, 3, 416, 640)\n",
            "\n",
            "0: 416x640 1 license_plate, 230.5ms\n",
            "Speed: 4.4ms preprocess, 230.5ms inference, 1.3ms postprocess per image at shape (1, 3, 416, 640)\n",
            "\n",
            "0: 416x640 1 license_plate, 229.4ms\n",
            "Speed: 4.6ms preprocess, 229.4ms inference, 1.6ms postprocess per image at shape (1, 3, 416, 640)\n",
            "\n",
            "0: 416x640 1 license_plate, 223.5ms\n",
            "Speed: 4.5ms preprocess, 223.5ms inference, 1.4ms postprocess per image at shape (1, 3, 416, 640)\n",
            "\n",
            "0: 416x640 1 license_plate, 262.0ms\n",
            "Speed: 5.4ms preprocess, 262.0ms inference, 1.7ms postprocess per image at shape (1, 3, 416, 640)\n",
            "\n",
            "0: 416x640 1 license_plate, 267.1ms\n",
            "Speed: 5.2ms preprocess, 267.1ms inference, 1.9ms postprocess per image at shape (1, 3, 416, 640)\n",
            "\n",
            "0: 416x640 1 license_plate, 251.1ms\n",
            "Speed: 5.8ms preprocess, 251.1ms inference, 1.9ms postprocess per image at shape (1, 3, 416, 640)\n",
            "\n",
            "0: 416x640 1 license_plate, 147.2ms\n",
            "Speed: 6.0ms preprocess, 147.2ms inference, 1.1ms postprocess per image at shape (1, 3, 416, 640)\n",
            "\n",
            "0: 416x640 1 license_plate, 144.7ms\n",
            "Speed: 4.2ms preprocess, 144.7ms inference, 1.1ms postprocess per image at shape (1, 3, 416, 640)\n",
            "\n",
            "0: 416x640 1 license_plate, 143.8ms\n",
            "Speed: 4.2ms preprocess, 143.8ms inference, 1.1ms postprocess per image at shape (1, 3, 416, 640)\n",
            "\n",
            "0: 416x640 1 license_plate, 155.5ms\n",
            "Speed: 4.5ms preprocess, 155.5ms inference, 1.6ms postprocess per image at shape (1, 3, 416, 640)\n",
            "\n",
            "0: 416x640 1 license_plate, 141.8ms\n",
            "Speed: 5.4ms preprocess, 141.8ms inference, 1.1ms postprocess per image at shape (1, 3, 416, 640)\n",
            "\n",
            "0: 416x640 1 license_plate, 153.5ms\n",
            "Speed: 7.8ms preprocess, 153.5ms inference, 1.3ms postprocess per image at shape (1, 3, 416, 640)\n",
            "\n",
            "0: 416x640 1 license_plate, 175.6ms\n",
            "Speed: 5.0ms preprocess, 175.6ms inference, 1.3ms postprocess per image at shape (1, 3, 416, 640)\n",
            "\n",
            "0: 416x640 1 license_plate, 157.7ms\n",
            "Speed: 4.1ms preprocess, 157.7ms inference, 1.3ms postprocess per image at shape (1, 3, 416, 640)\n",
            "\n",
            "0: 416x640 1 license_plate, 154.6ms\n",
            "Speed: 6.9ms preprocess, 154.6ms inference, 1.4ms postprocess per image at shape (1, 3, 416, 640)\n",
            "\n",
            "0: 416x640 1 license_plate, 153.7ms\n",
            "Speed: 5.2ms preprocess, 153.7ms inference, 1.2ms postprocess per image at shape (1, 3, 416, 640)\n",
            "\n",
            "0: 416x640 1 license_plate, 154.6ms\n",
            "Speed: 4.9ms preprocess, 154.6ms inference, 1.2ms postprocess per image at shape (1, 3, 416, 640)\n",
            "\n",
            "0: 416x640 1 license_plate, 174.2ms\n",
            "Speed: 5.0ms preprocess, 174.2ms inference, 1.4ms postprocess per image at shape (1, 3, 416, 640)\n",
            "\n",
            "0: 416x640 1 license_plate, 153.1ms\n",
            "Speed: 4.9ms preprocess, 153.1ms inference, 1.2ms postprocess per image at shape (1, 3, 416, 640)\n",
            "\n",
            "0: 416x640 1 license_plate, 147.8ms\n",
            "Speed: 4.2ms preprocess, 147.8ms inference, 1.1ms postprocess per image at shape (1, 3, 416, 640)\n",
            "\n",
            "0: 416x640 1 license_plate, 151.6ms\n",
            "Speed: 4.6ms preprocess, 151.6ms inference, 1.1ms postprocess per image at shape (1, 3, 416, 640)\n",
            "\n",
            "0: 416x640 1 license_plate, 156.0ms\n",
            "Speed: 4.9ms preprocess, 156.0ms inference, 1.3ms postprocess per image at shape (1, 3, 416, 640)\n",
            "\n",
            "0: 416x640 1 license_plate, 150.8ms\n",
            "Speed: 4.7ms preprocess, 150.8ms inference, 1.3ms postprocess per image at shape (1, 3, 416, 640)\n",
            "\n",
            "0: 416x640 1 license_plate, 168.7ms\n",
            "Speed: 6.7ms preprocess, 168.7ms inference, 1.3ms postprocess per image at shape (1, 3, 416, 640)\n",
            "\n",
            "0: 416x640 1 license_plate, 156.8ms\n",
            "Speed: 6.0ms preprocess, 156.8ms inference, 1.4ms postprocess per image at shape (1, 3, 416, 640)\n",
            "\n",
            "0: 416x640 1 license_plate, 155.9ms\n",
            "Speed: 7.8ms preprocess, 155.9ms inference, 1.2ms postprocess per image at shape (1, 3, 416, 640)\n",
            "\n",
            "0: 416x640 2 license_plates, 153.0ms\n",
            "Speed: 4.7ms preprocess, 153.0ms inference, 1.3ms postprocess per image at shape (1, 3, 416, 640)\n",
            "\n",
            "0: 416x640 2 license_plates, 164.9ms\n",
            "Speed: 5.7ms preprocess, 164.9ms inference, 1.2ms postprocess per image at shape (1, 3, 416, 640)\n",
            "\n",
            "0: 416x640 2 license_plates, 157.8ms\n",
            "Speed: 3.8ms preprocess, 157.8ms inference, 1.1ms postprocess per image at shape (1, 3, 416, 640)\n",
            "\n",
            "0: 416x640 2 license_plates, 153.5ms\n",
            "Speed: 5.4ms preprocess, 153.5ms inference, 1.1ms postprocess per image at shape (1, 3, 416, 640)\n",
            "\n",
            "0: 416x640 2 license_plates, 253.1ms\n",
            "Speed: 4.9ms preprocess, 253.1ms inference, 1.6ms postprocess per image at shape (1, 3, 416, 640)\n",
            "\n",
            "0: 416x640 1 license_plate, 222.5ms\n",
            "Speed: 4.7ms preprocess, 222.5ms inference, 1.4ms postprocess per image at shape (1, 3, 416, 640)\n",
            "\n",
            "0: 416x640 2 license_plates, 240.3ms\n",
            "Speed: 5.1ms preprocess, 240.3ms inference, 1.8ms postprocess per image at shape (1, 3, 416, 640)\n",
            "\n",
            "0: 416x640 1 license_plate, 229.3ms\n",
            "Speed: 5.8ms preprocess, 229.3ms inference, 1.7ms postprocess per image at shape (1, 3, 416, 640)\n",
            "\n",
            "0: 416x640 2 license_plates, 236.0ms\n",
            "Speed: 4.8ms preprocess, 236.0ms inference, 1.6ms postprocess per image at shape (1, 3, 416, 640)\n",
            "\n",
            "0: 416x640 1 license_plate, 149.4ms\n",
            "Speed: 5.1ms preprocess, 149.4ms inference, 1.1ms postprocess per image at shape (1, 3, 416, 640)\n",
            "\n",
            "0: 416x640 2 license_plates, 155.4ms\n",
            "Speed: 5.6ms preprocess, 155.4ms inference, 1.2ms postprocess per image at shape (1, 3, 416, 640)\n",
            "\n",
            "0: 416x640 2 license_plates, 150.7ms\n",
            "Speed: 4.1ms preprocess, 150.7ms inference, 1.2ms postprocess per image at shape (1, 3, 416, 640)\n",
            "\n",
            "0: 416x640 2 license_plates, 143.2ms\n",
            "Speed: 3.2ms preprocess, 143.2ms inference, 1.1ms postprocess per image at shape (1, 3, 416, 640)\n",
            "\n",
            "0: 416x640 2 license_plates, 145.9ms\n",
            "Speed: 4.4ms preprocess, 145.9ms inference, 1.1ms postprocess per image at shape (1, 3, 416, 640)\n",
            "\n",
            "0: 416x640 1 license_plate, 168.8ms\n",
            "Speed: 3.8ms preprocess, 168.8ms inference, 1.1ms postprocess per image at shape (1, 3, 416, 640)\n",
            "\n",
            "0: 416x640 1 license_plate, 170.5ms\n",
            "Speed: 4.5ms preprocess, 170.5ms inference, 1.1ms postprocess per image at shape (1, 3, 416, 640)\n",
            "\n",
            "0: 416x640 1 license_plate, 161.5ms\n",
            "Speed: 4.5ms preprocess, 161.5ms inference, 1.1ms postprocess per image at shape (1, 3, 416, 640)\n",
            "\n",
            "0: 416x640 1 license_plate, 159.6ms\n",
            "Speed: 5.7ms preprocess, 159.6ms inference, 1.1ms postprocess per image at shape (1, 3, 416, 640)\n",
            "\n",
            "0: 416x640 1 license_plate, 154.6ms\n",
            "Speed: 4.6ms preprocess, 154.6ms inference, 1.4ms postprocess per image at shape (1, 3, 416, 640)\n",
            "\n",
            "0: 416x640 1 license_plate, 152.7ms\n",
            "Speed: 3.9ms preprocess, 152.7ms inference, 1.3ms postprocess per image at shape (1, 3, 416, 640)\n",
            "\n",
            "0: 416x640 1 license_plate, 160.4ms\n",
            "Speed: 6.0ms preprocess, 160.4ms inference, 1.3ms postprocess per image at shape (1, 3, 416, 640)\n",
            "\n",
            "0: 416x640 1 license_plate, 158.4ms\n",
            "Speed: 5.6ms preprocess, 158.4ms inference, 1.3ms postprocess per image at shape (1, 3, 416, 640)\n",
            "\n",
            "0: 416x640 1 license_plate, 162.4ms\n",
            "Speed: 3.7ms preprocess, 162.4ms inference, 1.3ms postprocess per image at shape (1, 3, 416, 640)\n",
            "\n",
            "0: 416x640 1 license_plate, 152.9ms\n",
            "Speed: 6.0ms preprocess, 152.9ms inference, 1.2ms postprocess per image at shape (1, 3, 416, 640)\n",
            "\n",
            "0: 416x640 1 license_plate, 159.6ms\n",
            "Speed: 3.7ms preprocess, 159.6ms inference, 1.7ms postprocess per image at shape (1, 3, 416, 640)\n",
            "\n",
            "0: 416x640 1 license_plate, 150.9ms\n",
            "Speed: 4.7ms preprocess, 150.9ms inference, 1.2ms postprocess per image at shape (1, 3, 416, 640)\n",
            "\n",
            "0: 416x640 1 license_plate, 154.7ms\n",
            "Speed: 4.8ms preprocess, 154.7ms inference, 1.2ms postprocess per image at shape (1, 3, 416, 640)\n",
            "\n",
            "0: 416x640 1 license_plate, 235.5ms\n",
            "Speed: 5.4ms preprocess, 235.5ms inference, 1.6ms postprocess per image at shape (1, 3, 416, 640)\n",
            "\n",
            "0: 416x640 1 license_plate, 229.3ms\n",
            "Speed: 4.8ms preprocess, 229.3ms inference, 1.8ms postprocess per image at shape (1, 3, 416, 640)\n",
            "\n",
            "0: 416x640 1 license_plate, 254.5ms\n",
            "Speed: 4.9ms preprocess, 254.5ms inference, 1.8ms postprocess per image at shape (1, 3, 416, 640)\n",
            "\n",
            "0: 416x640 1 license_plate, 244.3ms\n",
            "Speed: 5.8ms preprocess, 244.3ms inference, 1.7ms postprocess per image at shape (1, 3, 416, 640)\n",
            "\n",
            "0: 416x640 1 license_plate, 244.3ms\n",
            "Speed: 5.0ms preprocess, 244.3ms inference, 2.8ms postprocess per image at shape (1, 3, 416, 640)\n",
            "\n",
            "0: 416x640 1 license_plate, 253.3ms\n",
            "Speed: 5.3ms preprocess, 253.3ms inference, 1.2ms postprocess per image at shape (1, 3, 416, 640)\n",
            "\n",
            "0: 416x640 1 license_plate, 167.5ms\n",
            "Speed: 6.4ms preprocess, 167.5ms inference, 1.5ms postprocess per image at shape (1, 3, 416, 640)\n",
            "\n",
            "0: 416x640 1 license_plate, 159.4ms\n",
            "Speed: 6.1ms preprocess, 159.4ms inference, 1.2ms postprocess per image at shape (1, 3, 416, 640)\n",
            "\n",
            "0: 416x640 1 license_plate, 166.3ms\n",
            "Speed: 4.8ms preprocess, 166.3ms inference, 1.3ms postprocess per image at shape (1, 3, 416, 640)\n",
            "\n",
            "0: 416x640 1 license_plate, 146.4ms\n",
            "Speed: 4.3ms preprocess, 146.4ms inference, 1.2ms postprocess per image at shape (1, 3, 416, 640)\n",
            "\n",
            "0: 416x640 1 license_plate, 143.9ms\n",
            "Speed: 4.3ms preprocess, 143.9ms inference, 1.2ms postprocess per image at shape (1, 3, 416, 640)\n",
            "\n",
            "0: 416x640 1 license_plate, 148.8ms\n",
            "Speed: 3.8ms preprocess, 148.8ms inference, 1.3ms postprocess per image at shape (1, 3, 416, 640)\n",
            "\n",
            "0: 416x640 1 license_plate, 168.2ms\n",
            "Speed: 5.7ms preprocess, 168.2ms inference, 1.2ms postprocess per image at shape (1, 3, 416, 640)\n",
            "\n",
            "0: 416x640 1 license_plate, 148.7ms\n",
            "Speed: 4.8ms preprocess, 148.7ms inference, 1.2ms postprocess per image at shape (1, 3, 416, 640)\n",
            "\n",
            "0: 416x640 1 license_plate, 153.9ms\n",
            "Speed: 5.4ms preprocess, 153.9ms inference, 1.7ms postprocess per image at shape (1, 3, 416, 640)\n",
            "\n",
            "0: 416x640 1 license_plate, 157.3ms\n",
            "Speed: 5.7ms preprocess, 157.3ms inference, 1.3ms postprocess per image at shape (1, 3, 416, 640)\n",
            "\n",
            "0: 416x640 1 license_plate, 150.9ms\n",
            "Speed: 5.7ms preprocess, 150.9ms inference, 1.3ms postprocess per image at shape (1, 3, 416, 640)\n",
            "\n",
            "0: 416x640 1 license_plate, 153.5ms\n",
            "Speed: 5.5ms preprocess, 153.5ms inference, 1.4ms postprocess per image at shape (1, 3, 416, 640)\n",
            "\n",
            "0: 416x640 1 license_plate, 157.6ms\n",
            "Speed: 4.8ms preprocess, 157.6ms inference, 1.7ms postprocess per image at shape (1, 3, 416, 640)\n",
            "\n",
            "0: 416x640 1 license_plate, 155.9ms\n",
            "Speed: 6.1ms preprocess, 155.9ms inference, 1.8ms postprocess per image at shape (1, 3, 416, 640)\n",
            "\n",
            "0: 416x640 1 license_plate, 151.7ms\n",
            "Speed: 4.8ms preprocess, 151.7ms inference, 1.4ms postprocess per image at shape (1, 3, 416, 640)\n",
            "\n",
            "0: 416x640 1 license_plate, 145.3ms\n",
            "Speed: 4.3ms preprocess, 145.3ms inference, 1.1ms postprocess per image at shape (1, 3, 416, 640)\n",
            "\n",
            "0: 416x640 1 license_plate, 161.1ms\n",
            "Speed: 3.1ms preprocess, 161.1ms inference, 1.5ms postprocess per image at shape (1, 3, 416, 640)\n",
            "\n",
            "0: 416x640 1 license_plate, 156.6ms\n",
            "Speed: 6.3ms preprocess, 156.6ms inference, 1.2ms postprocess per image at shape (1, 3, 416, 640)\n",
            "\n",
            "0: 416x640 1 license_plate, 153.1ms\n",
            "Speed: 4.6ms preprocess, 153.1ms inference, 1.2ms postprocess per image at shape (1, 3, 416, 640)\n",
            "\n",
            "0: 416x640 1 license_plate, 155.5ms\n",
            "Speed: 4.9ms preprocess, 155.5ms inference, 1.2ms postprocess per image at shape (1, 3, 416, 640)\n",
            "\n",
            "0: 416x640 1 license_plate, 150.6ms\n",
            "Speed: 4.3ms preprocess, 150.6ms inference, 1.2ms postprocess per image at shape (1, 3, 416, 640)\n",
            "\n",
            "0: 416x640 1 license_plate, 149.3ms\n",
            "Speed: 4.4ms preprocess, 149.3ms inference, 1.1ms postprocess per image at shape (1, 3, 416, 640)\n",
            "\n",
            "0: 416x640 1 license_plate, 226.7ms\n",
            "Speed: 4.4ms preprocess, 226.7ms inference, 1.3ms postprocess per image at shape (1, 3, 416, 640)\n",
            "\n",
            "0: 416x640 1 license_plate, 223.2ms\n",
            "Speed: 4.7ms preprocess, 223.2ms inference, 1.3ms postprocess per image at shape (1, 3, 416, 640)\n",
            "\n",
            "0: 416x640 1 license_plate, 223.9ms\n",
            "Speed: 4.6ms preprocess, 223.9ms inference, 1.4ms postprocess per image at shape (1, 3, 416, 640)\n",
            "\n",
            "0: 416x640 1 license_plate, 216.8ms\n",
            "Speed: 4.5ms preprocess, 216.8ms inference, 1.3ms postprocess per image at shape (1, 3, 416, 640)\n",
            "\n",
            "0: 416x640 1 license_plate, 253.0ms\n",
            "Speed: 6.5ms preprocess, 253.0ms inference, 1.8ms postprocess per image at shape (1, 3, 416, 640)\n",
            "\n",
            "0: 416x640 1 license_plate, 259.1ms\n",
            "Speed: 5.0ms preprocess, 259.1ms inference, 2.0ms postprocess per image at shape (1, 3, 416, 640)\n",
            "\n",
            "0: 416x640 1 license_plate, 142.4ms\n",
            "Speed: 3.6ms preprocess, 142.4ms inference, 1.1ms postprocess per image at shape (1, 3, 416, 640)\n",
            "\n",
            "0: 416x640 1 license_plate, 141.8ms\n",
            "Speed: 6.0ms preprocess, 141.8ms inference, 1.0ms postprocess per image at shape (1, 3, 416, 640)\n",
            "\n",
            "0: 416x640 1 license_plate, 149.6ms\n",
            "Speed: 3.8ms preprocess, 149.6ms inference, 1.2ms postprocess per image at shape (1, 3, 416, 640)\n",
            "\n",
            "0: 416x640 1 license_plate, 153.4ms\n",
            "Speed: 6.5ms preprocess, 153.4ms inference, 1.2ms postprocess per image at shape (1, 3, 416, 640)\n",
            "\n",
            "0: 416x640 1 license_plate, 147.5ms\n",
            "Speed: 4.6ms preprocess, 147.5ms inference, 1.4ms postprocess per image at shape (1, 3, 416, 640)\n",
            "\n",
            "0: 416x640 1 license_plate, 146.2ms\n",
            "Speed: 4.2ms preprocess, 146.2ms inference, 1.4ms postprocess per image at shape (1, 3, 416, 640)\n",
            "\n",
            "0: 416x640 1 license_plate, 158.8ms\n",
            "Speed: 4.1ms preprocess, 158.8ms inference, 1.3ms postprocess per image at shape (1, 3, 416, 640)\n",
            "\n",
            "0: 416x640 1 license_plate, 147.0ms\n",
            "Speed: 3.2ms preprocess, 147.0ms inference, 1.2ms postprocess per image at shape (1, 3, 416, 640)\n",
            "\n",
            "0: 416x640 1 license_plate, 144.5ms\n",
            "Speed: 4.4ms preprocess, 144.5ms inference, 1.1ms postprocess per image at shape (1, 3, 416, 640)\n",
            "\n",
            "0: 416x640 1 license_plate, 141.9ms\n",
            "Speed: 4.2ms preprocess, 141.9ms inference, 1.1ms postprocess per image at shape (1, 3, 416, 640)\n",
            "\n",
            "0: 416x640 1 license_plate, 148.5ms\n",
            "Speed: 4.5ms preprocess, 148.5ms inference, 1.1ms postprocess per image at shape (1, 3, 416, 640)\n",
            "\n",
            "0: 416x640 1 license_plate, 142.5ms\n",
            "Speed: 3.3ms preprocess, 142.5ms inference, 1.1ms postprocess per image at shape (1, 3, 416, 640)\n",
            "\n",
            "0: 416x640 1 license_plate, 146.0ms\n",
            "Speed: 5.8ms preprocess, 146.0ms inference, 1.1ms postprocess per image at shape (1, 3, 416, 640)\n",
            "\n",
            "0: 416x640 1 license_plate, 167.1ms\n",
            "Speed: 3.7ms preprocess, 167.1ms inference, 1.3ms postprocess per image at shape (1, 3, 416, 640)\n",
            "\n",
            "0: 416x640 1 license_plate, 146.5ms\n",
            "Speed: 5.4ms preprocess, 146.5ms inference, 1.2ms postprocess per image at shape (1, 3, 416, 640)\n",
            "\n",
            "0: 416x640 1 license_plate, 150.7ms\n",
            "Speed: 5.9ms preprocess, 150.7ms inference, 1.3ms postprocess per image at shape (1, 3, 416, 640)\n",
            "\n",
            "0: 416x640 1 license_plate, 150.3ms\n",
            "Speed: 6.3ms preprocess, 150.3ms inference, 1.2ms postprocess per image at shape (1, 3, 416, 640)\n",
            "\n",
            "0: 416x640 1 license_plate, 150.2ms\n",
            "Speed: 4.6ms preprocess, 150.2ms inference, 1.5ms postprocess per image at shape (1, 3, 416, 640)\n",
            "\n",
            "0: 416x640 1 license_plate, 150.5ms\n",
            "Speed: 5.0ms preprocess, 150.5ms inference, 1.2ms postprocess per image at shape (1, 3, 416, 640)\n",
            "\n",
            "0: 416x640 1 license_plate, 155.8ms\n",
            "Speed: 5.0ms preprocess, 155.8ms inference, 1.2ms postprocess per image at shape (1, 3, 416, 640)\n",
            "\n",
            "0: 416x640 1 license_plate, 153.3ms\n",
            "Speed: 3.8ms preprocess, 153.3ms inference, 1.2ms postprocess per image at shape (1, 3, 416, 640)\n",
            "\n",
            "0: 416x640 1 license_plate, 221.0ms\n",
            "Speed: 4.8ms preprocess, 221.0ms inference, 1.7ms postprocess per image at shape (1, 3, 416, 640)\n",
            "\n",
            "0: 416x640 1 license_plate, 231.9ms\n",
            "Speed: 4.9ms preprocess, 231.9ms inference, 1.5ms postprocess per image at shape (1, 3, 416, 640)\n",
            "\n",
            "0: 416x640 1 license_plate, 249.3ms\n",
            "Speed: 4.9ms preprocess, 249.3ms inference, 1.8ms postprocess per image at shape (1, 3, 416, 640)\n",
            "\n",
            "0: 416x640 1 license_plate, 228.7ms\n",
            "Speed: 4.9ms preprocess, 228.7ms inference, 1.5ms postprocess per image at shape (1, 3, 416, 640)\n",
            "\n",
            "0: 416x640 1 license_plate, 232.7ms\n",
            "Speed: 4.5ms preprocess, 232.7ms inference, 1.3ms postprocess per image at shape (1, 3, 416, 640)\n",
            "\n",
            "0: 416x640 1 license_plate, 264.7ms\n",
            "Speed: 4.8ms preprocess, 264.7ms inference, 3.4ms postprocess per image at shape (1, 3, 416, 640)\n",
            "\n",
            "0: 416x640 1 license_plate, 230.6ms\n",
            "Speed: 6.2ms preprocess, 230.6ms inference, 1.6ms postprocess per image at shape (1, 3, 416, 640)\n",
            "\n",
            "0: 416x640 1 license_plate, 146.4ms\n",
            "Speed: 5.3ms preprocess, 146.4ms inference, 1.1ms postprocess per image at shape (1, 3, 416, 640)\n",
            "\n",
            "0: 416x640 1 license_plate, 141.8ms\n",
            "Speed: 4.0ms preprocess, 141.8ms inference, 1.1ms postprocess per image at shape (1, 3, 416, 640)\n",
            "\n",
            "0: 416x640 1 license_plate, 144.1ms\n",
            "Speed: 4.6ms preprocess, 144.1ms inference, 1.1ms postprocess per image at shape (1, 3, 416, 640)\n",
            "\n",
            "0: 416x640 1 license_plate, 148.6ms\n",
            "Speed: 4.4ms preprocess, 148.6ms inference, 1.2ms postprocess per image at shape (1, 3, 416, 640)\n",
            "\n",
            "0: 416x640 1 license_plate, 171.0ms\n",
            "Speed: 5.7ms preprocess, 171.0ms inference, 1.5ms postprocess per image at shape (1, 3, 416, 640)\n",
            "\n",
            "0: 416x640 1 license_plate, 150.3ms\n",
            "Speed: 4.8ms preprocess, 150.3ms inference, 1.2ms postprocess per image at shape (1, 3, 416, 640)\n",
            "\n",
            "0: 416x640 1 license_plate, 164.5ms\n",
            "Speed: 5.9ms preprocess, 164.5ms inference, 1.1ms postprocess per image at shape (1, 3, 416, 640)\n",
            "\n",
            "0: 416x640 1 license_plate, 144.3ms\n",
            "Speed: 3.5ms preprocess, 144.3ms inference, 1.4ms postprocess per image at shape (1, 3, 416, 640)\n",
            "\n",
            "0: 416x640 1 license_plate, 151.9ms\n",
            "Speed: 3.9ms preprocess, 151.9ms inference, 1.2ms postprocess per image at shape (1, 3, 416, 640)\n",
            "\n",
            "0: 416x640 1 license_plate, 156.0ms\n",
            "Speed: 5.1ms preprocess, 156.0ms inference, 1.2ms postprocess per image at shape (1, 3, 416, 640)\n",
            "\n",
            "0: 416x640 1 license_plate, 155.5ms\n",
            "Speed: 5.0ms preprocess, 155.5ms inference, 1.2ms postprocess per image at shape (1, 3, 416, 640)\n",
            "\n",
            "0: 416x640 1 license_plate, 150.9ms\n",
            "Speed: 4.6ms preprocess, 150.9ms inference, 1.3ms postprocess per image at shape (1, 3, 416, 640)\n",
            "\n",
            "0: 416x640 2 license_plates, 153.2ms\n",
            "Speed: 4.6ms preprocess, 153.2ms inference, 1.2ms postprocess per image at shape (1, 3, 416, 640)\n",
            "\n",
            "0: 416x640 1 license_plate, 150.4ms\n",
            "Speed: 7.0ms preprocess, 150.4ms inference, 1.2ms postprocess per image at shape (1, 3, 416, 640)\n",
            "\n",
            "0: 416x640 2 license_plates, 154.5ms\n",
            "Speed: 6.6ms preprocess, 154.5ms inference, 1.5ms postprocess per image at shape (1, 3, 416, 640)\n",
            "\n",
            "0: 416x640 1 license_plate, 149.3ms\n",
            "Speed: 4.1ms preprocess, 149.3ms inference, 1.5ms postprocess per image at shape (1, 3, 416, 640)\n",
            "\n",
            "0: 416x640 1 license_plate, 161.1ms\n",
            "Speed: 4.1ms preprocess, 161.1ms inference, 1.3ms postprocess per image at shape (1, 3, 416, 640)\n",
            "\n",
            "0: 416x640 1 license_plate, 186.1ms\n",
            "Speed: 4.8ms preprocess, 186.1ms inference, 1.2ms postprocess per image at shape (1, 3, 416, 640)\n",
            "\n",
            "0: 416x640 1 license_plate, 148.6ms\n",
            "Speed: 4.7ms preprocess, 148.6ms inference, 1.1ms postprocess per image at shape (1, 3, 416, 640)\n",
            "\n",
            "0: 416x640 1 license_plate, 158.6ms\n",
            "Speed: 4.5ms preprocess, 158.6ms inference, 1.1ms postprocess per image at shape (1, 3, 416, 640)\n",
            "\n",
            "0: 416x640 2 license_plates, 143.3ms\n",
            "Speed: 4.6ms preprocess, 143.3ms inference, 1.2ms postprocess per image at shape (1, 3, 416, 640)\n",
            "\n",
            "0: 416x640 2 license_plates, 245.9ms\n",
            "Speed: 5.4ms preprocess, 245.9ms inference, 1.3ms postprocess per image at shape (1, 3, 416, 640)\n",
            "\n",
            "0: 416x640 1 license_plate, 221.4ms\n",
            "Speed: 4.6ms preprocess, 221.4ms inference, 2.0ms postprocess per image at shape (1, 3, 416, 640)\n",
            "\n",
            "0: 416x640 1 license_plate, 225.3ms\n",
            "Speed: 4.4ms preprocess, 225.3ms inference, 1.3ms postprocess per image at shape (1, 3, 416, 640)\n",
            "\n",
            "0: 416x640 1 license_plate, 219.2ms\n",
            "Speed: 5.2ms preprocess, 219.2ms inference, 1.3ms postprocess per image at shape (1, 3, 416, 640)\n",
            "\n",
            "0: 416x640 1 license_plate, 225.4ms\n",
            "Speed: 4.5ms preprocess, 225.4ms inference, 1.6ms postprocess per image at shape (1, 3, 416, 640)\n",
            "\n",
            "0: 416x640 1 license_plate, 234.0ms\n",
            "Speed: 4.7ms preprocess, 234.0ms inference, 1.6ms postprocess per image at shape (1, 3, 416, 640)\n",
            "\n",
            "0: 416x640 1 license_plate, 170.8ms\n",
            "Speed: 5.2ms preprocess, 170.8ms inference, 1.2ms postprocess per image at shape (1, 3, 416, 640)\n",
            "\n",
            "0: 416x640 1 license_plate, 174.1ms\n",
            "Speed: 4.4ms preprocess, 174.1ms inference, 1.2ms postprocess per image at shape (1, 3, 416, 640)\n",
            "\n",
            "0: 416x640 1 license_plate, 164.5ms\n",
            "Speed: 4.4ms preprocess, 164.5ms inference, 1.2ms postprocess per image at shape (1, 3, 416, 640)\n",
            "\n",
            "0: 416x640 1 license_plate, 158.4ms\n",
            "Speed: 4.1ms preprocess, 158.4ms inference, 1.2ms postprocess per image at shape (1, 3, 416, 640)\n",
            "\n",
            "0: 416x640 1 license_plate, 153.6ms\n",
            "Speed: 5.1ms preprocess, 153.6ms inference, 1.4ms postprocess per image at shape (1, 3, 416, 640)\n",
            "\n",
            "0: 416x640 1 license_plate, 153.3ms\n",
            "Speed: 3.7ms preprocess, 153.3ms inference, 1.2ms postprocess per image at shape (1, 3, 416, 640)\n",
            "\n",
            "0: 416x640 1 license_plate, 150.3ms\n",
            "Speed: 7.2ms preprocess, 150.3ms inference, 1.2ms postprocess per image at shape (1, 3, 416, 640)\n",
            "\n",
            "0: 416x640 1 license_plate, 143.6ms\n",
            "Speed: 5.3ms preprocess, 143.6ms inference, 1.1ms postprocess per image at shape (1, 3, 416, 640)\n",
            "\n",
            "0: 416x640 1 license_plate, 142.8ms\n",
            "Speed: 5.0ms preprocess, 142.8ms inference, 1.1ms postprocess per image at shape (1, 3, 416, 640)\n",
            "\n",
            "0: 416x640 1 license_plate, 164.2ms\n",
            "Speed: 7.2ms preprocess, 164.2ms inference, 1.3ms postprocess per image at shape (1, 3, 416, 640)\n",
            "\n",
            "0: 416x640 1 license_plate, 150.5ms\n",
            "Speed: 4.7ms preprocess, 150.5ms inference, 1.2ms postprocess per image at shape (1, 3, 416, 640)\n",
            "\n",
            "0: 416x640 1 license_plate, 177.7ms\n",
            "Speed: 3.7ms preprocess, 177.7ms inference, 2.2ms postprocess per image at shape (1, 3, 416, 640)\n",
            "\n",
            "0: 416x640 1 license_plate, 159.3ms\n",
            "Speed: 4.6ms preprocess, 159.3ms inference, 1.3ms postprocess per image at shape (1, 3, 416, 640)\n",
            "\n",
            "0: 416x640 1 license_plate, 141.6ms\n",
            "Speed: 4.6ms preprocess, 141.6ms inference, 1.0ms postprocess per image at shape (1, 3, 416, 640)\n",
            "\n",
            "0: 416x640 1 license_plate, 162.2ms\n",
            "Speed: 5.9ms preprocess, 162.2ms inference, 1.3ms postprocess per image at shape (1, 3, 416, 640)\n",
            "\n",
            "0: 416x640 1 license_plate, 154.6ms\n",
            "Speed: 4.2ms preprocess, 154.6ms inference, 1.2ms postprocess per image at shape (1, 3, 416, 640)\n",
            "\n",
            "0: 416x640 1 license_plate, 158.0ms\n",
            "Speed: 5.0ms preprocess, 158.0ms inference, 1.3ms postprocess per image at shape (1, 3, 416, 640)\n",
            "\n",
            "0: 416x640 1 license_plate, 157.9ms\n",
            "Speed: 5.1ms preprocess, 157.9ms inference, 1.2ms postprocess per image at shape (1, 3, 416, 640)\n",
            "\n",
            "0: 416x640 1 license_plate, 148.5ms\n",
            "Speed: 4.5ms preprocess, 148.5ms inference, 1.2ms postprocess per image at shape (1, 3, 416, 640)\n",
            "\n",
            "0: 416x640 1 license_plate, 158.1ms\n",
            "Speed: 5.0ms preprocess, 158.1ms inference, 1.3ms postprocess per image at shape (1, 3, 416, 640)\n",
            "\n",
            "0: 416x640 1 license_plate, 155.8ms\n",
            "Speed: 6.7ms preprocess, 155.8ms inference, 1.4ms postprocess per image at shape (1, 3, 416, 640)\n",
            "\n",
            "0: 416x640 1 license_plate, 152.1ms\n",
            "Speed: 5.0ms preprocess, 152.1ms inference, 1.2ms postprocess per image at shape (1, 3, 416, 640)\n",
            "\n",
            "0: 416x640 1 license_plate, 164.3ms\n",
            "Speed: 4.6ms preprocess, 164.3ms inference, 1.9ms postprocess per image at shape (1, 3, 416, 640)\n",
            "\n",
            "0: 416x640 1 license_plate, 148.8ms\n",
            "Speed: 4.7ms preprocess, 148.8ms inference, 1.2ms postprocess per image at shape (1, 3, 416, 640)\n",
            "\n",
            "0: 416x640 1 license_plate, 152.0ms\n",
            "Speed: 4.7ms preprocess, 152.0ms inference, 1.2ms postprocess per image at shape (1, 3, 416, 640)\n",
            "\n",
            "0: 416x640 1 license_plate, 167.7ms\n",
            "Speed: 7.1ms preprocess, 167.7ms inference, 1.2ms postprocess per image at shape (1, 3, 416, 640)\n",
            "\n",
            "0: 416x640 1 license_plate, 223.6ms\n",
            "Speed: 4.5ms preprocess, 223.6ms inference, 1.3ms postprocess per image at shape (1, 3, 416, 640)\n",
            "\n",
            "0: 416x640 (no detections), 247.3ms\n",
            "Speed: 5.8ms preprocess, 247.3ms inference, 0.9ms postprocess per image at shape (1, 3, 416, 640)\n",
            "\n",
            "0: 416x640 1 license_plate, 228.5ms\n",
            "Speed: 5.4ms preprocess, 228.5ms inference, 1.5ms postprocess per image at shape (1, 3, 416, 640)\n",
            "\n",
            "0: 416x640 1 license_plate, 244.6ms\n",
            "Speed: 5.0ms preprocess, 244.6ms inference, 1.8ms postprocess per image at shape (1, 3, 416, 640)\n",
            "\n",
            "0: 416x640 1 license_plate, 225.8ms\n",
            "Speed: 4.7ms preprocess, 225.8ms inference, 1.9ms postprocess per image at shape (1, 3, 416, 640)\n",
            "\n",
            "0: 416x640 1 license_plate, 221.9ms\n",
            "Speed: 5.1ms preprocess, 221.9ms inference, 1.3ms postprocess per image at shape (1, 3, 416, 640)\n",
            "\n",
            "0: 416x640 1 license_plate, 241.6ms\n",
            "Speed: 5.0ms preprocess, 241.6ms inference, 1.8ms postprocess per image at shape (1, 3, 416, 640)\n",
            "\n",
            "0: 416x640 1 license_plate, 256.7ms\n",
            "Speed: 4.9ms preprocess, 256.7ms inference, 1.7ms postprocess per image at shape (1, 3, 416, 640)\n",
            "\n",
            "0: 416x640 1 license_plate, 228.4ms\n",
            "Speed: 6.4ms preprocess, 228.4ms inference, 4.2ms postprocess per image at shape (1, 3, 416, 640)\n",
            "\n",
            "0: 416x640 1 license_plate, 158.1ms\n",
            "Speed: 4.8ms preprocess, 158.1ms inference, 1.2ms postprocess per image at shape (1, 3, 416, 640)\n",
            "\n",
            "0: 416x640 1 license_plate, 179.6ms\n",
            "Speed: 6.7ms preprocess, 179.6ms inference, 1.3ms postprocess per image at shape (1, 3, 416, 640)\n",
            "\n",
            "0: 416x640 1 license_plate, 154.9ms\n",
            "Speed: 5.0ms preprocess, 154.9ms inference, 1.2ms postprocess per image at shape (1, 3, 416, 640)\n",
            "\n",
            "0: 416x640 1 license_plate, 150.8ms\n",
            "Speed: 5.1ms preprocess, 150.8ms inference, 1.4ms postprocess per image at shape (1, 3, 416, 640)\n",
            "\n",
            "0: 416x640 1 license_plate, 152.0ms\n",
            "Speed: 4.5ms preprocess, 152.0ms inference, 1.2ms postprocess per image at shape (1, 3, 416, 640)\n",
            "\n",
            "0: 416x640 1 license_plate, 144.2ms\n",
            "Speed: 5.1ms preprocess, 144.2ms inference, 1.2ms postprocess per image at shape (1, 3, 416, 640)\n",
            "\n",
            "0: 416x640 1 license_plate, 147.5ms\n",
            "Speed: 5.1ms preprocess, 147.5ms inference, 1.1ms postprocess per image at shape (1, 3, 416, 640)\n",
            "\n",
            "0: 416x640 2 license_plates, 150.3ms\n",
            "Speed: 4.3ms preprocess, 150.3ms inference, 1.2ms postprocess per image at shape (1, 3, 416, 640)\n",
            "\n",
            "0: 416x640 2 license_plates, 152.3ms\n",
            "Speed: 4.7ms preprocess, 152.3ms inference, 1.4ms postprocess per image at shape (1, 3, 416, 640)\n",
            "\n",
            "0: 416x640 2 license_plates, 165.9ms\n",
            "Speed: 5.2ms preprocess, 165.9ms inference, 1.2ms postprocess per image at shape (1, 3, 416, 640)\n",
            "\n",
            "0: 416x640 2 license_plates, 176.4ms\n",
            "Speed: 4.2ms preprocess, 176.4ms inference, 1.4ms postprocess per image at shape (1, 3, 416, 640)\n",
            "\n",
            "0: 416x640 1 license_plate, 184.5ms\n",
            "Speed: 3.9ms preprocess, 184.5ms inference, 1.4ms postprocess per image at shape (1, 3, 416, 640)\n",
            "\n",
            "0: 416x640 1 license_plate, 317.7ms\n",
            "Speed: 4.0ms preprocess, 317.7ms inference, 13.0ms postprocess per image at shape (1, 3, 416, 640)\n",
            "\n",
            "0: 416x640 1 license_plate, 166.4ms\n",
            "Speed: 4.8ms preprocess, 166.4ms inference, 1.3ms postprocess per image at shape (1, 3, 416, 640)\n",
            "\n",
            "0: 416x640 1 license_plate, 196.9ms\n",
            "Speed: 5.3ms preprocess, 196.9ms inference, 1.6ms postprocess per image at shape (1, 3, 416, 640)\n",
            "\n",
            "0: 416x640 1 license_plate, 207.7ms\n",
            "Speed: 7.5ms preprocess, 207.7ms inference, 1.7ms postprocess per image at shape (1, 3, 416, 640)\n",
            "\n",
            "0: 416x640 1 license_plate, 387.8ms\n",
            "Speed: 5.6ms preprocess, 387.8ms inference, 2.3ms postprocess per image at shape (1, 3, 416, 640)\n",
            "\n",
            "0: 416x640 1 license_plate, 289.8ms\n",
            "Speed: 18.8ms preprocess, 289.8ms inference, 1.5ms postprocess per image at shape (1, 3, 416, 640)\n",
            "\n",
            "0: 416x640 1 license_plate, 340.4ms\n",
            "Speed: 8.9ms preprocess, 340.4ms inference, 2.0ms postprocess per image at shape (1, 3, 416, 640)\n",
            "\n",
            "0: 416x640 1 license_plate, 281.5ms\n",
            "Speed: 6.1ms preprocess, 281.5ms inference, 3.0ms postprocess per image at shape (1, 3, 416, 640)\n",
            "\n",
            "0: 416x640 1 license_plate, 429.7ms\n",
            "Speed: 4.4ms preprocess, 429.7ms inference, 1.5ms postprocess per image at shape (1, 3, 416, 640)\n",
            "\n",
            "0: 416x640 1 license_plate, 222.7ms\n",
            "Speed: 4.7ms preprocess, 222.7ms inference, 1.3ms postprocess per image at shape (1, 3, 416, 640)\n",
            "\n",
            "0: 416x640 1 license_plate, 230.4ms\n",
            "Speed: 4.5ms preprocess, 230.4ms inference, 1.8ms postprocess per image at shape (1, 3, 416, 640)\n",
            "\n",
            "0: 416x640 1 license_plate, 243.6ms\n",
            "Speed: 5.0ms preprocess, 243.6ms inference, 1.8ms postprocess per image at shape (1, 3, 416, 640)\n",
            "\n",
            "0: 416x640 1 license_plate, 158.9ms\n",
            "Speed: 5.8ms preprocess, 158.9ms inference, 2.0ms postprocess per image at shape (1, 3, 416, 640)\n",
            "\n",
            "0: 416x640 1 license_plate, 169.2ms\n",
            "Speed: 4.5ms preprocess, 169.2ms inference, 1.2ms postprocess per image at shape (1, 3, 416, 640)\n",
            "\n",
            "0: 416x640 1 license_plate, 150.8ms\n",
            "Speed: 6.4ms preprocess, 150.8ms inference, 1.2ms postprocess per image at shape (1, 3, 416, 640)\n",
            "\n",
            "0: 416x640 1 license_plate, 145.2ms\n",
            "Speed: 4.4ms preprocess, 145.2ms inference, 1.0ms postprocess per image at shape (1, 3, 416, 640)\n",
            "\n",
            "0: 416x640 1 license_plate, 164.5ms\n",
            "Speed: 4.5ms preprocess, 164.5ms inference, 1.3ms postprocess per image at shape (1, 3, 416, 640)\n",
            "\n",
            "0: 416x640 1 license_plate, 144.6ms\n",
            "Speed: 5.7ms preprocess, 144.6ms inference, 1.4ms postprocess per image at shape (1, 3, 416, 640)\n",
            "\n",
            "0: 416x640 1 license_plate, 142.6ms\n",
            "Speed: 4.7ms preprocess, 142.6ms inference, 1.1ms postprocess per image at shape (1, 3, 416, 640)\n",
            "\n",
            "0: 416x640 1 license_plate, 163.1ms\n",
            "Speed: 5.9ms preprocess, 163.1ms inference, 1.1ms postprocess per image at shape (1, 3, 416, 640)\n",
            "\n",
            "0: 416x640 1 license_plate, 145.3ms\n",
            "Speed: 3.7ms preprocess, 145.3ms inference, 1.2ms postprocess per image at shape (1, 3, 416, 640)\n",
            "\n",
            "0: 416x640 1 license_plate, 155.4ms\n",
            "Speed: 4.3ms preprocess, 155.4ms inference, 1.1ms postprocess per image at shape (1, 3, 416, 640)\n",
            "\n",
            "0: 416x640 1 license_plate, 156.4ms\n",
            "Speed: 4.6ms preprocess, 156.4ms inference, 1.1ms postprocess per image at shape (1, 3, 416, 640)\n",
            "\n",
            "0: 416x640 1 license_plate, 148.7ms\n",
            "Speed: 3.4ms preprocess, 148.7ms inference, 1.1ms postprocess per image at shape (1, 3, 416, 640)\n",
            "\n",
            "0: 416x640 1 license_plate, 148.8ms\n",
            "Speed: 4.2ms preprocess, 148.8ms inference, 1.1ms postprocess per image at shape (1, 3, 416, 640)\n",
            "\n",
            "0: 416x640 1 license_plate, 181.2ms\n",
            "Speed: 6.2ms preprocess, 181.2ms inference, 1.1ms postprocess per image at shape (1, 3, 416, 640)\n",
            "\n",
            "0: 416x640 1 license_plate, 147.3ms\n",
            "Speed: 5.2ms preprocess, 147.3ms inference, 1.2ms postprocess per image at shape (1, 3, 416, 640)\n",
            "\n",
            "0: 416x640 1 license_plate, 172.1ms\n",
            "Speed: 6.3ms preprocess, 172.1ms inference, 1.2ms postprocess per image at shape (1, 3, 416, 640)\n",
            "\n",
            "0: 416x640 1 license_plate, 151.2ms\n",
            "Speed: 4.6ms preprocess, 151.2ms inference, 1.1ms postprocess per image at shape (1, 3, 416, 640)\n",
            "\n",
            "0: 416x640 1 license_plate, 143.7ms\n",
            "Speed: 6.5ms preprocess, 143.7ms inference, 1.1ms postprocess per image at shape (1, 3, 416, 640)\n",
            "\n",
            "0: 416x640 1 license_plate, 145.1ms\n",
            "Speed: 4.6ms preprocess, 145.1ms inference, 1.1ms postprocess per image at shape (1, 3, 416, 640)\n",
            "\n",
            "0: 416x640 1 license_plate, 150.0ms\n",
            "Speed: 8.9ms preprocess, 150.0ms inference, 1.2ms postprocess per image at shape (1, 3, 416, 640)\n",
            "\n",
            "0: 416x640 1 license_plate, 169.2ms\n",
            "Speed: 3.6ms preprocess, 169.2ms inference, 1.5ms postprocess per image at shape (1, 3, 416, 640)\n",
            "\n",
            "0: 416x640 1 license_plate, 142.8ms\n",
            "Speed: 4.5ms preprocess, 142.8ms inference, 1.3ms postprocess per image at shape (1, 3, 416, 640)\n",
            "\n",
            "0: 416x640 1 license_plate, 146.7ms\n",
            "Speed: 4.7ms preprocess, 146.7ms inference, 1.1ms postprocess per image at shape (1, 3, 416, 640)\n",
            "\n",
            "0: 416x640 1 license_plate, 159.9ms\n",
            "Speed: 4.9ms preprocess, 159.9ms inference, 1.2ms postprocess per image at shape (1, 3, 416, 640)\n",
            "\n",
            "0: 416x640 1 license_plate, 153.9ms\n",
            "Speed: 5.0ms preprocess, 153.9ms inference, 1.4ms postprocess per image at shape (1, 3, 416, 640)\n",
            "\n",
            "0: 416x640 1 license_plate, 239.0ms\n",
            "Speed: 5.2ms preprocess, 239.0ms inference, 1.7ms postprocess per image at shape (1, 3, 416, 640)\n",
            "\n",
            "0: 416x640 1 license_plate, 226.5ms\n",
            "Speed: 4.6ms preprocess, 226.5ms inference, 1.5ms postprocess per image at shape (1, 3, 416, 640)\n",
            "\n",
            "0: 416x640 1 license_plate, 230.6ms\n",
            "Speed: 6.8ms preprocess, 230.6ms inference, 1.5ms postprocess per image at shape (1, 3, 416, 640)\n",
            "\n",
            "0: 416x640 1 license_plate, 238.1ms\n",
            "Speed: 4.6ms preprocess, 238.1ms inference, 1.4ms postprocess per image at shape (1, 3, 416, 640)\n",
            "\n",
            "0: 416x640 1 license_plate, 221.3ms\n",
            "Speed: 4.7ms preprocess, 221.3ms inference, 1.3ms postprocess per image at shape (1, 3, 416, 640)\n",
            "\n",
            "0: 416x640 1 license_plate, 242.3ms\n",
            "Speed: 5.0ms preprocess, 242.3ms inference, 1.9ms postprocess per image at shape (1, 3, 416, 640)\n",
            "\n",
            "0: 416x640 1 license_plate, 260.7ms\n",
            "Speed: 5.7ms preprocess, 260.7ms inference, 2.1ms postprocess per image at shape (1, 3, 416, 640)\n",
            "\n",
            "0: 416x640 1 license_plate, 142.3ms\n",
            "Speed: 5.1ms preprocess, 142.3ms inference, 1.1ms postprocess per image at shape (1, 3, 416, 640)\n",
            "\n",
            "0: 416x640 1 license_plate, 150.9ms\n",
            "Speed: 5.0ms preprocess, 150.9ms inference, 1.2ms postprocess per image at shape (1, 3, 416, 640)\n",
            "\n",
            "0: 416x640 1 license_plate, 149.0ms\n",
            "Speed: 6.8ms preprocess, 149.0ms inference, 1.2ms postprocess per image at shape (1, 3, 416, 640)\n",
            "\n",
            "0: 416x640 1 license_plate, 161.1ms\n",
            "Speed: 4.9ms preprocess, 161.1ms inference, 1.4ms postprocess per image at shape (1, 3, 416, 640)\n",
            "\n",
            "0: 416x640 1 license_plate, 151.9ms\n",
            "Speed: 6.3ms preprocess, 151.9ms inference, 1.3ms postprocess per image at shape (1, 3, 416, 640)\n",
            "\n",
            "0: 416x640 1 license_plate, 153.7ms\n",
            "Speed: 4.8ms preprocess, 153.7ms inference, 1.6ms postprocess per image at shape (1, 3, 416, 640)\n",
            "\n",
            "0: 416x640 1 license_plate, 142.9ms\n",
            "Speed: 3.6ms preprocess, 142.9ms inference, 1.3ms postprocess per image at shape (1, 3, 416, 640)\n",
            "\n",
            "0: 416x640 1 license_plate, 151.0ms\n",
            "Speed: 4.5ms preprocess, 151.0ms inference, 1.4ms postprocess per image at shape (1, 3, 416, 640)\n",
            "\n",
            "0: 416x640 1 license_plate, 159.8ms\n",
            "Speed: 4.7ms preprocess, 159.8ms inference, 1.3ms postprocess per image at shape (1, 3, 416, 640)\n",
            "\n",
            "0: 416x640 1 license_plate, 157.8ms\n",
            "Speed: 3.8ms preprocess, 157.8ms inference, 1.8ms postprocess per image at shape (1, 3, 416, 640)\n",
            "\n",
            "0: 416x640 1 license_plate, 150.7ms\n",
            "Speed: 7.2ms preprocess, 150.7ms inference, 1.2ms postprocess per image at shape (1, 3, 416, 640)\n",
            "\n",
            "0: 416x640 1 license_plate, 140.4ms\n",
            "Speed: 3.4ms preprocess, 140.4ms inference, 1.1ms postprocess per image at shape (1, 3, 416, 640)\n",
            "\n",
            "0: 416x640 1 license_plate, 144.1ms\n",
            "Speed: 4.5ms preprocess, 144.1ms inference, 1.1ms postprocess per image at shape (1, 3, 416, 640)\n",
            "\n",
            "0: 416x640 1 license_plate, 147.5ms\n",
            "Speed: 5.0ms preprocess, 147.5ms inference, 1.7ms postprocess per image at shape (1, 3, 416, 640)\n",
            "\n",
            "0: 416x640 1 license_plate, 147.0ms\n",
            "Speed: 4.5ms preprocess, 147.0ms inference, 1.4ms postprocess per image at shape (1, 3, 416, 640)\n",
            "\n",
            "0: 416x640 1 license_plate, 146.1ms\n",
            "Speed: 4.8ms preprocess, 146.1ms inference, 1.1ms postprocess per image at shape (1, 3, 416, 640)\n",
            "\n",
            "0: 416x640 1 license_plate, 153.2ms\n",
            "Speed: 5.2ms preprocess, 153.2ms inference, 1.1ms postprocess per image at shape (1, 3, 416, 640)\n",
            "\n",
            "0: 416x640 1 license_plate, 144.3ms\n",
            "Speed: 5.8ms preprocess, 144.3ms inference, 1.1ms postprocess per image at shape (1, 3, 416, 640)\n",
            "\n",
            "0: 416x640 1 license_plate, 144.1ms\n",
            "Speed: 4.4ms preprocess, 144.1ms inference, 1.1ms postprocess per image at shape (1, 3, 416, 640)\n",
            "\n",
            "0: 416x640 1 license_plate, 144.3ms\n",
            "Speed: 4.7ms preprocess, 144.3ms inference, 1.5ms postprocess per image at shape (1, 3, 416, 640)\n",
            "\n",
            "0: 416x640 1 license_plate, 151.0ms\n",
            "Speed: 4.6ms preprocess, 151.0ms inference, 1.3ms postprocess per image at shape (1, 3, 416, 640)\n",
            "\n",
            "0: 416x640 1 license_plate, 289.5ms\n",
            "Speed: 5.1ms preprocess, 289.5ms inference, 1.9ms postprocess per image at shape (1, 3, 416, 640)\n",
            "\n",
            "0: 416x640 1 license_plate, 242.6ms\n",
            "Speed: 5.3ms preprocess, 242.6ms inference, 1.5ms postprocess per image at shape (1, 3, 416, 640)\n",
            "\n",
            "0: 416x640 1 license_plate, 238.4ms\n",
            "Speed: 4.6ms preprocess, 238.4ms inference, 1.5ms postprocess per image at shape (1, 3, 416, 640)\n",
            "\n",
            "0: 416x640 1 license_plate, 234.5ms\n",
            "Speed: 4.6ms preprocess, 234.5ms inference, 1.6ms postprocess per image at shape (1, 3, 416, 640)\n",
            "\n",
            "0: 416x640 1 license_plate, 234.6ms\n",
            "Speed: 7.0ms preprocess, 234.6ms inference, 1.6ms postprocess per image at shape (1, 3, 416, 640)\n",
            "\n",
            "0: 416x640 1 license_plate, 155.4ms\n",
            "Speed: 4.7ms preprocess, 155.4ms inference, 1.1ms postprocess per image at shape (1, 3, 416, 640)\n",
            "\n",
            "0: 416x640 1 license_plate, 158.3ms\n",
            "Speed: 5.1ms preprocess, 158.3ms inference, 1.5ms postprocess per image at shape (1, 3, 416, 640)\n",
            "\n",
            "0: 416x640 1 license_plate, 174.9ms\n",
            "Speed: 4.9ms preprocess, 174.9ms inference, 1.3ms postprocess per image at shape (1, 3, 416, 640)\n",
            "\n",
            "0: 416x640 1 license_plate, 145.5ms\n",
            "Speed: 4.6ms preprocess, 145.5ms inference, 1.1ms postprocess per image at shape (1, 3, 416, 640)\n",
            "\n",
            "0: 416x640 1 license_plate, 156.7ms\n",
            "Speed: 4.6ms preprocess, 156.7ms inference, 1.1ms postprocess per image at shape (1, 3, 416, 640)\n",
            "\n",
            "0: 416x640 1 license_plate, 144.2ms\n",
            "Speed: 3.4ms preprocess, 144.2ms inference, 1.1ms postprocess per image at shape (1, 3, 416, 640)\n",
            "\n",
            "0: 416x640 1 license_plate, 147.8ms\n",
            "Speed: 3.9ms preprocess, 147.8ms inference, 1.5ms postprocess per image at shape (1, 3, 416, 640)\n",
            "\n",
            "0: 416x640 1 license_plate, 153.5ms\n",
            "Speed: 4.5ms preprocess, 153.5ms inference, 1.2ms postprocess per image at shape (1, 3, 416, 640)\n",
            "\n",
            "0: 416x640 1 license_plate, 146.4ms\n",
            "Speed: 4.6ms preprocess, 146.4ms inference, 1.1ms postprocess per image at shape (1, 3, 416, 640)\n",
            "\n",
            "0: 416x640 1 license_plate, 149.4ms\n",
            "Speed: 5.0ms preprocess, 149.4ms inference, 1.1ms postprocess per image at shape (1, 3, 416, 640)\n",
            "\n",
            "0: 416x640 1 license_plate, 168.2ms\n",
            "Speed: 4.5ms preprocess, 168.2ms inference, 1.4ms postprocess per image at shape (1, 3, 416, 640)\n",
            "\n",
            "0: 416x640 1 license_plate, 198.6ms\n",
            "Speed: 5.0ms preprocess, 198.6ms inference, 1.3ms postprocess per image at shape (1, 3, 416, 640)\n",
            "\n",
            "0: 416x640 1 license_plate, 180.9ms\n",
            "Speed: 4.7ms preprocess, 180.9ms inference, 1.2ms postprocess per image at shape (1, 3, 416, 640)\n",
            "\n",
            "0: 416x640 1 license_plate, 155.7ms\n",
            "Speed: 3.7ms preprocess, 155.7ms inference, 1.1ms postprocess per image at shape (1, 3, 416, 640)\n",
            "\n",
            "0: 416x640 1 license_plate, 161.6ms\n",
            "Speed: 5.4ms preprocess, 161.6ms inference, 1.3ms postprocess per image at shape (1, 3, 416, 640)\n",
            "\n",
            "0: 416x640 2 license_plates, 153.6ms\n",
            "Speed: 7.9ms preprocess, 153.6ms inference, 1.3ms postprocess per image at shape (1, 3, 416, 640)\n",
            "\n",
            "0: 416x640 1 license_plate, 145.9ms\n",
            "Speed: 5.1ms preprocess, 145.9ms inference, 1.1ms postprocess per image at shape (1, 3, 416, 640)\n",
            "\n",
            "0: 416x640 1 license_plate, 142.7ms\n",
            "Speed: 3.6ms preprocess, 142.7ms inference, 1.1ms postprocess per image at shape (1, 3, 416, 640)\n",
            "\n",
            "0: 416x640 1 license_plate, 164.5ms\n",
            "Speed: 4.0ms preprocess, 164.5ms inference, 1.2ms postprocess per image at shape (1, 3, 416, 640)\n",
            "\n",
            "0: 416x640 1 license_plate, 144.8ms\n",
            "Speed: 3.6ms preprocess, 144.8ms inference, 1.3ms postprocess per image at shape (1, 3, 416, 640)\n",
            "\n",
            "0: 416x640 1 license_plate, 152.4ms\n",
            "Speed: 6.7ms preprocess, 152.4ms inference, 1.2ms postprocess per image at shape (1, 3, 416, 640)\n",
            "\n",
            "0: 416x640 1 license_plate, 143.9ms\n",
            "Speed: 3.5ms preprocess, 143.9ms inference, 1.1ms postprocess per image at shape (1, 3, 416, 640)\n",
            "\n",
            "0: 416x640 1 license_plate, 198.6ms\n",
            "Speed: 5.1ms preprocess, 198.6ms inference, 1.9ms postprocess per image at shape (1, 3, 416, 640)\n",
            "\n",
            "0: 416x640 1 license_plate, 228.7ms\n",
            "Speed: 4.5ms preprocess, 228.7ms inference, 1.4ms postprocess per image at shape (1, 3, 416, 640)\n",
            "\n",
            "0: 416x640 (no detections), 227.1ms\n",
            "Speed: 5.2ms preprocess, 227.1ms inference, 1.0ms postprocess per image at shape (1, 3, 416, 640)\n",
            "\n",
            "0: 416x640 (no detections), 228.8ms\n",
            "Speed: 4.9ms preprocess, 228.8ms inference, 0.9ms postprocess per image at shape (1, 3, 416, 640)\n",
            "\n",
            "0: 416x640 1 license_plate, 257.2ms\n",
            "Speed: 4.6ms preprocess, 257.2ms inference, 1.6ms postprocess per image at shape (1, 3, 416, 640)\n",
            "\n",
            "0: 416x640 (no detections), 244.5ms\n",
            "Speed: 7.3ms preprocess, 244.5ms inference, 1.0ms postprocess per image at shape (1, 3, 416, 640)\n",
            "\n",
            "0: 416x640 1 license_plate, 236.8ms\n",
            "Speed: 7.6ms preprocess, 236.8ms inference, 1.5ms postprocess per image at shape (1, 3, 416, 640)\n",
            "\n",
            "0: 416x640 (no detections), 243.5ms\n",
            "Speed: 5.1ms preprocess, 243.5ms inference, 1.0ms postprocess per image at shape (1, 3, 416, 640)\n",
            "\n",
            "0: 416x640 1 license_plate, 240.5ms\n",
            "Speed: 7.5ms preprocess, 240.5ms inference, 1.5ms postprocess per image at shape (1, 3, 416, 640)\n",
            "\n",
            "0: 416x640 1 license_plate, 230.0ms\n",
            "Speed: 4.7ms preprocess, 230.0ms inference, 1.6ms postprocess per image at shape (1, 3, 416, 640)\n",
            "\n",
            "0: 416x640 (no detections), 144.6ms\n",
            "Speed: 5.0ms preprocess, 144.6ms inference, 0.6ms postprocess per image at shape (1, 3, 416, 640)\n",
            "\n",
            "0: 416x640 1 license_plate, 164.3ms\n",
            "Speed: 5.3ms preprocess, 164.3ms inference, 1.4ms postprocess per image at shape (1, 3, 416, 640)\n",
            "\n",
            "0: 416x640 1 license_plate, 150.6ms\n",
            "Speed: 4.4ms preprocess, 150.6ms inference, 1.5ms postprocess per image at shape (1, 3, 416, 640)\n",
            "\n",
            "0: 416x640 1 license_plate, 181.8ms\n",
            "Speed: 5.0ms preprocess, 181.8ms inference, 1.2ms postprocess per image at shape (1, 3, 416, 640)\n",
            "\n",
            "0: 416x640 (no detections), 159.7ms\n",
            "Speed: 5.4ms preprocess, 159.7ms inference, 0.8ms postprocess per image at shape (1, 3, 416, 640)\n",
            "\n",
            "0: 416x640 (no detections), 158.7ms\n",
            "Speed: 4.9ms preprocess, 158.7ms inference, 0.8ms postprocess per image at shape (1, 3, 416, 640)\n",
            "\n",
            "0: 416x640 1 license_plate, 159.5ms\n",
            "Speed: 7.3ms preprocess, 159.5ms inference, 1.3ms postprocess per image at shape (1, 3, 416, 640)\n",
            "\n",
            "0: 416x640 1 license_plate, 153.1ms\n",
            "Speed: 4.5ms preprocess, 153.1ms inference, 1.2ms postprocess per image at shape (1, 3, 416, 640)\n",
            "\n",
            "0: 416x640 1 license_plate, 159.4ms\n",
            "Speed: 4.7ms preprocess, 159.4ms inference, 1.6ms postprocess per image at shape (1, 3, 416, 640)\n",
            "\n",
            "0: 416x640 1 license_plate, 149.5ms\n",
            "Speed: 3.5ms preprocess, 149.5ms inference, 1.3ms postprocess per image at shape (1, 3, 416, 640)\n",
            "\n",
            "0: 416x640 1 license_plate, 158.2ms\n",
            "Speed: 6.6ms preprocess, 158.2ms inference, 1.3ms postprocess per image at shape (1, 3, 416, 640)\n",
            "\n",
            "0: 416x640 1 license_plate, 148.1ms\n",
            "Speed: 6.2ms preprocess, 148.1ms inference, 1.2ms postprocess per image at shape (1, 3, 416, 640)\n",
            "\n",
            "0: 416x640 1 license_plate, 147.3ms\n",
            "Speed: 3.5ms preprocess, 147.3ms inference, 1.5ms postprocess per image at shape (1, 3, 416, 640)\n",
            "\n",
            "0: 416x640 1 license_plate, 169.4ms\n",
            "Speed: 4.1ms preprocess, 169.4ms inference, 1.2ms postprocess per image at shape (1, 3, 416, 640)\n",
            "\n",
            "0: 416x640 1 license_plate, 151.0ms\n",
            "Speed: 4.6ms preprocess, 151.0ms inference, 1.2ms postprocess per image at shape (1, 3, 416, 640)\n",
            "\n",
            "0: 416x640 1 license_plate, 154.1ms\n",
            "Speed: 4.0ms preprocess, 154.1ms inference, 1.3ms postprocess per image at shape (1, 3, 416, 640)\n",
            "\n",
            "0: 416x640 1 license_plate, 152.5ms\n",
            "Speed: 3.8ms preprocess, 152.5ms inference, 1.4ms postprocess per image at shape (1, 3, 416, 640)\n",
            "\n",
            "0: 416x640 1 license_plate, 148.7ms\n",
            "Speed: 5.0ms preprocess, 148.7ms inference, 1.1ms postprocess per image at shape (1, 3, 416, 640)\n",
            "\n",
            "0: 416x640 1 license_plate, 146.6ms\n",
            "Speed: 5.2ms preprocess, 146.6ms inference, 1.1ms postprocess per image at shape (1, 3, 416, 640)\n",
            "\n",
            "0: 416x640 1 license_plate, 148.0ms\n",
            "Speed: 5.6ms preprocess, 148.0ms inference, 1.1ms postprocess per image at shape (1, 3, 416, 640)\n",
            "\n",
            "0: 416x640 1 license_plate, 144.8ms\n",
            "Speed: 3.2ms preprocess, 144.8ms inference, 1.1ms postprocess per image at shape (1, 3, 416, 640)\n",
            "\n",
            "0: 416x640 1 license_plate, 151.4ms\n",
            "Speed: 4.4ms preprocess, 151.4ms inference, 1.3ms postprocess per image at shape (1, 3, 416, 640)\n",
            "\n",
            "0: 416x640 2 license_plates, 164.0ms\n",
            "Speed: 4.5ms preprocess, 164.0ms inference, 1.1ms postprocess per image at shape (1, 3, 416, 640)\n",
            "\n",
            "0: 416x640 (no detections), 225.8ms\n",
            "Speed: 7.0ms preprocess, 225.8ms inference, 0.9ms postprocess per image at shape (1, 3, 416, 640)\n",
            "\n",
            "0: 416x640 1 license_plate, 226.9ms\n",
            "Speed: 5.7ms preprocess, 226.9ms inference, 1.5ms postprocess per image at shape (1, 3, 416, 640)\n",
            "\n",
            "0: 416x640 1 license_plate, 268.2ms\n",
            "Speed: 4.5ms preprocess, 268.2ms inference, 1.7ms postprocess per image at shape (1, 3, 416, 640)\n",
            "\n",
            "0: 416x640 1 license_plate, 247.0ms\n",
            "Speed: 7.4ms preprocess, 247.0ms inference, 1.6ms postprocess per image at shape (1, 3, 416, 640)\n",
            "\n",
            "0: 416x640 1 license_plate, 249.4ms\n",
            "Speed: 12.8ms preprocess, 249.4ms inference, 1.5ms postprocess per image at shape (1, 3, 416, 640)\n",
            "\n",
            "0: 416x640 1 license_plate, 235.3ms\n",
            "Speed: 7.5ms preprocess, 235.3ms inference, 1.9ms postprocess per image at shape (1, 3, 416, 640)\n",
            "\n",
            "0: 416x640 1 license_plate, 232.1ms\n",
            "Speed: 4.5ms preprocess, 232.1ms inference, 1.5ms postprocess per image at shape (1, 3, 416, 640)\n",
            "\n",
            "0: 416x640 1 license_plate, 149.9ms\n",
            "Speed: 4.1ms preprocess, 149.9ms inference, 1.4ms postprocess per image at shape (1, 3, 416, 640)\n",
            "\n",
            "0: 416x640 1 license_plate, 147.3ms\n",
            "Speed: 4.3ms preprocess, 147.3ms inference, 1.3ms postprocess per image at shape (1, 3, 416, 640)\n",
            "\n",
            "0: 416x640 1 license_plate, 145.4ms\n",
            "Speed: 3.2ms preprocess, 145.4ms inference, 1.1ms postprocess per image at shape (1, 3, 416, 640)\n",
            "\n",
            "0: 416x640 2 license_plates, 158.1ms\n",
            "Speed: 4.5ms preprocess, 158.1ms inference, 1.2ms postprocess per image at shape (1, 3, 416, 640)\n",
            "\n",
            "0: 416x640 1 license_plate, 152.1ms\n",
            "Speed: 6.7ms preprocess, 152.1ms inference, 1.5ms postprocess per image at shape (1, 3, 416, 640)\n",
            "\n",
            "0: 416x640 1 license_plate, 147.4ms\n",
            "Speed: 4.7ms preprocess, 147.4ms inference, 1.2ms postprocess per image at shape (1, 3, 416, 640)\n",
            "\n",
            "0: 416x640 1 license_plate, 152.3ms\n",
            "Speed: 4.1ms preprocess, 152.3ms inference, 1.2ms postprocess per image at shape (1, 3, 416, 640)\n",
            "\n",
            "0: 416x640 1 license_plate, 146.5ms\n",
            "Speed: 4.2ms preprocess, 146.5ms inference, 1.2ms postprocess per image at shape (1, 3, 416, 640)\n",
            "\n",
            "0: 416x640 1 license_plate, 142.1ms\n",
            "Speed: 4.5ms preprocess, 142.1ms inference, 1.1ms postprocess per image at shape (1, 3, 416, 640)\n",
            "\n",
            "0: 416x640 1 license_plate, 145.8ms\n",
            "Speed: 5.3ms preprocess, 145.8ms inference, 1.3ms postprocess per image at shape (1, 3, 416, 640)\n",
            "\n",
            "0: 416x640 1 license_plate, 143.6ms\n",
            "Speed: 4.7ms preprocess, 143.6ms inference, 1.1ms postprocess per image at shape (1, 3, 416, 640)\n",
            "\n",
            "0: 416x640 2 license_plates, 153.0ms\n",
            "Speed: 4.6ms preprocess, 153.0ms inference, 1.1ms postprocess per image at shape (1, 3, 416, 640)\n",
            "\n",
            "0: 416x640 1 license_plate, 180.9ms\n",
            "Speed: 4.1ms preprocess, 180.9ms inference, 1.1ms postprocess per image at shape (1, 3, 416, 640)\n",
            "\n",
            "0: 416x640 1 license_plate, 156.4ms\n",
            "Speed: 3.2ms preprocess, 156.4ms inference, 1.2ms postprocess per image at shape (1, 3, 416, 640)\n",
            "\n",
            "0: 416x640 2 license_plates, 171.8ms\n",
            "Speed: 4.7ms preprocess, 171.8ms inference, 1.8ms postprocess per image at shape (1, 3, 416, 640)\n",
            "\n",
            "0: 416x640 1 license_plate, 155.7ms\n",
            "Speed: 5.1ms preprocess, 155.7ms inference, 1.3ms postprocess per image at shape (1, 3, 416, 640)\n",
            "\n",
            "0: 416x640 (no detections), 149.8ms\n",
            "Speed: 5.9ms preprocess, 149.8ms inference, 0.8ms postprocess per image at shape (1, 3, 416, 640)\n",
            "\n",
            "0: 416x640 (no detections), 147.8ms\n",
            "Speed: 4.6ms preprocess, 147.8ms inference, 0.7ms postprocess per image at shape (1, 3, 416, 640)\n",
            "\n",
            "0: 416x640 1 license_plate, 152.8ms\n",
            "Speed: 4.6ms preprocess, 152.8ms inference, 1.5ms postprocess per image at shape (1, 3, 416, 640)\n",
            "\n",
            "0: 416x640 1 license_plate, 246.9ms\n",
            "Speed: 5.0ms preprocess, 246.9ms inference, 1.6ms postprocess per image at shape (1, 3, 416, 640)\n",
            "\n",
            "0: 416x640 1 license_plate, 236.6ms\n",
            "Speed: 5.0ms preprocess, 236.6ms inference, 1.8ms postprocess per image at shape (1, 3, 416, 640)\n",
            "\n",
            "0: 416x640 1 license_plate, 267.8ms\n",
            "Speed: 6.9ms preprocess, 267.8ms inference, 1.6ms postprocess per image at shape (1, 3, 416, 640)\n",
            "\n",
            "0: 416x640 2 license_plates, 239.6ms\n",
            "Speed: 4.9ms preprocess, 239.6ms inference, 1.6ms postprocess per image at shape (1, 3, 416, 640)\n",
            "\n",
            "0: 416x640 1 license_plate, 247.3ms\n",
            "Speed: 6.6ms preprocess, 247.3ms inference, 1.9ms postprocess per image at shape (1, 3, 416, 640)\n",
            "\n",
            "0: 416x640 1 license_plate, 167.7ms\n",
            "Speed: 11.4ms preprocess, 167.7ms inference, 1.9ms postprocess per image at shape (1, 3, 416, 640)\n",
            "\n",
            "0: 416x640 1 license_plate, 165.3ms\n",
            "Speed: 4.6ms preprocess, 165.3ms inference, 1.7ms postprocess per image at shape (1, 3, 416, 640)\n",
            "\n",
            "0: 416x640 1 license_plate, 150.3ms\n",
            "Speed: 4.4ms preprocess, 150.3ms inference, 1.2ms postprocess per image at shape (1, 3, 416, 640)\n",
            "\n",
            "0: 416x640 1 license_plate, 141.9ms\n",
            "Speed: 4.4ms preprocess, 141.9ms inference, 1.0ms postprocess per image at shape (1, 3, 416, 640)\n",
            "\n",
            "0: 416x640 1 license_plate, 143.9ms\n",
            "Speed: 4.6ms preprocess, 143.9ms inference, 1.1ms postprocess per image at shape (1, 3, 416, 640)\n",
            "\n",
            "0: 416x640 1 license_plate, 142.2ms\n",
            "Speed: 5.7ms preprocess, 142.2ms inference, 1.1ms postprocess per image at shape (1, 3, 416, 640)\n",
            "\n",
            "0: 416x640 1 license_plate, 147.8ms\n",
            "Speed: 4.5ms preprocess, 147.8ms inference, 1.1ms postprocess per image at shape (1, 3, 416, 640)\n",
            "\n",
            "0: 416x640 1 license_plate, 151.0ms\n",
            "Speed: 3.6ms preprocess, 151.0ms inference, 1.2ms postprocess per image at shape (1, 3, 416, 640)\n",
            "\n",
            "0: 416x640 1 license_plate, 152.4ms\n",
            "Speed: 4.0ms preprocess, 152.4ms inference, 1.3ms postprocess per image at shape (1, 3, 416, 640)\n",
            "\n",
            "0: 416x640 1 license_plate, 148.3ms\n",
            "Speed: 6.3ms preprocess, 148.3ms inference, 1.4ms postprocess per image at shape (1, 3, 416, 640)\n",
            "\n",
            "0: 416x640 1 license_plate, 146.0ms\n",
            "Speed: 4.7ms preprocess, 146.0ms inference, 1.4ms postprocess per image at shape (1, 3, 416, 640)\n",
            "\n",
            "0: 416x640 1 license_plate, 141.6ms\n",
            "Speed: 4.6ms preprocess, 141.6ms inference, 1.1ms postprocess per image at shape (1, 3, 416, 640)\n",
            "\n",
            "0: 416x640 1 license_plate, 142.9ms\n",
            "Speed: 3.2ms preprocess, 142.9ms inference, 1.1ms postprocess per image at shape (1, 3, 416, 640)\n",
            "\n",
            "0: 416x640 1 license_plate, 148.5ms\n",
            "Speed: 5.0ms preprocess, 148.5ms inference, 1.6ms postprocess per image at shape (1, 3, 416, 640)\n",
            "\n",
            "0: 416x640 1 license_plate, 146.4ms\n",
            "Speed: 5.5ms preprocess, 146.4ms inference, 1.1ms postprocess per image at shape (1, 3, 416, 640)\n",
            "\n",
            "0: 416x640 1 license_plate, 149.5ms\n",
            "Speed: 4.9ms preprocess, 149.5ms inference, 1.2ms postprocess per image at shape (1, 3, 416, 640)\n",
            "\n",
            "0: 416x640 1 license_plate, 162.7ms\n",
            "Speed: 5.0ms preprocess, 162.7ms inference, 1.3ms postprocess per image at shape (1, 3, 416, 640)\n",
            "\n",
            "0: 416x640 1 license_plate, 150.0ms\n",
            "Speed: 7.6ms preprocess, 150.0ms inference, 1.2ms postprocess per image at shape (1, 3, 416, 640)\n",
            "\n",
            "0: 416x640 1 license_plate, 162.9ms\n",
            "Speed: 4.4ms preprocess, 162.9ms inference, 1.1ms postprocess per image at shape (1, 3, 416, 640)\n",
            "\n",
            "0: 416x640 1 license_plate, 146.1ms\n",
            "Speed: 3.8ms preprocess, 146.1ms inference, 1.2ms postprocess per image at shape (1, 3, 416, 640)\n",
            "\n",
            "0: 416x640 1 license_plate, 249.8ms\n",
            "Speed: 4.7ms preprocess, 249.8ms inference, 1.4ms postprocess per image at shape (1, 3, 416, 640)\n",
            "\n",
            "0: 416x640 1 license_plate, 233.4ms\n",
            "Speed: 4.5ms preprocess, 233.4ms inference, 1.6ms postprocess per image at shape (1, 3, 416, 640)\n",
            "\n",
            "0: 416x640 1 license_plate, 244.9ms\n",
            "Speed: 5.2ms preprocess, 244.9ms inference, 1.7ms postprocess per image at shape (1, 3, 416, 640)\n",
            "\n",
            "0: 416x640 1 license_plate, 254.1ms\n",
            "Speed: 7.6ms preprocess, 254.1ms inference, 1.6ms postprocess per image at shape (1, 3, 416, 640)\n",
            "\n",
            "0: 416x640 1 license_plate, 245.4ms\n",
            "Speed: 4.6ms preprocess, 245.4ms inference, 1.6ms postprocess per image at shape (1, 3, 416, 640)\n",
            "\n",
            "0: 416x640 1 license_plate, 247.4ms\n",
            "Speed: 5.3ms preprocess, 247.4ms inference, 1.9ms postprocess per image at shape (1, 3, 416, 640)\n",
            "\n",
            "0: 416x640 (no detections), 156.8ms\n",
            "Speed: 4.5ms preprocess, 156.8ms inference, 0.8ms postprocess per image at shape (1, 3, 416, 640)\n",
            "\n",
            "0: 416x640 1 license_plate, 154.9ms\n",
            "Speed: 5.3ms preprocess, 154.9ms inference, 1.2ms postprocess per image at shape (1, 3, 416, 640)\n",
            "\n",
            "0: 416x640 1 license_plate, 160.8ms\n",
            "Speed: 6.9ms preprocess, 160.8ms inference, 1.3ms postprocess per image at shape (1, 3, 416, 640)\n",
            "\n",
            "0: 416x640 1 license_plate, 163.7ms\n",
            "Speed: 4.9ms preprocess, 163.7ms inference, 1.3ms postprocess per image at shape (1, 3, 416, 640)\n",
            "\n",
            "0: 416x640 1 license_plate, 151.4ms\n",
            "Speed: 6.1ms preprocess, 151.4ms inference, 1.2ms postprocess per image at shape (1, 3, 416, 640)\n",
            "\n",
            "0: 416x640 (no detections), 159.4ms\n",
            "Speed: 5.2ms preprocess, 159.4ms inference, 0.7ms postprocess per image at shape (1, 3, 416, 640)\n",
            "\n",
            "0: 416x640 (no detections), 151.5ms\n",
            "Speed: 5.2ms preprocess, 151.5ms inference, 0.8ms postprocess per image at shape (1, 3, 416, 640)\n",
            "\n",
            "0: 416x640 (no detections), 157.3ms\n",
            "Speed: 7.9ms preprocess, 157.3ms inference, 0.8ms postprocess per image at shape (1, 3, 416, 640)\n",
            "\n",
            "0: 416x640 1 license_plate, 158.3ms\n",
            "Speed: 5.6ms preprocess, 158.3ms inference, 1.2ms postprocess per image at shape (1, 3, 416, 640)\n",
            "\n",
            "0: 416x640 (no detections), 154.6ms\n",
            "Speed: 5.3ms preprocess, 154.6ms inference, 0.8ms postprocess per image at shape (1, 3, 416, 640)\n",
            "\n",
            "0: 416x640 (no detections), 155.0ms\n",
            "Speed: 7.2ms preprocess, 155.0ms inference, 0.8ms postprocess per image at shape (1, 3, 416, 640)\n",
            "\n",
            "0: 416x640 (no detections), 160.4ms\n",
            "Speed: 4.0ms preprocess, 160.4ms inference, 0.8ms postprocess per image at shape (1, 3, 416, 640)\n",
            "\n",
            "0: 416x640 (no detections), 153.3ms\n",
            "Speed: 5.0ms preprocess, 153.3ms inference, 0.8ms postprocess per image at shape (1, 3, 416, 640)\n",
            "\n",
            "0: 416x640 1 license_plate, 161.4ms\n",
            "Speed: 5.0ms preprocess, 161.4ms inference, 1.7ms postprocess per image at shape (1, 3, 416, 640)\n",
            "\n",
            "0: 416x640 1 license_plate, 153.2ms\n",
            "Speed: 3.6ms preprocess, 153.2ms inference, 1.2ms postprocess per image at shape (1, 3, 416, 640)\n",
            "\n",
            "0: 416x640 1 license_plate, 159.7ms\n",
            "Speed: 6.0ms preprocess, 159.7ms inference, 1.2ms postprocess per image at shape (1, 3, 416, 640)\n",
            "\n",
            "0: 416x640 1 license_plate, 157.1ms\n",
            "Speed: 4.7ms preprocess, 157.1ms inference, 1.4ms postprocess per image at shape (1, 3, 416, 640)\n",
            "\n",
            "0: 416x640 1 license_plate, 157.5ms\n",
            "Speed: 4.7ms preprocess, 157.5ms inference, 1.2ms postprocess per image at shape (1, 3, 416, 640)\n",
            "\n",
            "0: 416x640 1 license_plate, 161.5ms\n",
            "Speed: 6.5ms preprocess, 161.5ms inference, 1.8ms postprocess per image at shape (1, 3, 416, 640)\n",
            "\n",
            "0: 416x640 1 license_plate, 149.1ms\n",
            "Speed: 4.5ms preprocess, 149.1ms inference, 1.1ms postprocess per image at shape (1, 3, 416, 640)\n",
            "\n",
            "0: 416x640 1 license_plate, 144.1ms\n",
            "Speed: 4.6ms preprocess, 144.1ms inference, 1.1ms postprocess per image at shape (1, 3, 416, 640)\n",
            "\n",
            "0: 416x640 1 license_plate, 174.7ms\n",
            "Speed: 4.8ms preprocess, 174.7ms inference, 1.1ms postprocess per image at shape (1, 3, 416, 640)\n",
            "\n",
            "0: 416x640 1 license_plate, 145.6ms\n",
            "Speed: 4.5ms preprocess, 145.6ms inference, 1.1ms postprocess per image at shape (1, 3, 416, 640)\n",
            "\n",
            "0: 416x640 1 license_plate, 172.3ms\n",
            "Speed: 5.9ms preprocess, 172.3ms inference, 1.1ms postprocess per image at shape (1, 3, 416, 640)\n",
            "\n",
            "0: 416x640 1 license_plate, 142.3ms\n",
            "Speed: 4.5ms preprocess, 142.3ms inference, 1.1ms postprocess per image at shape (1, 3, 416, 640)\n",
            "\n",
            "0: 416x640 1 license_plate, 166.4ms\n",
            "Speed: 4.7ms preprocess, 166.4ms inference, 1.7ms postprocess per image at shape (1, 3, 416, 640)\n",
            "\n",
            "0: 416x640 1 license_plate, 257.9ms\n",
            "Speed: 5.0ms preprocess, 257.9ms inference, 1.8ms postprocess per image at shape (1, 3, 416, 640)\n",
            "\n",
            "0: 416x640 1 license_plate, 238.2ms\n",
            "Speed: 5.4ms preprocess, 238.2ms inference, 1.7ms postprocess per image at shape (1, 3, 416, 640)\n",
            "\n",
            "0: 416x640 1 license_plate, 235.4ms\n",
            "Speed: 8.1ms preprocess, 235.4ms inference, 1.9ms postprocess per image at shape (1, 3, 416, 640)\n",
            "\n",
            "0: 416x640 (no detections), 223.3ms\n",
            "Speed: 4.9ms preprocess, 223.3ms inference, 1.2ms postprocess per image at shape (1, 3, 416, 640)\n",
            "\n",
            "0: 416x640 (no detections), 257.2ms\n",
            "Speed: 12.5ms preprocess, 257.2ms inference, 1.6ms postprocess per image at shape (1, 3, 416, 640)\n",
            "\n",
            "0: 416x640 (no detections), 259.6ms\n",
            "Speed: 7.1ms preprocess, 259.6ms inference, 1.1ms postprocess per image at shape (1, 3, 416, 640)\n",
            "\n",
            "0: 416x640 (no detections), 243.1ms\n",
            "Speed: 8.2ms preprocess, 243.1ms inference, 1.1ms postprocess per image at shape (1, 3, 416, 640)\n",
            "\n",
            "0: 416x640 (no detections), 239.9ms\n",
            "Speed: 5.6ms preprocess, 239.9ms inference, 1.4ms postprocess per image at shape (1, 3, 416, 640)\n",
            "\n",
            "0: 416x640 (no detections), 224.8ms\n",
            "Speed: 5.4ms preprocess, 224.8ms inference, 1.1ms postprocess per image at shape (1, 3, 416, 640)\n",
            "\n",
            "0: 416x640 (no detections), 146.8ms\n",
            "Speed: 4.9ms preprocess, 146.8ms inference, 0.9ms postprocess per image at shape (1, 3, 416, 640)\n",
            "\n",
            "0: 416x640 (no detections), 147.2ms\n",
            "Speed: 4.7ms preprocess, 147.2ms inference, 1.0ms postprocess per image at shape (1, 3, 416, 640)\n",
            "\n",
            "0: 416x640 (no detections), 150.0ms\n",
            "Speed: 4.7ms preprocess, 150.0ms inference, 0.7ms postprocess per image at shape (1, 3, 416, 640)\n",
            "\n",
            "0: 416x640 (no detections), 144.1ms\n",
            "Speed: 6.0ms preprocess, 144.1ms inference, 0.7ms postprocess per image at shape (1, 3, 416, 640)\n",
            "\n",
            "0: 416x640 (no detections), 148.4ms\n",
            "Speed: 5.2ms preprocess, 148.4ms inference, 0.7ms postprocess per image at shape (1, 3, 416, 640)\n",
            "\n",
            "0: 416x640 (no detections), 173.2ms\n",
            "Speed: 5.3ms preprocess, 173.2ms inference, 0.7ms postprocess per image at shape (1, 3, 416, 640)\n",
            "\n",
            "0: 416x640 (no detections), 146.3ms\n",
            "Speed: 4.5ms preprocess, 146.3ms inference, 0.7ms postprocess per image at shape (1, 3, 416, 640)\n",
            "\n",
            "0: 416x640 (no detections), 146.9ms\n",
            "Speed: 4.8ms preprocess, 146.9ms inference, 0.7ms postprocess per image at shape (1, 3, 416, 640)\n",
            "\n",
            "0: 416x640 (no detections), 143.0ms\n",
            "Speed: 4.5ms preprocess, 143.0ms inference, 0.7ms postprocess per image at shape (1, 3, 416, 640)\n",
            "\n",
            "0: 416x640 (no detections), 148.4ms\n",
            "Speed: 4.2ms preprocess, 148.4ms inference, 0.9ms postprocess per image at shape (1, 3, 416, 640)\n",
            "\n",
            "0: 416x640 (no detections), 144.8ms\n",
            "Speed: 4.9ms preprocess, 144.8ms inference, 0.7ms postprocess per image at shape (1, 3, 416, 640)\n",
            "\n",
            "0: 416x640 (no detections), 162.1ms\n",
            "Speed: 4.6ms preprocess, 162.1ms inference, 0.7ms postprocess per image at shape (1, 3, 416, 640)\n",
            "\n",
            "0: 416x640 (no detections), 141.2ms\n",
            "Speed: 6.3ms preprocess, 141.2ms inference, 0.8ms postprocess per image at shape (1, 3, 416, 640)\n",
            "\n",
            "0: 416x640 (no detections), 146.9ms\n",
            "Speed: 4.8ms preprocess, 146.9ms inference, 0.7ms postprocess per image at shape (1, 3, 416, 640)\n",
            "\n",
            "0: 416x640 (no detections), 145.8ms\n",
            "Speed: 6.1ms preprocess, 145.8ms inference, 0.7ms postprocess per image at shape (1, 3, 416, 640)\n",
            "\n",
            "0: 416x640 (no detections), 160.3ms\n",
            "Speed: 4.8ms preprocess, 160.3ms inference, 0.8ms postprocess per image at shape (1, 3, 416, 640)\n",
            "\n",
            "0: 416x640 (no detections), 163.1ms\n",
            "Speed: 5.8ms preprocess, 163.1ms inference, 0.8ms postprocess per image at shape (1, 3, 416, 640)\n",
            "\n",
            "0: 416x640 (no detections), 173.2ms\n",
            "Speed: 5.7ms preprocess, 173.2ms inference, 0.8ms postprocess per image at shape (1, 3, 416, 640)\n",
            "\n",
            "0: 416x640 (no detections), 165.7ms\n",
            "Speed: 5.0ms preprocess, 165.7ms inference, 0.9ms postprocess per image at shape (1, 3, 416, 640)\n",
            "\n",
            "0: 416x640 (no detections), 162.0ms\n",
            "Speed: 5.2ms preprocess, 162.0ms inference, 0.8ms postprocess per image at shape (1, 3, 416, 640)\n",
            "\n",
            "0: 416x640 (no detections), 167.6ms\n",
            "Speed: 4.9ms preprocess, 167.6ms inference, 1.1ms postprocess per image at shape (1, 3, 416, 640)\n",
            "\n",
            "0: 416x640 (no detections), 145.2ms\n",
            "Speed: 4.1ms preprocess, 145.2ms inference, 0.6ms postprocess per image at shape (1, 3, 416, 640)\n",
            "\n",
            "0: 416x640 (no detections), 153.2ms\n",
            "Speed: 4.8ms preprocess, 153.2ms inference, 0.7ms postprocess per image at shape (1, 3, 416, 640)\n",
            "\n",
            "0: 416x640 (no detections), 177.4ms\n",
            "Speed: 6.5ms preprocess, 177.4ms inference, 0.7ms postprocess per image at shape (1, 3, 416, 640)\n",
            "\n",
            "0: 416x640 (no detections), 142.5ms\n",
            "Speed: 4.9ms preprocess, 142.5ms inference, 0.7ms postprocess per image at shape (1, 3, 416, 640)\n",
            "\n",
            "0: 416x640 (no detections), 152.7ms\n",
            "Speed: 3.7ms preprocess, 152.7ms inference, 0.7ms postprocess per image at shape (1, 3, 416, 640)\n",
            "\n",
            "0: 416x640 (no detections), 164.8ms\n",
            "Speed: 6.0ms preprocess, 164.8ms inference, 0.8ms postprocess per image at shape (1, 3, 416, 640)\n",
            "\n",
            "0: 416x640 (no detections), 156.7ms\n",
            "Speed: 6.5ms preprocess, 156.7ms inference, 0.8ms postprocess per image at shape (1, 3, 416, 640)\n",
            "\n",
            "0: 416x640 (no detections), 175.7ms\n",
            "Speed: 4.9ms preprocess, 175.7ms inference, 0.8ms postprocess per image at shape (1, 3, 416, 640)\n",
            "\n",
            "0: 416x640 (no detections), 155.7ms\n",
            "Speed: 5.3ms preprocess, 155.7ms inference, 0.8ms postprocess per image at shape (1, 3, 416, 640)\n",
            "\n",
            "0: 416x640 (no detections), 159.5ms\n",
            "Speed: 5.2ms preprocess, 159.5ms inference, 0.7ms postprocess per image at shape (1, 3, 416, 640)\n",
            "\n",
            "0: 416x640 (no detections), 158.5ms\n",
            "Speed: 5.1ms preprocess, 158.5ms inference, 1.0ms postprocess per image at shape (1, 3, 416, 640)\n",
            "\n",
            "0: 416x640 (no detections), 161.4ms\n",
            "Speed: 4.8ms preprocess, 161.4ms inference, 0.8ms postprocess per image at shape (1, 3, 416, 640)\n",
            "\n",
            "0: 416x640 (no detections), 157.7ms\n",
            "Speed: 5.4ms preprocess, 157.7ms inference, 0.8ms postprocess per image at shape (1, 3, 416, 640)\n",
            "\n",
            "0: 416x640 (no detections), 179.0ms\n",
            "Speed: 5.7ms preprocess, 179.0ms inference, 0.8ms postprocess per image at shape (1, 3, 416, 640)\n",
            "\n",
            "0: 416x640 (no detections), 161.6ms\n",
            "Speed: 5.0ms preprocess, 161.6ms inference, 0.8ms postprocess per image at shape (1, 3, 416, 640)\n",
            "\n",
            "0: 416x640 (no detections), 152.7ms\n",
            "Speed: 5.6ms preprocess, 152.7ms inference, 0.8ms postprocess per image at shape (1, 3, 416, 640)\n",
            "\n",
            "0: 416x640 (no detections), 154.8ms\n",
            "Speed: 5.7ms preprocess, 154.8ms inference, 0.8ms postprocess per image at shape (1, 3, 416, 640)\n",
            "\n",
            "0: 416x640 1 license_plate, 159.2ms\n",
            "Speed: 6.0ms preprocess, 159.2ms inference, 1.2ms postprocess per image at shape (1, 3, 416, 640)\n",
            "\n",
            "0: 416x640 1 license_plate, 153.0ms\n",
            "Speed: 5.0ms preprocess, 153.0ms inference, 1.3ms postprocess per image at shape (1, 3, 416, 640)\n",
            "\n",
            "0: 416x640 1 license_plate, 156.1ms\n",
            "Speed: 4.8ms preprocess, 156.1ms inference, 1.2ms postprocess per image at shape (1, 3, 416, 640)\n",
            "\n",
            "0: 416x640 1 license_plate, 171.9ms\n",
            "Speed: 4.9ms preprocess, 171.9ms inference, 1.2ms postprocess per image at shape (1, 3, 416, 640)\n",
            "\n",
            "0: 416x640 2 license_plates, 149.5ms\n",
            "Speed: 4.3ms preprocess, 149.5ms inference, 1.2ms postprocess per image at shape (1, 3, 416, 640)\n",
            "\n",
            "0: 416x640 1 license_plate, 148.1ms\n",
            "Speed: 5.0ms preprocess, 148.1ms inference, 1.2ms postprocess per image at shape (1, 3, 416, 640)\n",
            "\n",
            "0: 416x640 1 license_plate, 144.4ms\n",
            "Speed: 3.6ms preprocess, 144.4ms inference, 1.1ms postprocess per image at shape (1, 3, 416, 640)\n",
            "\n",
            "0: 416x640 2 license_plates, 234.0ms\n",
            "Speed: 9.0ms preprocess, 234.0ms inference, 1.5ms postprocess per image at shape (1, 3, 416, 640)\n",
            "\n",
            "0: 416x640 2 license_plates, 234.7ms\n",
            "Speed: 6.0ms preprocess, 234.7ms inference, 1.5ms postprocess per image at shape (1, 3, 416, 640)\n",
            "\n",
            "0: 416x640 2 license_plates, 235.1ms\n",
            "Speed: 4.8ms preprocess, 235.1ms inference, 1.6ms postprocess per image at shape (1, 3, 416, 640)\n",
            "\n",
            "0: 416x640 2 license_plates, 265.7ms\n",
            "Speed: 8.2ms preprocess, 265.7ms inference, 1.9ms postprocess per image at shape (1, 3, 416, 640)\n",
            "\n",
            "0: 416x640 2 license_plates, 188.2ms\n",
            "Speed: 7.5ms preprocess, 188.2ms inference, 1.3ms postprocess per image at shape (1, 3, 416, 640)\n",
            "\n",
            "0: 416x640 2 license_plates, 148.0ms\n",
            "Speed: 6.7ms preprocess, 148.0ms inference, 1.1ms postprocess per image at shape (1, 3, 416, 640)\n",
            "\n",
            "0: 416x640 2 license_plates, 156.1ms\n",
            "Speed: 5.1ms preprocess, 156.1ms inference, 1.2ms postprocess per image at shape (1, 3, 416, 640)\n",
            "\n",
            "0: 416x640 2 license_plates, 150.4ms\n",
            "Speed: 6.3ms preprocess, 150.4ms inference, 1.3ms postprocess per image at shape (1, 3, 416, 640)\n",
            "\n",
            "0: 416x640 2 license_plates, 175.9ms\n",
            "Speed: 5.7ms preprocess, 175.9ms inference, 1.3ms postprocess per image at shape (1, 3, 416, 640)\n",
            "\n",
            "0: 416x640 2 license_plates, 143.0ms\n",
            "Speed: 5.1ms preprocess, 143.0ms inference, 1.1ms postprocess per image at shape (1, 3, 416, 640)\n",
            "\n",
            "0: 416x640 2 license_plates, 148.1ms\n",
            "Speed: 4.4ms preprocess, 148.1ms inference, 1.1ms postprocess per image at shape (1, 3, 416, 640)\n",
            "\n",
            "0: 416x640 2 license_plates, 155.8ms\n",
            "Speed: 5.1ms preprocess, 155.8ms inference, 1.2ms postprocess per image at shape (1, 3, 416, 640)\n",
            "\n",
            "0: 416x640 2 license_plates, 148.3ms\n",
            "Speed: 4.5ms preprocess, 148.3ms inference, 1.4ms postprocess per image at shape (1, 3, 416, 640)\n",
            "\n",
            "0: 416x640 2 license_plates, 146.1ms\n",
            "Speed: 4.0ms preprocess, 146.1ms inference, 1.1ms postprocess per image at shape (1, 3, 416, 640)\n",
            "\n",
            "0: 416x640 2 license_plates, 152.4ms\n",
            "Speed: 4.4ms preprocess, 152.4ms inference, 1.2ms postprocess per image at shape (1, 3, 416, 640)\n",
            "\n",
            "0: 416x640 2 license_plates, 159.3ms\n",
            "Speed: 6.8ms preprocess, 159.3ms inference, 1.3ms postprocess per image at shape (1, 3, 416, 640)\n",
            "\n",
            "0: 416x640 2 license_plates, 175.4ms\n",
            "Speed: 4.9ms preprocess, 175.4ms inference, 1.2ms postprocess per image at shape (1, 3, 416, 640)\n",
            "\n",
            "0: 416x640 1 license_plate, 240.7ms\n",
            "Speed: 5.1ms preprocess, 240.7ms inference, 4.7ms postprocess per image at shape (1, 3, 416, 640)\n",
            "\n",
            "0: 416x640 1 license_plate, 232.3ms\n",
            "Speed: 5.3ms preprocess, 232.3ms inference, 1.5ms postprocess per image at shape (1, 3, 416, 640)\n",
            "\n",
            "0: 416x640 1 license_plate, 265.8ms\n",
            "Speed: 5.1ms preprocess, 265.8ms inference, 1.6ms postprocess per image at shape (1, 3, 416, 640)\n",
            "\n",
            "0: 416x640 1 license_plate, 235.1ms\n",
            "Speed: 5.1ms preprocess, 235.1ms inference, 1.6ms postprocess per image at shape (1, 3, 416, 640)\n",
            "\n",
            "0: 416x640 1 license_plate, 232.3ms\n",
            "Speed: 6.8ms preprocess, 232.3ms inference, 1.5ms postprocess per image at shape (1, 3, 416, 640)\n",
            "\n",
            "0: 416x640 1 license_plate, 248.1ms\n",
            "Speed: 6.1ms preprocess, 248.1ms inference, 1.8ms postprocess per image at shape (1, 3, 416, 640)\n",
            "\n",
            "0: 416x640 1 license_plate, 242.3ms\n",
            "Speed: 4.8ms preprocess, 242.3ms inference, 1.7ms postprocess per image at shape (1, 3, 416, 640)\n",
            "\n",
            "0: 416x640 1 license_plate, 150.9ms\n",
            "Speed: 5.0ms preprocess, 150.9ms inference, 1.5ms postprocess per image at shape (1, 3, 416, 640)\n",
            "\n",
            "0: 416x640 1 license_plate, 154.2ms\n",
            "Speed: 4.9ms preprocess, 154.2ms inference, 1.1ms postprocess per image at shape (1, 3, 416, 640)\n",
            "\n",
            "0: 416x640 1 license_plate, 150.3ms\n",
            "Speed: 6.3ms preprocess, 150.3ms inference, 1.4ms postprocess per image at shape (1, 3, 416, 640)\n",
            "\n",
            "0: 416x640 1 license_plate, 161.3ms\n",
            "Speed: 5.4ms preprocess, 161.3ms inference, 1.3ms postprocess per image at shape (1, 3, 416, 640)\n",
            "\n",
            "0: 416x640 1 license_plate, 156.9ms\n",
            "Speed: 4.7ms preprocess, 156.9ms inference, 1.2ms postprocess per image at shape (1, 3, 416, 640)\n",
            "\n",
            "0: 416x640 1 license_plate, 160.6ms\n",
            "Speed: 5.0ms preprocess, 160.6ms inference, 1.5ms postprocess per image at shape (1, 3, 416, 640)\n",
            "\n",
            "0: 416x640 1 license_plate, 168.8ms\n",
            "Speed: 4.6ms preprocess, 168.8ms inference, 1.1ms postprocess per image at shape (1, 3, 416, 640)\n",
            "\n",
            "0: 416x640 1 license_plate, 139.0ms\n",
            "Speed: 3.7ms preprocess, 139.0ms inference, 1.1ms postprocess per image at shape (1, 3, 416, 640)\n",
            "\n",
            "0: 416x640 1 license_plate, 159.4ms\n",
            "Speed: 6.4ms preprocess, 159.4ms inference, 1.3ms postprocess per image at shape (1, 3, 416, 640)\n",
            "\n",
            "0: 416x640 1 license_plate, 153.7ms\n",
            "Speed: 4.7ms preprocess, 153.7ms inference, 1.2ms postprocess per image at shape (1, 3, 416, 640)\n",
            "\n",
            "0: 416x640 1 license_plate, 162.1ms\n",
            "Speed: 5.3ms preprocess, 162.1ms inference, 1.3ms postprocess per image at shape (1, 3, 416, 640)\n",
            "\n",
            "0: 416x640 1 license_plate, 179.5ms\n",
            "Speed: 5.2ms preprocess, 179.5ms inference, 1.4ms postprocess per image at shape (1, 3, 416, 640)\n",
            "\n",
            "0: 416x640 1 license_plate, 161.4ms\n",
            "Speed: 4.9ms preprocess, 161.4ms inference, 1.4ms postprocess per image at shape (1, 3, 416, 640)\n",
            "\n",
            "0: 416x640 1 license_plate, 160.5ms\n",
            "Speed: 4.3ms preprocess, 160.5ms inference, 1.1ms postprocess per image at shape (1, 3, 416, 640)\n",
            "\n",
            "0: 416x640 1 license_plate, 159.7ms\n",
            "Speed: 3.7ms preprocess, 159.7ms inference, 1.1ms postprocess per image at shape (1, 3, 416, 640)\n",
            "\n",
            "0: 416x640 1 license_plate, 153.3ms\n",
            "Speed: 3.3ms preprocess, 153.3ms inference, 1.3ms postprocess per image at shape (1, 3, 416, 640)\n",
            "\n",
            "0: 416x640 1 license_plate, 167.1ms\n",
            "Speed: 4.6ms preprocess, 167.1ms inference, 1.8ms postprocess per image at shape (1, 3, 416, 640)\n",
            "\n",
            "0: 416x640 1 license_plate, 161.5ms\n",
            "Speed: 5.8ms preprocess, 161.5ms inference, 1.3ms postprocess per image at shape (1, 3, 416, 640)\n",
            "\n",
            "0: 416x640 1 license_plate, 151.5ms\n",
            "Speed: 4.6ms preprocess, 151.5ms inference, 1.1ms postprocess per image at shape (1, 3, 416, 640)\n",
            "\n",
            "0: 416x640 1 license_plate, 147.5ms\n",
            "Speed: 4.9ms preprocess, 147.5ms inference, 1.1ms postprocess per image at shape (1, 3, 416, 640)\n",
            "\n",
            "0: 416x640 1 license_plate, 157.2ms\n",
            "Speed: 4.7ms preprocess, 157.2ms inference, 1.3ms postprocess per image at shape (1, 3, 416, 640)\n",
            "\n",
            "0: 416x640 1 license_plate, 168.1ms\n",
            "Speed: 9.5ms preprocess, 168.1ms inference, 1.6ms postprocess per image at shape (1, 3, 416, 640)\n",
            "\n",
            "0: 416x640 1 license_plate, 159.9ms\n",
            "Speed: 5.1ms preprocess, 159.9ms inference, 1.2ms postprocess per image at shape (1, 3, 416, 640)\n",
            "\n",
            "0: 416x640 1 license_plate, 172.4ms\n",
            "Speed: 5.0ms preprocess, 172.4ms inference, 1.3ms postprocess per image at shape (1, 3, 416, 640)\n",
            "\n",
            "0: 416x640 1 license_plate, 233.2ms\n",
            "Speed: 7.9ms preprocess, 233.2ms inference, 1.6ms postprocess per image at shape (1, 3, 416, 640)\n",
            "\n",
            "0: 416x640 1 license_plate, 240.6ms\n",
            "Speed: 7.9ms preprocess, 240.6ms inference, 1.4ms postprocess per image at shape (1, 3, 416, 640)\n",
            "\n",
            "0: 416x640 1 license_plate, 245.7ms\n",
            "Speed: 6.0ms preprocess, 245.7ms inference, 1.6ms postprocess per image at shape (1, 3, 416, 640)\n",
            "\n",
            "0: 416x640 1 license_plate, 236.8ms\n",
            "Speed: 9.5ms preprocess, 236.8ms inference, 1.6ms postprocess per image at shape (1, 3, 416, 640)\n",
            "\n",
            "0: 416x640 1 license_plate, 252.7ms\n",
            "Speed: 8.3ms preprocess, 252.7ms inference, 1.7ms postprocess per image at shape (1, 3, 416, 640)\n",
            "\n",
            "0: 416x640 1 license_plate, 247.9ms\n",
            "Speed: 7.6ms preprocess, 247.9ms inference, 4.6ms postprocess per image at shape (1, 3, 416, 640)\n",
            "\n",
            "0: 416x640 1 license_plate, 159.9ms\n",
            "Speed: 6.6ms preprocess, 159.9ms inference, 1.3ms postprocess per image at shape (1, 3, 416, 640)\n",
            "\n",
            "0: 416x640 1 license_plate, 158.1ms\n",
            "Speed: 5.5ms preprocess, 158.1ms inference, 1.2ms postprocess per image at shape (1, 3, 416, 640)\n",
            "\n",
            "0: 416x640 1 license_plate, 166.8ms\n",
            "Speed: 5.0ms preprocess, 166.8ms inference, 1.3ms postprocess per image at shape (1, 3, 416, 640)\n",
            "\n",
            "0: 416x640 1 license_plate, 159.1ms\n",
            "Speed: 4.9ms preprocess, 159.1ms inference, 1.3ms postprocess per image at shape (1, 3, 416, 640)\n",
            "\n",
            "0: 416x640 1 license_plate, 177.6ms\n",
            "Speed: 4.6ms preprocess, 177.6ms inference, 1.3ms postprocess per image at shape (1, 3, 416, 640)\n",
            "\n",
            "0: 416x640 1 license_plate, 172.7ms\n",
            "Speed: 5.3ms preprocess, 172.7ms inference, 1.3ms postprocess per image at shape (1, 3, 416, 640)\n",
            "\n",
            "0: 416x640 1 license_plate, 163.0ms\n",
            "Speed: 5.0ms preprocess, 163.0ms inference, 1.3ms postprocess per image at shape (1, 3, 416, 640)\n",
            "\n",
            "0: 416x640 1 license_plate, 174.9ms\n",
            "Speed: 4.9ms preprocess, 174.9ms inference, 1.3ms postprocess per image at shape (1, 3, 416, 640)\n",
            "\n",
            "0: 416x640 1 license_plate, 184.6ms\n",
            "Speed: 5.1ms preprocess, 184.6ms inference, 1.3ms postprocess per image at shape (1, 3, 416, 640)\n",
            "\n",
            "0: 416x640 1 license_plate, 157.8ms\n",
            "Speed: 5.0ms preprocess, 157.8ms inference, 1.5ms postprocess per image at shape (1, 3, 416, 640)\n",
            "\n",
            "0: 416x640 1 license_plate, 160.5ms\n",
            "Speed: 4.8ms preprocess, 160.5ms inference, 1.5ms postprocess per image at shape (1, 3, 416, 640)\n",
            "\n",
            "0: 416x640 1 license_plate, 167.9ms\n",
            "Speed: 5.1ms preprocess, 167.9ms inference, 1.3ms postprocess per image at shape (1, 3, 416, 640)\n",
            "\n",
            "0: 416x640 1 license_plate, 162.6ms\n",
            "Speed: 5.1ms preprocess, 162.6ms inference, 1.3ms postprocess per image at shape (1, 3, 416, 640)\n",
            "\n",
            "0: 416x640 1 license_plate, 160.1ms\n",
            "Speed: 6.0ms preprocess, 160.1ms inference, 1.3ms postprocess per image at shape (1, 3, 416, 640)\n",
            "\n",
            "0: 416x640 1 license_plate, 163.3ms\n",
            "Speed: 6.9ms preprocess, 163.3ms inference, 1.2ms postprocess per image at shape (1, 3, 416, 640)\n",
            "\n",
            "0: 416x640 1 license_plate, 172.9ms\n",
            "Speed: 8.7ms preprocess, 172.9ms inference, 1.3ms postprocess per image at shape (1, 3, 416, 640)\n",
            "\n",
            "0: 416x640 1 license_plate, 168.0ms\n",
            "Speed: 4.7ms preprocess, 168.0ms inference, 1.2ms postprocess per image at shape (1, 3, 416, 640)\n",
            "\n",
            "0: 416x640 1 license_plate, 144.5ms\n",
            "Speed: 6.8ms preprocess, 144.5ms inference, 1.1ms postprocess per image at shape (1, 3, 416, 640)\n",
            "\n",
            "0: 416x640 1 license_plate, 146.8ms\n",
            "Speed: 7.3ms preprocess, 146.8ms inference, 1.1ms postprocess per image at shape (1, 3, 416, 640)\n",
            "\n",
            "0: 416x640 1 license_plate, 154.2ms\n",
            "Speed: 5.0ms preprocess, 154.2ms inference, 1.3ms postprocess per image at shape (1, 3, 416, 640)\n",
            "\n",
            "0: 416x640 1 license_plate, 154.7ms\n",
            "Speed: 4.4ms preprocess, 154.7ms inference, 1.2ms postprocess per image at shape (1, 3, 416, 640)\n",
            "\n",
            "0: 416x640 1 license_plate, 164.6ms\n",
            "Speed: 8.8ms preprocess, 164.6ms inference, 1.3ms postprocess per image at shape (1, 3, 416, 640)\n",
            "\n",
            "0: 416x640 1 license_plate, 182.9ms\n",
            "Speed: 5.8ms preprocess, 182.9ms inference, 1.8ms postprocess per image at shape (1, 3, 416, 640)\n",
            "\n",
            "0: 416x640 1 license_plate, 146.6ms\n",
            "Speed: 4.7ms preprocess, 146.6ms inference, 1.1ms postprocess per image at shape (1, 3, 416, 640)\n",
            "\n",
            "0: 416x640 1 license_plate, 147.3ms\n",
            "Speed: 4.4ms preprocess, 147.3ms inference, 1.2ms postprocess per image at shape (1, 3, 416, 640)\n",
            "\n",
            "0: 416x640 1 license_plate, 260.2ms\n",
            "Speed: 4.9ms preprocess, 260.2ms inference, 1.9ms postprocess per image at shape (1, 3, 416, 640)\n",
            "\n",
            "0: 416x640 1 license_plate, 259.0ms\n",
            "Speed: 10.2ms preprocess, 259.0ms inference, 2.7ms postprocess per image at shape (1, 3, 416, 640)\n",
            "\n",
            "0: 416x640 1 license_plate, 261.3ms\n",
            "Speed: 5.0ms preprocess, 261.3ms inference, 1.8ms postprocess per image at shape (1, 3, 416, 640)\n",
            "\n",
            "0: 416x640 1 license_plate, 242.8ms\n",
            "Speed: 4.6ms preprocess, 242.8ms inference, 1.6ms postprocess per image at shape (1, 3, 416, 640)\n",
            "\n",
            "0: 416x640 1 license_plate, 246.2ms\n",
            "Speed: 7.7ms preprocess, 246.2ms inference, 1.4ms postprocess per image at shape (1, 3, 416, 640)\n",
            "\n",
            "0: 416x640 1 license_plate, 226.3ms\n",
            "Speed: 4.5ms preprocess, 226.3ms inference, 1.3ms postprocess per image at shape (1, 3, 416, 640)\n",
            "\n",
            "0: 416x640 1 license_plate, 231.6ms\n",
            "Speed: 4.6ms preprocess, 231.6ms inference, 2.0ms postprocess per image at shape (1, 3, 416, 640)\n",
            "\n",
            "0: 416x640 2 license_plates, 243.0ms\n",
            "Speed: 4.3ms preprocess, 243.0ms inference, 1.4ms postprocess per image at shape (1, 3, 416, 640)\n",
            "\n",
            "0: 416x640 1 license_plate, 240.3ms\n",
            "Speed: 5.7ms preprocess, 240.3ms inference, 1.2ms postprocess per image at shape (1, 3, 416, 640)\n",
            "\n",
            "0: 416x640 1 license_plate, 156.6ms\n",
            "Speed: 4.9ms preprocess, 156.6ms inference, 1.2ms postprocess per image at shape (1, 3, 416, 640)\n",
            "\n",
            "0: 416x640 1 license_plate, 146.4ms\n",
            "Speed: 4.9ms preprocess, 146.4ms inference, 1.1ms postprocess per image at shape (1, 3, 416, 640)\n",
            "\n",
            "0: 416x640 1 license_plate, 148.2ms\n",
            "Speed: 4.5ms preprocess, 148.2ms inference, 1.1ms postprocess per image at shape (1, 3, 416, 640)\n",
            "\n",
            "0: 416x640 (no detections), 142.8ms\n",
            "Speed: 4.5ms preprocess, 142.8ms inference, 0.7ms postprocess per image at shape (1, 3, 416, 640)\n",
            "\n",
            "0: 416x640 (no detections), 145.5ms\n",
            "Speed: 4.2ms preprocess, 145.5ms inference, 0.7ms postprocess per image at shape (1, 3, 416, 640)\n",
            "\n",
            "0: 416x640 (no detections), 171.6ms\n",
            "Speed: 7.7ms preprocess, 171.6ms inference, 0.7ms postprocess per image at shape (1, 3, 416, 640)\n",
            "\n",
            "0: 416x640 1 license_plate, 149.0ms\n",
            "Speed: 4.7ms preprocess, 149.0ms inference, 1.1ms postprocess per image at shape (1, 3, 416, 640)\n",
            "\n",
            "0: 416x640 1 license_plate, 146.2ms\n",
            "Speed: 4.8ms preprocess, 146.2ms inference, 1.1ms postprocess per image at shape (1, 3, 416, 640)\n",
            "\n",
            "0: 416x640 (no detections), 151.9ms\n",
            "Speed: 4.4ms preprocess, 151.9ms inference, 0.7ms postprocess per image at shape (1, 3, 416, 640)\n",
            "\n",
            "0: 416x640 (no detections), 144.2ms\n",
            "Speed: 4.7ms preprocess, 144.2ms inference, 0.7ms postprocess per image at shape (1, 3, 416, 640)\n",
            "\n",
            "0: 416x640 (no detections), 147.4ms\n",
            "Speed: 4.6ms preprocess, 147.4ms inference, 0.8ms postprocess per image at shape (1, 3, 416, 640)\n",
            "\n",
            "0: 416x640 (no detections), 154.3ms\n",
            "Speed: 4.9ms preprocess, 154.3ms inference, 0.8ms postprocess per image at shape (1, 3, 416, 640)\n",
            "\n",
            "0: 416x640 1 license_plate, 161.4ms\n",
            "Speed: 5.1ms preprocess, 161.4ms inference, 1.3ms postprocess per image at shape (1, 3, 416, 640)\n",
            "\n",
            "0: 416x640 (no detections), 162.5ms\n",
            "Speed: 4.9ms preprocess, 162.5ms inference, 0.8ms postprocess per image at shape (1, 3, 416, 640)\n",
            "\n",
            "0: 416x640 (no detections), 158.2ms\n",
            "Speed: 5.2ms preprocess, 158.2ms inference, 0.8ms postprocess per image at shape (1, 3, 416, 640)\n",
            "\n",
            "0: 416x640 (no detections), 145.1ms\n",
            "Speed: 5.1ms preprocess, 145.1ms inference, 0.7ms postprocess per image at shape (1, 3, 416, 640)\n",
            "\n",
            "0: 416x640 (no detections), 144.2ms\n",
            "Speed: 5.3ms preprocess, 144.2ms inference, 0.7ms postprocess per image at shape (1, 3, 416, 640)\n",
            "\n",
            "0: 416x640 (no detections), 145.0ms\n",
            "Speed: 4.6ms preprocess, 145.0ms inference, 0.7ms postprocess per image at shape (1, 3, 416, 640)\n",
            "\n",
            "0: 416x640 (no detections), 176.1ms\n",
            "Speed: 4.6ms preprocess, 176.1ms inference, 0.7ms postprocess per image at shape (1, 3, 416, 640)\n",
            "\n",
            "0: 416x640 (no detections), 148.7ms\n",
            "Speed: 4.8ms preprocess, 148.7ms inference, 0.8ms postprocess per image at shape (1, 3, 416, 640)\n",
            "\n",
            "0: 416x640 (no detections), 145.6ms\n",
            "Speed: 4.5ms preprocess, 145.6ms inference, 0.7ms postprocess per image at shape (1, 3, 416, 640)\n",
            "\n",
            "0: 416x640 (no detections), 143.8ms\n",
            "Speed: 4.5ms preprocess, 143.8ms inference, 0.7ms postprocess per image at shape (1, 3, 416, 640)\n",
            "\n",
            "0: 416x640 (no detections), 149.5ms\n",
            "Speed: 4.4ms preprocess, 149.5ms inference, 0.7ms postprocess per image at shape (1, 3, 416, 640)\n",
            "\n",
            "0: 416x640 (no detections), 156.2ms\n",
            "Speed: 6.7ms preprocess, 156.2ms inference, 0.7ms postprocess per image at shape (1, 3, 416, 640)\n",
            "\n",
            "0: 416x640 (no detections), 164.2ms\n",
            "Speed: 4.8ms preprocess, 164.2ms inference, 0.7ms postprocess per image at shape (1, 3, 416, 640)\n",
            "\n",
            "0: 416x640 (no detections), 146.1ms\n",
            "Speed: 4.1ms preprocess, 146.1ms inference, 0.7ms postprocess per image at shape (1, 3, 416, 640)\n",
            "\n",
            "0: 416x640 (no detections), 148.6ms\n",
            "Speed: 4.6ms preprocess, 148.6ms inference, 0.7ms postprocess per image at shape (1, 3, 416, 640)\n",
            "\n",
            "0: 416x640 (no detections), 158.5ms\n",
            "Speed: 7.0ms preprocess, 158.5ms inference, 0.8ms postprocess per image at shape (1, 3, 416, 640)\n",
            "\n",
            "0: 416x640 (no detections), 173.5ms\n",
            "Speed: 4.9ms preprocess, 173.5ms inference, 1.0ms postprocess per image at shape (1, 3, 416, 640)\n",
            "\n",
            "0: 416x640 (no detections), 154.7ms\n",
            "Speed: 5.3ms preprocess, 154.7ms inference, 0.8ms postprocess per image at shape (1, 3, 416, 640)\n",
            "\n",
            "0: 416x640 (no detections), 180.3ms\n",
            "Speed: 5.2ms preprocess, 180.3ms inference, 0.8ms postprocess per image at shape (1, 3, 416, 640)\n",
            "\n",
            "0: 416x640 (no detections), 154.0ms\n",
            "Speed: 4.8ms preprocess, 154.0ms inference, 1.0ms postprocess per image at shape (1, 3, 416, 640)\n",
            "\n",
            "0: 416x640 (no detections), 168.2ms\n",
            "Speed: 4.6ms preprocess, 168.2ms inference, 0.7ms postprocess per image at shape (1, 3, 416, 640)\n",
            "\n",
            "0: 416x640 (no detections), 148.8ms\n",
            "Speed: 4.5ms preprocess, 148.8ms inference, 0.6ms postprocess per image at shape (1, 3, 416, 640)\n",
            "\n",
            "0: 416x640 (no detections), 147.2ms\n",
            "Speed: 5.7ms preprocess, 147.2ms inference, 0.7ms postprocess per image at shape (1, 3, 416, 640)\n",
            "\n",
            "0: 416x640 (no detections), 163.9ms\n",
            "Speed: 4.6ms preprocess, 163.9ms inference, 0.7ms postprocess per image at shape (1, 3, 416, 640)\n",
            "\n",
            "0: 416x640 (no detections), 144.7ms\n",
            "Speed: 6.0ms preprocess, 144.7ms inference, 0.7ms postprocess per image at shape (1, 3, 416, 640)\n",
            "\n",
            "0: 416x640 (no detections), 145.8ms\n",
            "Speed: 4.3ms preprocess, 145.8ms inference, 0.9ms postprocess per image at shape (1, 3, 416, 640)\n",
            "\n",
            "0: 416x640 (no detections), 155.5ms\n",
            "Speed: 6.8ms preprocess, 155.5ms inference, 0.8ms postprocess per image at shape (1, 3, 416, 640)\n",
            "\n",
            "0: 416x640 (no detections), 158.3ms\n",
            "Speed: 7.3ms preprocess, 158.3ms inference, 0.9ms postprocess per image at shape (1, 3, 416, 640)\n",
            "\n",
            "0: 416x640 (no detections), 152.1ms\n",
            "Speed: 4.9ms preprocess, 152.1ms inference, 0.8ms postprocess per image at shape (1, 3, 416, 640)\n",
            "\n",
            "0: 416x640 (no detections), 171.8ms\n",
            "Speed: 5.0ms preprocess, 171.8ms inference, 1.1ms postprocess per image at shape (1, 3, 416, 640)\n",
            "\n",
            "0: 416x640 (no detections), 156.4ms\n",
            "Speed: 5.7ms preprocess, 156.4ms inference, 0.7ms postprocess per image at shape (1, 3, 416, 640)\n",
            "\n",
            "0: 416x640 (no detections), 150.7ms\n",
            "Speed: 5.8ms preprocess, 150.7ms inference, 0.9ms postprocess per image at shape (1, 3, 416, 640)\n",
            "\n",
            "0: 416x640 (no detections), 158.5ms\n",
            "Speed: 5.2ms preprocess, 158.5ms inference, 0.7ms postprocess per image at shape (1, 3, 416, 640)\n",
            "\n",
            "0: 416x640 (no detections), 175.8ms\n",
            "Speed: 5.1ms preprocess, 175.8ms inference, 1.4ms postprocess per image at shape (1, 3, 416, 640)\n",
            "\n",
            "0: 416x640 (no detections), 248.5ms\n",
            "Speed: 5.3ms preprocess, 248.5ms inference, 0.8ms postprocess per image at shape (1, 3, 416, 640)\n",
            "\n",
            "0: 416x640 (no detections), 238.7ms\n",
            "Speed: 5.0ms preprocess, 238.7ms inference, 0.9ms postprocess per image at shape (1, 3, 416, 640)\n",
            "\n",
            "0: 416x640 (no detections), 223.2ms\n",
            "Speed: 6.8ms preprocess, 223.2ms inference, 0.8ms postprocess per image at shape (1, 3, 416, 640)\n",
            "\n",
            "0: 416x640 (no detections), 230.4ms\n",
            "Speed: 5.1ms preprocess, 230.4ms inference, 0.9ms postprocess per image at shape (1, 3, 416, 640)\n",
            "\n",
            "0: 416x640 (no detections), 249.3ms\n",
            "Speed: 7.7ms preprocess, 249.3ms inference, 0.8ms postprocess per image at shape (1, 3, 416, 640)\n",
            "\n",
            "0: 416x640 (no detections), 251.9ms\n",
            "Speed: 4.5ms preprocess, 251.9ms inference, 1.2ms postprocess per image at shape (1, 3, 416, 640)\n",
            "\n",
            "0: 416x640 (no detections), 249.8ms\n",
            "Speed: 7.1ms preprocess, 249.8ms inference, 0.9ms postprocess per image at shape (1, 3, 416, 640)\n",
            "\n",
            "0: 416x640 (no detections), 245.2ms\n",
            "Speed: 5.1ms preprocess, 245.2ms inference, 1.0ms postprocess per image at shape (1, 3, 416, 640)\n",
            "\n",
            "0: 416x640 (no detections), 246.5ms\n",
            "Speed: 9.5ms preprocess, 246.5ms inference, 1.0ms postprocess per image at shape (1, 3, 416, 640)\n",
            "\n",
            "0: 416x640 (no detections), 239.4ms\n",
            "Speed: 5.9ms preprocess, 239.4ms inference, 0.9ms postprocess per image at shape (1, 3, 416, 640)\n",
            "\n",
            "0: 416x640 (no detections), 232.1ms\n",
            "Speed: 9.9ms preprocess, 232.1ms inference, 0.9ms postprocess per image at shape (1, 3, 416, 640)\n"
          ]
        }
      ]
    },
    {
      "cell_type": "code",
      "source": [],
      "metadata": {
        "id": "BBfLSn9KMmJ2"
      },
      "execution_count": null,
      "outputs": []
    }
  ]
}